{
  "nbformat": 4,
  "nbformat_minor": 0,
  "metadata": {
    "colab": {
      "name": "Intermediate_Python.ipynb",
      "provenance": [],
      "collapsed_sections": []
    },
    "kernelspec": {
      "name": "python3",
      "display_name": "Python 3"
    },
    "language_info": {
      "name": "python"
    }
  },
  "cells": [
    {
      "cell_type": "markdown",
      "metadata": {
        "id": "iiaYt2OUG7WL"
      },
      "source": [
        "# list"
      ]
    },
    {
      "cell_type": "code",
      "metadata": {
        "id": "j6upJaTK9Vbg"
      },
      "source": [
        "lst_1 = ['banana', 'cherry', 'apple']"
      ],
      "execution_count": null,
      "outputs": []
    },
    {
      "cell_type": "code",
      "metadata": {
        "colab": {
          "base_uri": "https://localhost:8080/"
        },
        "id": "qvmBNWkYGsm7",
        "outputId": "958cd78b-7865-46e0-952a-7e6f6cabfd40"
      },
      "source": [
        "lst_1"
      ],
      "execution_count": null,
      "outputs": [
        {
          "output_type": "execute_result",
          "data": {
            "text/plain": [
              "['banana', 'cherry', 'apple']"
            ]
          },
          "metadata": {
            "tags": []
          },
          "execution_count": 2
        }
      ]
    },
    {
      "cell_type": "code",
      "metadata": {
        "colab": {
          "base_uri": "https://localhost:8080/"
        },
        "id": "EXF9TOhnGvty",
        "outputId": "bc23bd9d-a29d-4e7c-a156-3be0834a9dab"
      },
      "source": [
        "lst_2 = []\n",
        "lst_2"
      ],
      "execution_count": null,
      "outputs": [
        {
          "output_type": "execute_result",
          "data": {
            "text/plain": [
              "[]"
            ]
          },
          "metadata": {
            "tags": []
          },
          "execution_count": 4
        }
      ]
    },
    {
      "cell_type": "code",
      "metadata": {
        "colab": {
          "base_uri": "https://localhost:8080/"
        },
        "id": "Rt70H9L3GyQg",
        "outputId": "db28f02f-8704-45dd-f68e-774f8686488e"
      },
      "source": [
        "lst_3 = list()\n",
        "lst_3"
      ],
      "execution_count": null,
      "outputs": [
        {
          "output_type": "execute_result",
          "data": {
            "text/plain": [
              "[]"
            ]
          },
          "metadata": {
            "tags": []
          },
          "execution_count": 5
        }
      ]
    },
    {
      "cell_type": "code",
      "metadata": {
        "colab": {
          "base_uri": "https://localhost:8080/"
        },
        "id": "tDsbSKgwG4QC",
        "outputId": "6bc56ae5-8932-4b0f-cfbf-53fc77601185"
      },
      "source": [
        "lst_4 = [5, True, 'apple', 5]\n",
        "lst_4"
      ],
      "execution_count": null,
      "outputs": [
        {
          "output_type": "execute_result",
          "data": {
            "text/plain": [
              "[5, True, 'apple', 5]"
            ]
          },
          "metadata": {
            "tags": []
          },
          "execution_count": 7
        }
      ]
    },
    {
      "cell_type": "code",
      "metadata": {
        "colab": {
          "base_uri": "https://localhost:8080/",
          "height": 35
        },
        "id": "CqGM9uAiG5VS",
        "outputId": "9001c8ec-7523-4ddc-a871-394c91b79368"
      },
      "source": [
        "lst_1[0]"
      ],
      "execution_count": null,
      "outputs": [
        {
          "output_type": "execute_result",
          "data": {
            "application/vnd.google.colaboratory.intrinsic+json": {
              "type": "string"
            },
            "text/plain": [
              "'banana'"
            ]
          },
          "metadata": {
            "tags": []
          },
          "execution_count": 8
        }
      ]
    },
    {
      "cell_type": "code",
      "metadata": {
        "colab": {
          "base_uri": "https://localhost:8080/",
          "height": 35
        },
        "id": "wmWoxUzjG5YC",
        "outputId": "d3073e30-a489-42a8-e0a4-817cfb517fa4"
      },
      "source": [
        "lst_1[-1]"
      ],
      "execution_count": null,
      "outputs": [
        {
          "output_type": "execute_result",
          "data": {
            "application/vnd.google.colaboratory.intrinsic+json": {
              "type": "string"
            },
            "text/plain": [
              "'apple'"
            ]
          },
          "metadata": {
            "tags": []
          },
          "execution_count": 9
        }
      ]
    },
    {
      "cell_type": "code",
      "metadata": {
        "colab": {
          "base_uri": "https://localhost:8080/"
        },
        "id": "eqx_SMngG5bh",
        "outputId": "e510c031-fe24-4afb-b02b-6e5583f1957c"
      },
      "source": [
        "print(lst_1)\n",
        "item = lst_1[2]\n",
        "print(item)\n",
        "\n",
        "lst_1[2] = 'avocado'\n",
        "print(lst_1)"
      ],
      "execution_count": null,
      "outputs": [
        {
          "output_type": "stream",
          "text": [
            "['banana', 'cherry', 'apple']\n",
            "apple\n",
            "['banana', 'cherry', 'avocado']\n"
          ],
          "name": "stdout"
        }
      ]
    },
    {
      "cell_type": "code",
      "metadata": {
        "colab": {
          "base_uri": "https://localhost:8080/"
        },
        "id": "Nr1BBC74HZdk",
        "outputId": "2e1bc442-8104-4350-ccfc-d41787799acc"
      },
      "source": [
        "len(lst_1)"
      ],
      "execution_count": null,
      "outputs": [
        {
          "output_type": "execute_result",
          "data": {
            "text/plain": [
              "3"
            ]
          },
          "metadata": {
            "tags": []
          },
          "execution_count": 12
        }
      ]
    },
    {
      "cell_type": "code",
      "metadata": {
        "colab": {
          "base_uri": "https://localhost:8080/"
        },
        "id": "XYdSnJ4DHZgZ",
        "outputId": "a8d3a4a4-967f-4036-a765-2e5f3adefc49"
      },
      "source": [
        "print(lst_1)\n",
        "lst_1.append('orange')\n",
        "print(lst_1)"
      ],
      "execution_count": null,
      "outputs": [
        {
          "output_type": "stream",
          "text": [
            "['banana', 'cherry', 'avocado']\n",
            "['banana', 'cherry', 'avocado', 'orange']\n"
          ],
          "name": "stdout"
        }
      ]
    },
    {
      "cell_type": "code",
      "metadata": {
        "colab": {
          "base_uri": "https://localhost:8080/"
        },
        "id": "gDeV1Z_nHZi-",
        "outputId": "e818b648-7b5a-4daf-ead7-b7d2c49b3500"
      },
      "source": [
        "print(lst_1)\n",
        "lst_1.insert(0,'grape')\n",
        "print(lst_1)"
      ],
      "execution_count": null,
      "outputs": [
        {
          "output_type": "stream",
          "text": [
            "['banana', 'cherry', 'avocado', 'orange']\n",
            "['grape', 'banana', 'cherry', 'avocado', 'orange']\n"
          ],
          "name": "stdout"
        }
      ]
    },
    {
      "cell_type": "code",
      "metadata": {
        "id": "IJ6j2ycLICXo"
      },
      "source": [
        "item_poped = lst_1.pop()"
      ],
      "execution_count": null,
      "outputs": []
    },
    {
      "cell_type": "code",
      "metadata": {
        "colab": {
          "base_uri": "https://localhost:8080/"
        },
        "id": "fIaaGQOEICac",
        "outputId": "f274c009-66df-47f8-90aa-c6c549a18239"
      },
      "source": [
        "print(lst_1)\n",
        "print(item_poped)"
      ],
      "execution_count": null,
      "outputs": [
        {
          "output_type": "stream",
          "text": [
            "['grape', 'banana', 'cherry', 'avocado']\n",
            "orange\n"
          ],
          "name": "stdout"
        }
      ]
    },
    {
      "cell_type": "code",
      "metadata": {
        "colab": {
          "base_uri": "https://localhost:8080/"
        },
        "id": "NhA07rAqICc9",
        "outputId": "3fe90e5f-0e6d-45bf-de45-81de9f326826"
      },
      "source": [
        "print(lst_1)\n",
        "lst_1.remove('cherry')\n",
        "print(lst_1)"
      ],
      "execution_count": null,
      "outputs": [
        {
          "output_type": "stream",
          "text": [
            "['grape', 'banana', 'cherry', 'avocado']\n",
            "['grape', 'banana', 'avocado']\n"
          ],
          "name": "stdout"
        }
      ]
    },
    {
      "cell_type": "code",
      "metadata": {
        "colab": {
          "base_uri": "https://localhost:8080/"
        },
        "id": "Og7IFd2kICgK",
        "outputId": "1367535b-3d57-4506-ad0b-62390d1d4d81"
      },
      "source": [
        "print(lst_1)\n",
        "lst_1.clear()\n",
        "print(lst_1)"
      ],
      "execution_count": null,
      "outputs": [
        {
          "output_type": "stream",
          "text": [
            "['grape', 'banana', 'avocado']\n",
            "[]\n"
          ],
          "name": "stdout"
        }
      ]
    },
    {
      "cell_type": "code",
      "metadata": {
        "colab": {
          "base_uri": "https://localhost:8080/"
        },
        "id": "8ZYJ6LjSJji3",
        "outputId": "79d86faf-f31c-4b7d-8821-52a89d5566d4"
      },
      "source": [
        "my_lst = ['banana', 'cherry', 'apple']\n",
        "my_lst"
      ],
      "execution_count": null,
      "outputs": [
        {
          "output_type": "execute_result",
          "data": {
            "text/plain": [
              "['banana', 'cherry', 'apple']"
            ]
          },
          "metadata": {
            "tags": []
          },
          "execution_count": 40
        }
      ]
    },
    {
      "cell_type": "code",
      "metadata": {
        "colab": {
          "base_uri": "https://localhost:8080/"
        },
        "id": "u_SBQuTjJk8t",
        "outputId": "dcc8dff3-0a21-446a-e5bd-e492d02efe77"
      },
      "source": [
        "my_lst.reverse()\n",
        "my_lst"
      ],
      "execution_count": null,
      "outputs": [
        {
          "output_type": "execute_result",
          "data": {
            "text/plain": [
              "['apple', 'cherry', 'banana']"
            ]
          },
          "metadata": {
            "tags": []
          },
          "execution_count": 41
        }
      ]
    },
    {
      "cell_type": "code",
      "metadata": {
        "colab": {
          "base_uri": "https://localhost:8080/"
        },
        "id": "k8YjvvDrJlCJ",
        "outputId": "eabbc66c-ee15-4cc8-e356-1295b407aade"
      },
      "source": [
        "my_lst = ['banana', 'cherry', 'apple']\n",
        "my_lst"
      ],
      "execution_count": null,
      "outputs": [
        {
          "output_type": "execute_result",
          "data": {
            "text/plain": [
              "['banana', 'cherry', 'apple']"
            ]
          },
          "metadata": {
            "tags": []
          },
          "execution_count": 42
        }
      ]
    },
    {
      "cell_type": "code",
      "metadata": {
        "colab": {
          "base_uri": "https://localhost:8080/"
        },
        "id": "k0wlY-B8Kwuy",
        "outputId": "7f446ea6-0f0b-4549-834a-abac19183589"
      },
      "source": [
        "my_lst.sort()\n",
        "my_lst"
      ],
      "execution_count": null,
      "outputs": [
        {
          "output_type": "execute_result",
          "data": {
            "text/plain": [
              "['apple', 'banana', 'cherry']"
            ]
          },
          "metadata": {
            "tags": []
          },
          "execution_count": 44
        }
      ]
    },
    {
      "cell_type": "code",
      "metadata": {
        "colab": {
          "base_uri": "https://localhost:8080/"
        },
        "id": "N6hDTxxxKyoc",
        "outputId": "db0c3dc6-0b1a-4e51-a06f-a128af2215dd"
      },
      "source": [
        "my_lst = ['banana', 'cherry', 'apple']\n",
        "print(my_lst)\n",
        "\n",
        "lst_sorted = sorted(my_lst)\n",
        "print(lst_sorted)"
      ],
      "execution_count": null,
      "outputs": [
        {
          "output_type": "stream",
          "text": [
            "['banana', 'cherry', 'apple']\n",
            "['apple', 'banana', 'cherry']\n"
          ],
          "name": "stdout"
        }
      ]
    },
    {
      "cell_type": "code",
      "metadata": {
        "colab": {
          "base_uri": "https://localhost:8080/"
        },
        "id": "zxqWhPbVLCt-",
        "outputId": "569d4103-70b3-4f15-9be8-ba379afe66bb"
      },
      "source": [
        "lst_0s = [0] * 5\n",
        "lst_0s"
      ],
      "execution_count": null,
      "outputs": [
        {
          "output_type": "execute_result",
          "data": {
            "text/plain": [
              "[0, 0, 0, 0, 0]"
            ]
          },
          "metadata": {
            "tags": []
          },
          "execution_count": 47
        }
      ]
    },
    {
      "cell_type": "code",
      "metadata": {
        "colab": {
          "base_uri": "https://localhost:8080/"
        },
        "id": "1HRdg1LCLDlt",
        "outputId": "a779e17c-57d4-42f2-d045-a580144b3373"
      },
      "source": [
        "lst_concat = lst_0s + my_lst\n",
        "lst_concat"
      ],
      "execution_count": null,
      "outputs": [
        {
          "output_type": "execute_result",
          "data": {
            "text/plain": [
              "[0, 0, 0, 0, 0, 'banana', 'cherry', 'apple']"
            ]
          },
          "metadata": {
            "tags": []
          },
          "execution_count": 48
        }
      ]
    },
    {
      "cell_type": "code",
      "metadata": {
        "colab": {
          "base_uri": "https://localhost:8080/"
        },
        "id": "XwwvSnaqLDoY",
        "outputId": "31669d09-9efe-4889-e07d-48aa77ecffbc"
      },
      "source": [
        "str_to_lst = list('Hello')\n",
        "print(str_to_lst)"
      ],
      "execution_count": null,
      "outputs": [
        {
          "output_type": "stream",
          "text": [
            "['H', 'e', 'l', 'l', 'o']\n"
          ],
          "name": "stdout"
        }
      ]
    },
    {
      "cell_type": "code",
      "metadata": {
        "id": "agyivAoVLDrA"
      },
      "source": [
        "lst_orginal = ['banana', 'cherry', 'apple']"
      ],
      "execution_count": null,
      "outputs": []
    },
    {
      "cell_type": "code",
      "metadata": {
        "id": "Oc09dGz6LDuB"
      },
      "source": [
        "lst_copied = lst_orginal"
      ],
      "execution_count": null,
      "outputs": []
    },
    {
      "cell_type": "code",
      "metadata": {
        "colab": {
          "base_uri": "https://localhost:8080/"
        },
        "id": "bS_Pp-_fLsBo",
        "outputId": "d10ad69e-b5e2-4831-dad1-19a5ac908e73"
      },
      "source": [
        "lst_copied.append(True)\n",
        "print(lst_orginal)\n",
        "print(lst_copied)"
      ],
      "execution_count": null,
      "outputs": [
        {
          "output_type": "stream",
          "text": [
            "['banana', 'cherry', 'apple', True]\n",
            "['banana', 'cherry', 'apple', True]\n"
          ],
          "name": "stdout"
        }
      ]
    },
    {
      "cell_type": "code",
      "metadata": {
        "colab": {
          "base_uri": "https://localhost:8080/"
        },
        "id": "gU-DkmgoL3j-",
        "outputId": "082b4a1e-ae8a-4aa8-ce59-51ae44744f10"
      },
      "source": [
        "lst_org = [\"banana\", \"cherry\", \"apple\"]\n",
        "\n",
        "lst_copy_1 = lst_org.copy()\n",
        "lst_copy_2 = list(lst_org)\n",
        "lst_copy_3 = lst_org[:]\n",
        "\n",
        "print(lst_copy_1)\n",
        "print(lst_copy_2)\n",
        "print(lst_copy_3)"
      ],
      "execution_count": null,
      "outputs": [
        {
          "output_type": "stream",
          "text": [
            "['banana', 'cherry', 'apple']\n",
            "['banana', 'cherry', 'apple']\n",
            "['banana', 'cherry', 'apple']\n"
          ],
          "name": "stdout"
        }
      ]
    },
    {
      "cell_type": "code",
      "metadata": {
        "colab": {
          "base_uri": "https://localhost:8080/"
        },
        "id": "71plYzagMRFa",
        "outputId": "b0e3590e-b1cf-4a25-e1d5-1af92e25705f"
      },
      "source": [
        "for i in lst_org:\n",
        "  print(i)"
      ],
      "execution_count": null,
      "outputs": [
        {
          "output_type": "stream",
          "text": [
            "banana\n",
            "cherry\n",
            "apple\n"
          ],
          "name": "stdout"
        }
      ]
    },
    {
      "cell_type": "code",
      "metadata": {
        "colab": {
          "base_uri": "https://localhost:8080/"
        },
        "id": "PP9yeVcoMVD3",
        "outputId": "04f3abf3-80d9-406d-f44f-4250176f7950"
      },
      "source": [
        "if 'banana' in lst_org:\n",
        "  print('yes')\n",
        "else:\n",
        "  print('no')"
      ],
      "execution_count": null,
      "outputs": [
        {
          "output_type": "stream",
          "text": [
            "yes\n"
          ],
          "name": "stdout"
        }
      ]
    },
    {
      "cell_type": "code",
      "metadata": {
        "colab": {
          "base_uri": "https://localhost:8080/"
        },
        "id": "IKppwP4ZMp42",
        "outputId": "10df2503-70e3-4c2f-f6b9-a008ac728f02"
      },
      "source": [
        "a = list(range(1, 11))\n",
        "a"
      ],
      "execution_count": null,
      "outputs": [
        {
          "output_type": "execute_result",
          "data": {
            "text/plain": [
              "[1, 2, 3, 4, 5, 6, 7, 8, 9, 10]"
            ]
          },
          "metadata": {
            "tags": []
          },
          "execution_count": 60
        }
      ]
    },
    {
      "cell_type": "code",
      "metadata": {
        "colab": {
          "base_uri": "https://localhost:8080/"
        },
        "id": "_S7UuSEgMuzA",
        "outputId": "45d1d9fa-6942-49cc-876a-5cc9f9a78ca1"
      },
      "source": [
        "b = a[1:3]\n",
        "b"
      ],
      "execution_count": null,
      "outputs": [
        {
          "output_type": "execute_result",
          "data": {
            "text/plain": [
              "[2, 3]"
            ]
          },
          "metadata": {
            "tags": []
          },
          "execution_count": 62
        }
      ]
    },
    {
      "cell_type": "code",
      "metadata": {
        "colab": {
          "base_uri": "https://localhost:8080/"
        },
        "id": "mnOuzPDbMz-C",
        "outputId": "edb34909-4c67-429d-ec7e-7d5daa6e1c83"
      },
      "source": [
        "a[::-1]"
      ],
      "execution_count": null,
      "outputs": [
        {
          "output_type": "execute_result",
          "data": {
            "text/plain": [
              "[10, 9, 8, 7, 6, 5, 4, 3, 2, 1]"
            ]
          },
          "metadata": {
            "tags": []
          },
          "execution_count": 63
        }
      ]
    },
    {
      "cell_type": "code",
      "metadata": {
        "colab": {
          "base_uri": "https://localhost:8080/"
        },
        "id": "aXwseb0-M9HK",
        "outputId": "743e448c-bbc5-47ad-b6b5-654f3831428f"
      },
      "source": [
        "b = [x**2 for x in a]\n",
        "b"
      ],
      "execution_count": null,
      "outputs": [
        {
          "output_type": "execute_result",
          "data": {
            "text/plain": [
              "[1, 4, 9, 16, 25, 36, 49, 64, 81, 100]"
            ]
          },
          "metadata": {
            "tags": []
          },
          "execution_count": 65
        }
      ]
    },
    {
      "cell_type": "code",
      "metadata": {
        "id": "nm619PtENIzS"
      },
      "source": [
        ""
      ],
      "execution_count": null,
      "outputs": []
    },
    {
      "cell_type": "code",
      "metadata": {
        "id": "cFM7ml_RNNH8"
      },
      "source": [
        ""
      ],
      "execution_count": null,
      "outputs": []
    },
    {
      "cell_type": "markdown",
      "metadata": {
        "id": "YvUzZh4cNOGI"
      },
      "source": [
        "# tuple"
      ]
    },
    {
      "cell_type": "code",
      "metadata": {
        "colab": {
          "base_uri": "https://localhost:8080/"
        },
        "id": "vmOOJXtWNNRs",
        "outputId": "ac89fa1c-60a1-4219-c85e-5f39dab0c34a"
      },
      "source": [
        "tup_1 = ('Max')\n",
        "type(tup_1)"
      ],
      "execution_count": null,
      "outputs": [
        {
          "output_type": "execute_result",
          "data": {
            "text/plain": [
              "str"
            ]
          },
          "metadata": {
            "tags": []
          },
          "execution_count": 6
        }
      ]
    },
    {
      "cell_type": "code",
      "metadata": {
        "colab": {
          "base_uri": "https://localhost:8080/"
        },
        "id": "SbxwOkwqNR0o",
        "outputId": "5eb4975f-2029-42e0-e1f6-6f13e5ea04c5"
      },
      "source": [
        "tup_2 = ('Max',)\n",
        "type(tup_2)"
      ],
      "execution_count": null,
      "outputs": [
        {
          "output_type": "execute_result",
          "data": {
            "text/plain": [
              "tuple"
            ]
          },
          "metadata": {
            "tags": []
          },
          "execution_count": 5
        }
      ]
    },
    {
      "cell_type": "code",
      "metadata": {
        "colab": {
          "base_uri": "https://localhost:8080/"
        },
        "id": "sYiMSL3ENR3G",
        "outputId": "47a2466e-79d1-4200-ece0-6f9e351f5f68"
      },
      "source": [
        "tup_3 = ('Mad', 'Max')\n",
        "print(type(tup_3))\n",
        "print(tup_3)"
      ],
      "execution_count": null,
      "outputs": [
        {
          "output_type": "stream",
          "text": [
            "<class 'tuple'>\n",
            "('Mad', 'Max')\n"
          ],
          "name": "stdout"
        }
      ]
    },
    {
      "cell_type": "code",
      "metadata": {
        "colab": {
          "base_uri": "https://localhost:8080/"
        },
        "id": "_QZethonNR55",
        "outputId": "948e58cf-fbe1-4412-c726-c8201dab1b13"
      },
      "source": [
        "tup_4 = tuple(['Max'])\n",
        "print(type(tup_4))\n",
        "print(tup_4)"
      ],
      "execution_count": null,
      "outputs": [
        {
          "output_type": "stream",
          "text": [
            "<class 'tuple'>\n",
            "('Max',)\n"
          ],
          "name": "stdout"
        }
      ]
    },
    {
      "cell_type": "code",
      "metadata": {
        "colab": {
          "base_uri": "https://localhost:8080/"
        },
        "id": "iUxqz1_JNR9G",
        "outputId": "ba6ab280-15a3-42d3-bd15-ad846a1caa33"
      },
      "source": [
        "if 'Max' in tup_3:\n",
        "  print('Yes')\n",
        "else:\n",
        "  print('No')"
      ],
      "execution_count": null,
      "outputs": [
        {
          "output_type": "stream",
          "text": [
            "Yes\n"
          ],
          "name": "stdout"
        }
      ]
    },
    {
      "cell_type": "code",
      "metadata": {
        "id": "rdd6MhyUctb9"
      },
      "source": [
        "tup_apple = ('a', 'p', 'p', 'l', 'e')"
      ],
      "execution_count": null,
      "outputs": []
    },
    {
      "cell_type": "code",
      "metadata": {
        "colab": {
          "base_uri": "https://localhost:8080/"
        },
        "id": "EjYSuAfDc-QZ",
        "outputId": "02c4224a-5432-4ee5-f2fc-bb79ca6503f5"
      },
      "source": [
        "len(tup_apple)"
      ],
      "execution_count": null,
      "outputs": [
        {
          "output_type": "execute_result",
          "data": {
            "text/plain": [
              "5"
            ]
          },
          "metadata": {
            "tags": []
          },
          "execution_count": 18
        }
      ]
    },
    {
      "cell_type": "code",
      "metadata": {
        "colab": {
          "base_uri": "https://localhost:8080/"
        },
        "id": "BtLyj6hqc2GK",
        "outputId": "1a34bf33-6d67-4ced-aff4-b4792c7109cc"
      },
      "source": [
        "tup_apple.count('p')"
      ],
      "execution_count": null,
      "outputs": [
        {
          "output_type": "execute_result",
          "data": {
            "text/plain": [
              "2"
            ]
          },
          "metadata": {
            "tags": []
          },
          "execution_count": 17
        }
      ]
    },
    {
      "cell_type": "code",
      "metadata": {
        "colab": {
          "base_uri": "https://localhost:8080/"
        },
        "id": "zS0meY5Yc74k",
        "outputId": "309a653a-3deb-4ab9-b521-96f6b05aec17"
      },
      "source": [
        "tup_apple.index('p')"
      ],
      "execution_count": null,
      "outputs": [
        {
          "output_type": "execute_result",
          "data": {
            "text/plain": [
              "1"
            ]
          },
          "metadata": {
            "tags": []
          },
          "execution_count": 19
        }
      ]
    },
    {
      "cell_type": "code",
      "metadata": {
        "colab": {
          "base_uri": "https://localhost:8080/"
        },
        "id": "5E6GsW6XdFZ-",
        "outputId": "c820db5f-3d4b-45df-b5e5-7c3844f57b19"
      },
      "source": [
        "lst_apple = list(tup_apple)\n",
        "lst_apple"
      ],
      "execution_count": null,
      "outputs": [
        {
          "output_type": "execute_result",
          "data": {
            "text/plain": [
              "['a', 'p', 'p', 'l', 'e']"
            ]
          },
          "metadata": {
            "tags": []
          },
          "execution_count": 21
        }
      ]
    },
    {
      "cell_type": "code",
      "metadata": {
        "colab": {
          "base_uri": "https://localhost:8080/"
        },
        "id": "goKpOSPVd0mB",
        "outputId": "6627d6c6-72a9-4eea-cf8d-18d778563ea9"
      },
      "source": [
        "tup_apple_back = tuple(lst_apple)\n",
        "tup_apple_back"
      ],
      "execution_count": null,
      "outputs": [
        {
          "output_type": "execute_result",
          "data": {
            "text/plain": [
              "('a', 'p', 'p', 'l', 'e')"
            ]
          },
          "metadata": {
            "tags": []
          },
          "execution_count": 22
        }
      ]
    },
    {
      "cell_type": "code",
      "metadata": {
        "id": "OuDBMxdceL8I"
      },
      "source": [
        "tup_profile = 'Max', 28, 'ChengDu'"
      ],
      "execution_count": null,
      "outputs": []
    },
    {
      "cell_type": "code",
      "metadata": {
        "colab": {
          "base_uri": "https://localhost:8080/"
        },
        "id": "nD5t9QVteTtS",
        "outputId": "2a23a7b2-03e2-490b-c397-8f067c6e2278"
      },
      "source": [
        "Name, Age, City = tup_profile\n",
        "print(Name, Age, City)"
      ],
      "execution_count": null,
      "outputs": [
        {
          "output_type": "stream",
          "text": [
            "Max 28 ChengDu\n"
          ],
          "name": "stdout"
        }
      ]
    },
    {
      "cell_type": "code",
      "metadata": {
        "id": "hgstwR2aeTyL"
      },
      "source": [
        "tup_num = (0, 1, 2, 3, 4)"
      ],
      "execution_count": null,
      "outputs": []
    },
    {
      "cell_type": "code",
      "metadata": {
        "colab": {
          "base_uri": "https://localhost:8080/"
        },
        "id": "89p11nzUeT1f",
        "outputId": "0eb56815-e89b-4029-d256-288b1922e651"
      },
      "source": [
        "i1, *i2, i3 = tup_num\n",
        "print(i1, i2, i3)"
      ],
      "execution_count": null,
      "outputs": [
        {
          "output_type": "stream",
          "text": [
            "0 [1, 2, 3] 4\n"
          ],
          "name": "stdout"
        }
      ]
    },
    {
      "cell_type": "code",
      "metadata": {
        "colab": {
          "base_uri": "https://localhost:8080/"
        },
        "id": "ZscSszPqeT4U",
        "outputId": "ee22ad9c-90e7-4222-f10b-2be9af104bdd"
      },
      "source": [
        "import sys\n",
        "\n",
        "lst = [0, 1, 2, 'Hello', True]\n",
        "tup = (0, 1, 2, 'Hello', True)\n",
        "\n",
        "print(sys.getsizeof(lst), 'bytes')\n",
        "print(sys.getsizeof(tup), 'bytes')"
      ],
      "execution_count": null,
      "outputs": [
        {
          "output_type": "stream",
          "text": [
            "112 bytes\n",
            "96 bytes\n"
          ],
          "name": "stdout"
        }
      ]
    },
    {
      "cell_type": "code",
      "metadata": {
        "colab": {
          "base_uri": "https://localhost:8080/"
        },
        "id": "o363wjGpfVEj",
        "outputId": "0562ff60-8d4c-42a6-e670-c2c4ba50b269"
      },
      "source": [
        "import timeit\n",
        "\n",
        "print(timeit.timeit(stmt=\"[0,1,2,3,4,5]\", number=1000000))     # stmt: statement \n",
        "print(timeit.timeit(stmt=\"(0,1,2,3,4,5)\", number=1000000))"
      ],
      "execution_count": null,
      "outputs": [
        {
          "output_type": "stream",
          "text": [
            "0.09102445100006662\n",
            "0.013938993000010669\n"
          ],
          "name": "stdout"
        }
      ]
    },
    {
      "cell_type": "code",
      "metadata": {
        "id": "_dZm7inpfxS6"
      },
      "source": [
        ""
      ],
      "execution_count": null,
      "outputs": []
    },
    {
      "cell_type": "code",
      "metadata": {
        "id": "g_sxMGCCp4Sc"
      },
      "source": [
        ""
      ],
      "execution_count": null,
      "outputs": []
    },
    {
      "cell_type": "markdown",
      "metadata": {
        "id": "cpWXOKNyp465"
      },
      "source": [
        "# dict"
      ]
    },
    {
      "cell_type": "code",
      "metadata": {
        "colab": {
          "base_uri": "https://localhost:8080/"
        },
        "id": "v9V22K7Sp4ZN",
        "outputId": "036c483e-a3ed-46ec-8d5f-ed008f6f7ebf"
      },
      "source": [
        "dict_1 = {'name': 'Sarah', 'age': 33, 'city': 'CD'}\n",
        "dict_1"
      ],
      "execution_count": null,
      "outputs": [
        {
          "output_type": "execute_result",
          "data": {
            "text/plain": [
              "{'age': 33, 'city': 'CD', 'name': 'Sarah'}"
            ]
          },
          "metadata": {
            "tags": []
          },
          "execution_count": 25
        }
      ]
    },
    {
      "cell_type": "code",
      "metadata": {
        "colab": {
          "base_uri": "https://localhost:8080/"
        },
        "id": "0dUaTbF9p7Pm",
        "outputId": "bef90a22-a71c-41f5-e146-89a93999319e"
      },
      "source": [
        "dict_2 = dict(name='Mary', age=27, city='LZ')\n",
        "dict_2"
      ],
      "execution_count": null,
      "outputs": [
        {
          "output_type": "execute_result",
          "data": {
            "text/plain": [
              "{'age': 27, 'city': 'LZ', 'name': 'Mary'}"
            ]
          },
          "metadata": {
            "tags": []
          },
          "execution_count": 26
        }
      ]
    },
    {
      "cell_type": "code",
      "metadata": {
        "id": "baVEZPuGp7SW"
      },
      "source": [
        "dict_1['phone'] = 13139276898"
      ],
      "execution_count": null,
      "outputs": []
    },
    {
      "cell_type": "code",
      "metadata": {
        "colab": {
          "base_uri": "https://localhost:8080/"
        },
        "id": "h3GnJYHXtaJp",
        "outputId": "99d12231-37c3-4d06-bc99-3adb8a2d7a59"
      },
      "source": [
        "dict_1"
      ],
      "execution_count": null,
      "outputs": [
        {
          "output_type": "execute_result",
          "data": {
            "text/plain": [
              "{'age': 33, 'city': 'CD', 'name': 'Sarah', 'phone': 13139276898}"
            ]
          },
          "metadata": {
            "tags": []
          },
          "execution_count": 28
        }
      ]
    },
    {
      "cell_type": "code",
      "metadata": {
        "id": "Xg_WWSZRtaNK"
      },
      "source": [
        "dict_1['phone'] = '+86-13139276898'"
      ],
      "execution_count": null,
      "outputs": []
    },
    {
      "cell_type": "code",
      "metadata": {
        "colab": {
          "base_uri": "https://localhost:8080/"
        },
        "id": "_SIYMgVMtaQn",
        "outputId": "759df9b3-aa14-4103-fdb5-ecbce4941757"
      },
      "source": [
        "dict_1"
      ],
      "execution_count": null,
      "outputs": [
        {
          "output_type": "execute_result",
          "data": {
            "text/plain": [
              "{'age': 33, 'city': 'CD', 'name': 'Sarah', 'phone': '+86-13139276898'}"
            ]
          },
          "metadata": {
            "tags": []
          },
          "execution_count": 30
        }
      ]
    },
    {
      "cell_type": "code",
      "metadata": {
        "colab": {
          "base_uri": "https://localhost:8080/"
        },
        "id": "ZPGsP9xnp7V7",
        "outputId": "a19053d3-982e-4e8a-f07f-6f204952f7bb"
      },
      "source": [
        "del dict_1['phone']\n",
        "dict_1"
      ],
      "execution_count": null,
      "outputs": [
        {
          "output_type": "execute_result",
          "data": {
            "text/plain": [
              "{'age': 33, 'city': 'CD', 'name': 'Sarah'}"
            ]
          },
          "metadata": {
            "tags": []
          },
          "execution_count": 31
        }
      ]
    },
    {
      "cell_type": "code",
      "metadata": {
        "colab": {
          "base_uri": "https://localhost:8080/"
        },
        "id": "rmLHtj9Vt1EI",
        "outputId": "9498899e-2d8c-4e77-b249-b3b29e6bbbe5"
      },
      "source": [
        "dict_1.pop('age')\n",
        "dict_1"
      ],
      "execution_count": null,
      "outputs": [
        {
          "output_type": "execute_result",
          "data": {
            "text/plain": [
              "{'city': 'CD', 'name': 'Sarah'}"
            ]
          },
          "metadata": {
            "tags": []
          },
          "execution_count": 32
        }
      ]
    },
    {
      "cell_type": "code",
      "metadata": {
        "colab": {
          "base_uri": "https://localhost:8080/"
        },
        "id": "X69rduxJt19N",
        "outputId": "d177b629-36e4-4b51-e2ee-b670b45e1a48"
      },
      "source": [
        "if 'name' in dict_1:\n",
        "  print(dict_1['name'])"
      ],
      "execution_count": null,
      "outputs": [
        {
          "output_type": "stream",
          "text": [
            "Sarah\n"
          ],
          "name": "stdout"
        }
      ]
    },
    {
      "cell_type": "code",
      "metadata": {
        "colab": {
          "base_uri": "https://localhost:8080/"
        },
        "id": "uItYO-65t2AE",
        "outputId": "8fa5c940-e2d7-4b18-eee7-7444cbc364f4"
      },
      "source": [
        "try:\n",
        "  print(dict_1['name'])\n",
        "except:\n",
        "  print('error')"
      ],
      "execution_count": null,
      "outputs": [
        {
          "output_type": "stream",
          "text": [
            "Sarah\n"
          ],
          "name": "stdout"
        }
      ]
    },
    {
      "cell_type": "code",
      "metadata": {
        "colab": {
          "base_uri": "https://localhost:8080/"
        },
        "id": "-MXfnxDbt2DU",
        "outputId": "7b183417-f644-4bb7-adeb-1f2e46f30937"
      },
      "source": [
        "try:\n",
        "  print(dict_1['last_name'])\n",
        "except:\n",
        "  print('error')"
      ],
      "execution_count": null,
      "outputs": [
        {
          "output_type": "stream",
          "text": [
            "error\n"
          ],
          "name": "stdout"
        }
      ]
    },
    {
      "cell_type": "code",
      "metadata": {
        "id": "3kjojvc_uXQP"
      },
      "source": [
        "dict_1_copy = dict_1"
      ],
      "execution_count": null,
      "outputs": []
    },
    {
      "cell_type": "code",
      "metadata": {
        "colab": {
          "base_uri": "https://localhost:8080/"
        },
        "id": "59p-iYAju32I",
        "outputId": "4fe2248e-0aeb-4eea-b091-a442fc30d4ba"
      },
      "source": [
        "dict_1"
      ],
      "execution_count": null,
      "outputs": [
        {
          "output_type": "execute_result",
          "data": {
            "text/plain": [
              "{'city': 'CD', 'name': 'Sarah'}"
            ]
          },
          "metadata": {
            "tags": []
          },
          "execution_count": 37
        }
      ]
    },
    {
      "cell_type": "code",
      "metadata": {
        "colab": {
          "base_uri": "https://localhost:8080/"
        },
        "id": "LrXMizVWu5O3",
        "outputId": "8644bcda-8093-4696-9206-0e3763417291"
      },
      "source": [
        "dict_1_copy"
      ],
      "execution_count": null,
      "outputs": [
        {
          "output_type": "execute_result",
          "data": {
            "text/plain": [
              "{'city': 'CD', 'name': 'Sarah'}"
            ]
          },
          "metadata": {
            "tags": []
          },
          "execution_count": 38
        }
      ]
    },
    {
      "cell_type": "code",
      "metadata": {
        "id": "Aq_bYCm6u6ya"
      },
      "source": [
        "dict_1_copy['city'] = 'Chicago'"
      ],
      "execution_count": null,
      "outputs": []
    },
    {
      "cell_type": "code",
      "metadata": {
        "colab": {
          "base_uri": "https://localhost:8080/"
        },
        "id": "mAVQhBCpu-t1",
        "outputId": "58857b30-1b76-4908-f619-c32433b6336c"
      },
      "source": [
        "dict_1"
      ],
      "execution_count": null,
      "outputs": [
        {
          "output_type": "execute_result",
          "data": {
            "text/plain": [
              "{'city': 'Chicago', 'name': 'Sarah'}"
            ]
          },
          "metadata": {
            "tags": []
          },
          "execution_count": 40
        }
      ]
    },
    {
      "cell_type": "code",
      "metadata": {
        "colab": {
          "base_uri": "https://localhost:8080/"
        },
        "id": "liRDmcb0vBJ3",
        "outputId": "d504d853-1a25-403a-a2da-87bc1763ebf0"
      },
      "source": [
        "dict_1_deep_copy_1 = dict_1.copy()\n",
        "dict_1_deep_copy_1"
      ],
      "execution_count": null,
      "outputs": [
        {
          "output_type": "execute_result",
          "data": {
            "text/plain": [
              "{'city': 'Chicago', 'name': 'Sarah'}"
            ]
          },
          "metadata": {
            "tags": []
          },
          "execution_count": 41
        }
      ]
    },
    {
      "cell_type": "code",
      "metadata": {
        "id": "30uHhdarvK_G"
      },
      "source": [
        "dict_1_deep_copy_1['name'] = 'Bo'"
      ],
      "execution_count": null,
      "outputs": []
    },
    {
      "cell_type": "code",
      "metadata": {
        "colab": {
          "base_uri": "https://localhost:8080/"
        },
        "id": "TZCB3Yo-vQHt",
        "outputId": "d320e5b9-066a-4995-914e-2550574e5682"
      },
      "source": [
        "dict_1"
      ],
      "execution_count": null,
      "outputs": [
        {
          "output_type": "execute_result",
          "data": {
            "text/plain": [
              "{'city': 'Chicago', 'name': 'Sarah'}"
            ]
          },
          "metadata": {
            "tags": []
          },
          "execution_count": 43
        }
      ]
    },
    {
      "cell_type": "code",
      "metadata": {
        "id": "P_2nInjVvTb8"
      },
      "source": [
        "dict_1_deep_copy_2 = dict(dict_1)"
      ],
      "execution_count": null,
      "outputs": []
    },
    {
      "cell_type": "code",
      "metadata": {
        "colab": {
          "base_uri": "https://localhost:8080/"
        },
        "id": "jO9mNKwevhsT",
        "outputId": "d56b267a-936b-44f4-d7d6-8feb416d8cea"
      },
      "source": [
        "dict_1_deep_copy_2"
      ],
      "execution_count": null,
      "outputs": [
        {
          "output_type": "execute_result",
          "data": {
            "text/plain": [
              "{'city': 'Chicago', 'name': 'Sarah'}"
            ]
          },
          "metadata": {
            "tags": []
          },
          "execution_count": 45
        }
      ]
    },
    {
      "cell_type": "code",
      "metadata": {
        "colab": {
          "base_uri": "https://localhost:8080/"
        },
        "id": "vRVlJ4ruvjDC",
        "outputId": "ed0e95e1-2640-4fcd-ac1c-4ace617c3db4"
      },
      "source": [
        "dict_1"
      ],
      "execution_count": null,
      "outputs": [
        {
          "output_type": "execute_result",
          "data": {
            "text/plain": [
              "{'city': 'Chicago', 'name': 'Sarah'}"
            ]
          },
          "metadata": {
            "tags": []
          },
          "execution_count": 46
        }
      ]
    },
    {
      "cell_type": "code",
      "metadata": {
        "id": "ET9p2TNwvlfI"
      },
      "source": [
        "dict_1_deep_copy_2['name'] = 'Eddie'"
      ],
      "execution_count": null,
      "outputs": []
    },
    {
      "cell_type": "code",
      "metadata": {
        "colab": {
          "base_uri": "https://localhost:8080/"
        },
        "id": "sHTyQ76bvwuw",
        "outputId": "c2a6bf0f-7eba-43ad-897b-16a0aab05a72"
      },
      "source": [
        "dict_1_deep_copy_2"
      ],
      "execution_count": null,
      "outputs": [
        {
          "output_type": "execute_result",
          "data": {
            "text/plain": [
              "{'city': 'Chicago', 'name': 'Eddie'}"
            ]
          },
          "metadata": {
            "tags": []
          },
          "execution_count": 49
        }
      ]
    },
    {
      "cell_type": "code",
      "metadata": {
        "colab": {
          "base_uri": "https://localhost:8080/"
        },
        "id": "HfCx6OxPvtxq",
        "outputId": "8ef959af-619c-4f68-af11-5340ac878235"
      },
      "source": [
        "dict_1"
      ],
      "execution_count": null,
      "outputs": [
        {
          "output_type": "execute_result",
          "data": {
            "text/plain": [
              "{'city': 'Chicago', 'name': 'Sarah'}"
            ]
          },
          "metadata": {
            "tags": []
          },
          "execution_count": 48
        }
      ]
    },
    {
      "cell_type": "code",
      "metadata": {
        "id": "kOI-cWKavu4j"
      },
      "source": [
        "dict_1.update(dict_2)"
      ],
      "execution_count": null,
      "outputs": []
    },
    {
      "cell_type": "code",
      "metadata": {
        "colab": {
          "base_uri": "https://localhost:8080/"
        },
        "id": "ZzQWQA3Av2A1",
        "outputId": "eada7aec-cedc-4385-998e-778e158a3b23"
      },
      "source": [
        "dict_1"
      ],
      "execution_count": null,
      "outputs": [
        {
          "output_type": "execute_result",
          "data": {
            "text/plain": [
              "{'age': 27, 'city': 'LZ', 'name': 'Mary'}"
            ]
          },
          "metadata": {
            "tags": []
          },
          "execution_count": 51
        }
      ]
    },
    {
      "cell_type": "code",
      "metadata": {
        "colab": {
          "base_uri": "https://localhost:8080/"
        },
        "id": "6jlEhg59v3AJ",
        "outputId": "8deabf54-a299-4f1d-e894-1070fed9f3cb"
      },
      "source": [
        "tup = (8, 7)                      # if it's list, can't work cuz list is mutable\n",
        "dict_3 = {tup: tup[0] + tup[1]}\n",
        "dict_3"
      ],
      "execution_count": null,
      "outputs": [
        {
          "output_type": "execute_result",
          "data": {
            "text/plain": [
              "{(8, 7): 15}"
            ]
          },
          "metadata": {
            "tags": []
          },
          "execution_count": 54
        }
      ]
    },
    {
      "cell_type": "code",
      "metadata": {
        "id": "AbcDtuKiwmdp"
      },
      "source": [
        ""
      ],
      "execution_count": null,
      "outputs": []
    },
    {
      "cell_type": "code",
      "metadata": {
        "id": "m3zB1S0Bwmgb"
      },
      "source": [
        ""
      ],
      "execution_count": null,
      "outputs": []
    },
    {
      "cell_type": "markdown",
      "metadata": {
        "id": "YBsAKWhQw8aJ"
      },
      "source": [
        "# set"
      ]
    },
    {
      "cell_type": "code",
      "metadata": {
        "colab": {
          "base_uri": "https://localhost:8080/"
        },
        "id": "9jGEqcAxwmjU",
        "outputId": "675a1c48-41cd-42f4-abc4-15bd5c8f2937"
      },
      "source": [
        "set_1 = {1, 2, 2, 4, 6}\n",
        "set_1"
      ],
      "execution_count": null,
      "outputs": [
        {
          "output_type": "execute_result",
          "data": {
            "text/plain": [
              "{1, 2, 4, 6}"
            ]
          },
          "metadata": {
            "tags": []
          },
          "execution_count": 56
        }
      ]
    },
    {
      "cell_type": "code",
      "metadata": {
        "colab": {
          "base_uri": "https://localhost:8080/"
        },
        "id": "7ZS8TBFkwmmn",
        "outputId": "069f9272-81ca-410e-8348-79910bd40602"
      },
      "source": [
        "set_2 = set('Hello')\n",
        "set_2"
      ],
      "execution_count": null,
      "outputs": [
        {
          "output_type": "execute_result",
          "data": {
            "text/plain": [
              "{'H', 'e', 'l', 'o'}"
            ]
          },
          "metadata": {
            "tags": []
          },
          "execution_count": 58
        }
      ]
    },
    {
      "cell_type": "code",
      "metadata": {
        "colab": {
          "base_uri": "https://localhost:8080/"
        },
        "id": "lH71ddwOwmoP",
        "outputId": "864276d0-04d0-4e0f-a0f6-b8dd1e45b105"
      },
      "source": [
        "set_3 = {}\n",
        "type(set_3)"
      ],
      "execution_count": null,
      "outputs": [
        {
          "output_type": "execute_result",
          "data": {
            "text/plain": [
              "dict"
            ]
          },
          "metadata": {
            "tags": []
          },
          "execution_count": 59
        }
      ]
    },
    {
      "cell_type": "code",
      "metadata": {
        "colab": {
          "base_uri": "https://localhost:8080/"
        },
        "id": "jKTWQwC4xUtm",
        "outputId": "fd9f15c6-0de7-4e51-fda7-aa8fe0031d27"
      },
      "source": [
        "set_4 = set()\n",
        "print(type(set_4))"
      ],
      "execution_count": null,
      "outputs": [
        {
          "output_type": "stream",
          "text": [
            "<class 'set'>\n"
          ],
          "name": "stdout"
        }
      ]
    },
    {
      "cell_type": "code",
      "metadata": {
        "colab": {
          "base_uri": "https://localhost:8080/"
        },
        "id": "2Wwc4MO8xaJN",
        "outputId": "f8eefd6e-d136-44e1-93c6-62ef2a6af567"
      },
      "source": [
        "print(set_4)\n",
        "set_4.add(3)\n",
        "set_4.add(1)\n",
        "print(set_4)"
      ],
      "execution_count": null,
      "outputs": [
        {
          "output_type": "stream",
          "text": [
            "set()\n",
            "{1, 3}\n"
          ],
          "name": "stdout"
        }
      ]
    },
    {
      "cell_type": "code",
      "metadata": {
        "colab": {
          "base_uri": "https://localhost:8080/"
        },
        "id": "7SdizeqExcvx",
        "outputId": "6ec4c45a-edd4-4aee-e892-906764025812"
      },
      "source": [
        "set_4.remove(3)      # when no removed element there, it raises error \n",
        "set_4"
      ],
      "execution_count": null,
      "outputs": [
        {
          "output_type": "execute_result",
          "data": {
            "text/plain": [
              "{1}"
            ]
          },
          "metadata": {
            "tags": []
          },
          "execution_count": 63
        }
      ]
    },
    {
      "cell_type": "code",
      "metadata": {
        "colab": {
          "base_uri": "https://localhost:8080/"
        },
        "id": "g61rlcqoxcyn",
        "outputId": "1a0bc0d6-7c53-4422-edfe-06d0da216fc2"
      },
      "source": [
        "set_2"
      ],
      "execution_count": null,
      "outputs": [
        {
          "output_type": "execute_result",
          "data": {
            "text/plain": [
              "{'H', 'e', 'l', 'o'}"
            ]
          },
          "metadata": {
            "tags": []
          },
          "execution_count": 65
        }
      ]
    },
    {
      "cell_type": "code",
      "metadata": {
        "colab": {
          "base_uri": "https://localhost:8080/"
        },
        "id": "RHWkSd6_xc1m",
        "outputId": "8868ae41-788e-48a6-d1b3-068c810bf327"
      },
      "source": [
        "set_2.discard('e')\n",
        "set_2"
      ],
      "execution_count": null,
      "outputs": [
        {
          "output_type": "execute_result",
          "data": {
            "text/plain": [
              "{'H', 'l', 'o'}"
            ]
          },
          "metadata": {
            "tags": []
          },
          "execution_count": 67
        }
      ]
    },
    {
      "cell_type": "code",
      "metadata": {
        "colab": {
          "base_uri": "https://localhost:8080/"
        },
        "id": "14f78OGtyGuF",
        "outputId": "bfe4c86b-eb1c-408a-b14c-dec808735387"
      },
      "source": [
        "set_2.discard('aa')\n",
        "set_2"
      ],
      "execution_count": null,
      "outputs": [
        {
          "output_type": "execute_result",
          "data": {
            "text/plain": [
              "{'H', 'l', 'o'}"
            ]
          },
          "metadata": {
            "tags": []
          },
          "execution_count": 69
        }
      ]
    },
    {
      "cell_type": "code",
      "metadata": {
        "colab": {
          "base_uri": "https://localhost:8080/"
        },
        "id": "5x3h1_YyyL3i",
        "outputId": "a60a84a4-a2e3-400a-dec6-b29542c4fb6d"
      },
      "source": [
        "set_2.pop()         #  arbitrarily remove\n",
        "set_2"
      ],
      "execution_count": null,
      "outputs": [
        {
          "output_type": "execute_result",
          "data": {
            "text/plain": [
              "{'l', 'o'}"
            ]
          },
          "metadata": {
            "tags": []
          },
          "execution_count": 70
        }
      ]
    },
    {
      "cell_type": "code",
      "metadata": {
        "id": "sgx8mEq-yPit"
      },
      "source": [
        "odds = {1, 3, 5, 7, 9}\n",
        "evens = {0, 2, 4, 6, 8}\n",
        "primes = {2, 3, 5, 7}"
      ],
      "execution_count": null,
      "outputs": []
    },
    {
      "cell_type": "code",
      "metadata": {
        "colab": {
          "base_uri": "https://localhost:8080/"
        },
        "id": "4WtZzaW5yPlm",
        "outputId": "8a4bcb51-ba40-47ef-85f1-1e641f9e9f10"
      },
      "source": [
        "u = odds.union(evens)\n",
        "u"
      ],
      "execution_count": null,
      "outputs": [
        {
          "output_type": "execute_result",
          "data": {
            "text/plain": [
              "{0, 1, 2, 3, 4, 5, 6, 7, 8, 9}"
            ]
          },
          "metadata": {
            "tags": []
          },
          "execution_count": 72
        }
      ]
    },
    {
      "cell_type": "code",
      "metadata": {
        "colab": {
          "base_uri": "https://localhost:8080/"
        },
        "id": "fSrp4L4yyvzj",
        "outputId": "6b0e26db-be1a-4028-de34-0b9e8d828736"
      },
      "source": [
        "inter = odds.intersection(evens)\n",
        "inter"
      ],
      "execution_count": null,
      "outputs": [
        {
          "output_type": "execute_result",
          "data": {
            "text/plain": [
              "set()"
            ]
          },
          "metadata": {
            "tags": []
          },
          "execution_count": 73
        }
      ]
    },
    {
      "cell_type": "code",
      "metadata": {
        "colab": {
          "base_uri": "https://localhost:8080/"
        },
        "id": "AuigqPYZy2y9",
        "outputId": "30e03d33-6f79-4c35-f053-3d98be828b08"
      },
      "source": [
        "odds.intersection(primes)"
      ],
      "execution_count": null,
      "outputs": [
        {
          "output_type": "execute_result",
          "data": {
            "text/plain": [
              "{3, 5, 7}"
            ]
          },
          "metadata": {
            "tags": []
          },
          "execution_count": 74
        }
      ]
    },
    {
      "cell_type": "code",
      "metadata": {
        "id": "uGHSZNLBy9XP"
      },
      "source": [
        "set_A = {1, 2, 3, 4, 5, 6, 7, 8, 9}\n",
        "set_B = {1, 2, 3, 10, 11, 12}"
      ],
      "execution_count": null,
      "outputs": []
    },
    {
      "cell_type": "code",
      "metadata": {
        "colab": {
          "base_uri": "https://localhost:8080/"
        },
        "id": "fBeX7YsZzJ8M",
        "outputId": "f562b79b-e8a7-434c-f010-1d7e12981cc4"
      },
      "source": [
        "diff = set_A.difference(set_B)\n",
        "diff"
      ],
      "execution_count": null,
      "outputs": [
        {
          "output_type": "execute_result",
          "data": {
            "text/plain": [
              "{4, 5, 6, 7, 8, 9}"
            ]
          },
          "metadata": {
            "tags": []
          },
          "execution_count": 77
        }
      ]
    },
    {
      "cell_type": "code",
      "metadata": {
        "colab": {
          "base_uri": "https://localhost:8080/"
        },
        "id": "_7bhyQqzzOge",
        "outputId": "b602736f-7684-409f-f00d-89392906f483"
      },
      "source": [
        "diff_sym = set_A.symmetric_difference(set_B)\n",
        "diff_sym"
      ],
      "execution_count": null,
      "outputs": [
        {
          "output_type": "execute_result",
          "data": {
            "text/plain": [
              "{4, 5, 6, 7, 8, 9, 10, 11, 12}"
            ]
          },
          "metadata": {
            "tags": []
          },
          "execution_count": 78
        }
      ]
    },
    {
      "cell_type": "code",
      "metadata": {
        "colab": {
          "base_uri": "https://localhost:8080/"
        },
        "id": "aKcQUNkdzbk8",
        "outputId": "e23a5e4d-df70-4a7d-ef51-34b91092420c"
      },
      "source": [
        "set_A.update(set_B)\n",
        "set_A"
      ],
      "execution_count": null,
      "outputs": [
        {
          "output_type": "execute_result",
          "data": {
            "text/plain": [
              "{1, 2, 3, 4, 5, 6, 7, 8, 9, 10, 11, 12}"
            ]
          },
          "metadata": {
            "tags": []
          },
          "execution_count": 79
        }
      ]
    },
    {
      "cell_type": "code",
      "metadata": {
        "colab": {
          "base_uri": "https://localhost:8080/"
        },
        "id": "VFhdW0Bh1kjW",
        "outputId": "dbed2c5f-7784-4839-82cc-c12bbc2ed9d2"
      },
      "source": [
        "set_A.intersection_update(set_B)\n",
        "set_A"
      ],
      "execution_count": null,
      "outputs": [
        {
          "output_type": "execute_result",
          "data": {
            "text/plain": [
              "{1, 2, 3, 10, 11, 12}"
            ]
          },
          "metadata": {
            "tags": []
          },
          "execution_count": 80
        }
      ]
    },
    {
      "cell_type": "code",
      "metadata": {
        "colab": {
          "base_uri": "https://localhost:8080/"
        },
        "id": "WzCSU2XP1r1t",
        "outputId": "2c55247a-fe70-4951-9794-661ed1bcbe0e"
      },
      "source": [
        "set_A.difference_update(set_B)\n",
        "set_A"
      ],
      "execution_count": null,
      "outputs": [
        {
          "output_type": "execute_result",
          "data": {
            "text/plain": [
              "set()"
            ]
          },
          "metadata": {
            "tags": []
          },
          "execution_count": 81
        }
      ]
    },
    {
      "cell_type": "code",
      "metadata": {
        "id": "nNWIdC1316Gv"
      },
      "source": [
        "set_C = {1, 2, 3, 4, 5, 6, 7, 8, 9}\n",
        "set_D = {1, 2, 3}"
      ],
      "execution_count": null,
      "outputs": []
    },
    {
      "cell_type": "code",
      "metadata": {
        "colab": {
          "base_uri": "https://localhost:8080/"
        },
        "id": "yQ_JTLi52Lu6",
        "outputId": "e453f1e9-c893-4400-bc6e-dca6a5361241"
      },
      "source": [
        "set_C.issubset(set_D)"
      ],
      "execution_count": null,
      "outputs": [
        {
          "output_type": "execute_result",
          "data": {
            "text/plain": [
              "False"
            ]
          },
          "metadata": {
            "tags": []
          },
          "execution_count": 84
        }
      ]
    },
    {
      "cell_type": "code",
      "metadata": {
        "colab": {
          "base_uri": "https://localhost:8080/"
        },
        "id": "mz54cPPD2PP0",
        "outputId": "9d8afa0f-7e95-40e7-941a-218371b60e08"
      },
      "source": [
        "set_D.issubset(set_C)"
      ],
      "execution_count": null,
      "outputs": [
        {
          "output_type": "execute_result",
          "data": {
            "text/plain": [
              "True"
            ]
          },
          "metadata": {
            "tags": []
          },
          "execution_count": 85
        }
      ]
    },
    {
      "cell_type": "code",
      "metadata": {
        "colab": {
          "base_uri": "https://localhost:8080/"
        },
        "id": "FV1Sj-Hh2XF4",
        "outputId": "9f2eb529-bc8e-49d8-83e0-906e57336bbb"
      },
      "source": [
        "set_C.issuperset(set_D)"
      ],
      "execution_count": null,
      "outputs": [
        {
          "output_type": "execute_result",
          "data": {
            "text/plain": [
              "True"
            ]
          },
          "metadata": {
            "tags": []
          },
          "execution_count": 86
        }
      ]
    },
    {
      "cell_type": "code",
      "metadata": {
        "colab": {
          "base_uri": "https://localhost:8080/"
        },
        "id": "4pqCPKEe2bIV",
        "outputId": "d6c7822b-dc93-4f9e-a8fb-a582b4f755c6"
      },
      "source": [
        "set_C.isdisjoint(set_D)"
      ],
      "execution_count": null,
      "outputs": [
        {
          "output_type": "execute_result",
          "data": {
            "text/plain": [
              "False"
            ]
          },
          "metadata": {
            "tags": []
          },
          "execution_count": 87
        }
      ]
    },
    {
      "cell_type": "code",
      "metadata": {
        "id": "yEgQZyDi2imB"
      },
      "source": [
        "fset = frozenset([1,2,3,4])          # immutable version of set"
      ],
      "execution_count": null,
      "outputs": []
    },
    {
      "cell_type": "code",
      "metadata": {
        "colab": {
          "base_uri": "https://localhost:8080/"
        },
        "id": "7id2tfUw3IiR",
        "outputId": "ed7f6002-6553-4ab7-e9a0-5a9e8523d68f"
      },
      "source": [
        "fset"
      ],
      "execution_count": null,
      "outputs": [
        {
          "output_type": "execute_result",
          "data": {
            "text/plain": [
              "frozenset({1, 2, 3, 4})"
            ]
          },
          "metadata": {
            "tags": []
          },
          "execution_count": 90
        }
      ]
    },
    {
      "cell_type": "code",
      "metadata": {
        "id": "Yquvoac53PTf"
      },
      "source": [
        ""
      ],
      "execution_count": null,
      "outputs": []
    },
    {
      "cell_type": "code",
      "metadata": {
        "id": "tQ796HGs3KXq"
      },
      "source": [
        ""
      ],
      "execution_count": null,
      "outputs": []
    },
    {
      "cell_type": "markdown",
      "metadata": {
        "id": "HIudUadS3Lej"
      },
      "source": [
        "# string"
      ]
    },
    {
      "cell_type": "code",
      "metadata": {
        "colab": {
          "base_uri": "https://localhost:8080/",
          "height": 35
        },
        "id": "mRQ-O8YB3Kac",
        "outputId": "96b2fa7d-3baa-4477-f46a-1f4ff6737e7a"
      },
      "source": [
        "str_1 = 'I\\'m a nerd'   escaping backslash        \n",
        "str_1 "
      ],
      "execution_count": null,
      "outputs": [
        {
          "output_type": "execute_result",
          "data": {
            "application/vnd.google.colaboratory.intrinsic+json": {
              "type": "string"
            },
            "text/plain": [
              "\"I'm a nerd\""
            ]
          },
          "metadata": {
            "tags": []
          },
          "execution_count": 1
        }
      ]
    },
    {
      "cell_type": "code",
      "metadata": {
        "colab": {
          "base_uri": "https://localhost:8080/"
        },
        "id": "6vAb8oIp3KdF",
        "outputId": "98b16099-ecc6-4a81-ad05-6ef43d7af806"
      },
      "source": [
        "str_2 = '''hello \n",
        "wolrd'''\n",
        "print(str_2)"
      ],
      "execution_count": null,
      "outputs": [
        {
          "output_type": "stream",
          "text": [
            "hello \n",
            "wolrd\n"
          ],
          "name": "stdout"
        }
      ]
    },
    {
      "cell_type": "code",
      "metadata": {
        "colab": {
          "base_uri": "https://localhost:8080/"
        },
        "id": "bbqKgY4N3Kgg",
        "outputId": "4d82408b-fc5a-46e0-9390-b399cfbc952d"
      },
      "source": [
        "str_3 = '''halo \\\n",
        "wala'''\n",
        "print(str_3)"
      ],
      "execution_count": null,
      "outputs": [
        {
          "output_type": "stream",
          "text": [
            "halo wala\n"
          ],
          "name": "stdout"
        }
      ]
    },
    {
      "cell_type": "code",
      "metadata": {
        "colab": {
          "base_uri": "https://localhost:8080/"
        },
        "id": "qK8kE4q_4XU_",
        "outputId": "b577cedd-8103-4aed-aa3a-dc8ca7a564de"
      },
      "source": [
        "str_4 = 'olleH'\n",
        "print(str_4[::-1])"
      ],
      "execution_count": null,
      "outputs": [
        {
          "output_type": "stream",
          "text": [
            "Hello\n"
          ],
          "name": "stdout"
        }
      ]
    },
    {
      "cell_type": "code",
      "metadata": {
        "colab": {
          "base_uri": "https://localhost:8080/"
        },
        "id": "nnt_yhaO5OQ4",
        "outputId": "c5b5fc4a-a3e1-44e9-89e9-199626d256c7"
      },
      "source": [
        "str_5 = '   Hello'\n",
        "print(str_5)"
      ],
      "execution_count": null,
      "outputs": [
        {
          "output_type": "stream",
          "text": [
            "   Hello\n"
          ],
          "name": "stdout"
        }
      ]
    },
    {
      "cell_type": "code",
      "metadata": {
        "colab": {
          "base_uri": "https://localhost:8080/"
        },
        "id": "r9ESrNQ36RsO",
        "outputId": "7b53a516-9c2e-4976-bb87-e922b099d018"
      },
      "source": [
        "str_5 = '   Hello'\n",
        "print(str_5.strip())"
      ],
      "execution_count": null,
      "outputs": [
        {
          "output_type": "stream",
          "text": [
            "Hello\n"
          ],
          "name": "stdout"
        }
      ]
    },
    {
      "cell_type": "code",
      "metadata": {
        "colab": {
          "base_uri": "https://localhost:8080/"
        },
        "id": "tWgI7zqu6XOT",
        "outputId": "a8e12793-10a8-4adc-da1f-222c7da7f4ff"
      },
      "source": [
        "print(str_4)\n",
        "print(str_4.startswith('H'))"
      ],
      "execution_count": null,
      "outputs": [
        {
          "output_type": "stream",
          "text": [
            "olleH\n",
            "False\n"
          ],
          "name": "stdout"
        }
      ]
    },
    {
      "cell_type": "code",
      "metadata": {
        "colab": {
          "base_uri": "https://localhost:8080/"
        },
        "id": "oL-bNQHP60X1",
        "outputId": "ab66831c-27d0-41f7-8b3c-a4e2aba57eb9"
      },
      "source": [
        "print(str_4)\n",
        "print(str_4.startswith('o'))"
      ],
      "execution_count": null,
      "outputs": [
        {
          "output_type": "stream",
          "text": [
            "olleH\n",
            "True\n"
          ],
          "name": "stdout"
        }
      ]
    },
    {
      "cell_type": "code",
      "metadata": {
        "colab": {
          "base_uri": "https://localhost:8080/"
        },
        "id": "9feVijR164AU",
        "outputId": "1e2e7ac0-c35f-4058-a7e8-38ff4128a34d"
      },
      "source": [
        "print(str_4)\n",
        "print(str_4.endswith('H'))"
      ],
      "execution_count": null,
      "outputs": [
        {
          "output_type": "stream",
          "text": [
            "olleH\n",
            "True\n"
          ],
          "name": "stdout"
        }
      ]
    },
    {
      "cell_type": "code",
      "metadata": {
        "colab": {
          "base_uri": "https://localhost:8080/"
        },
        "id": "oFsG-5XJ7AUs",
        "outputId": "706ac3da-114b-41be-8d05-b1fe2a729f80"
      },
      "source": [
        "print(str_4)\n",
        "print(str_4.find('e'))"
      ],
      "execution_count": null,
      "outputs": [
        {
          "output_type": "stream",
          "text": [
            "olleH\n",
            "3\n"
          ],
          "name": "stdout"
        }
      ]
    },
    {
      "cell_type": "code",
      "metadata": {
        "colab": {
          "base_uri": "https://localhost:8080/"
        },
        "id": "Rgpmz2Zq7D1g",
        "outputId": "a68640f1-08fa-42e4-b729-283009197b40"
      },
      "source": [
        "print(str_4)\n",
        "print(str_4.find('u'))"
      ],
      "execution_count": null,
      "outputs": [
        {
          "output_type": "stream",
          "text": [
            "olleH\n",
            "-1\n"
          ],
          "name": "stdout"
        }
      ]
    },
    {
      "cell_type": "code",
      "metadata": {
        "colab": {
          "base_uri": "https://localhost:8080/"
        },
        "id": "Kq7LFbyZ7Lbb",
        "outputId": "f14361f8-326b-4be8-bae5-8af3feb3b8c7"
      },
      "source": [
        "print(str_4)\n",
        "print(str_4.count('u'))"
      ],
      "execution_count": null,
      "outputs": [
        {
          "output_type": "stream",
          "text": [
            "olleH\n",
            "0\n"
          ],
          "name": "stdout"
        }
      ]
    },
    {
      "cell_type": "code",
      "metadata": {
        "colab": {
          "base_uri": "https://localhost:8080/"
        },
        "id": "Dt3e-IOe7RLg",
        "outputId": "2d672051-8cae-4d7e-abd3-3f9967a50bd6"
      },
      "source": [
        "print(str_4)\n",
        "print(str_4.count('l'))"
      ],
      "execution_count": null,
      "outputs": [
        {
          "output_type": "stream",
          "text": [
            "olleH\n",
            "2\n"
          ],
          "name": "stdout"
        }
      ]
    },
    {
      "cell_type": "code",
      "metadata": {
        "id": "FejZ-KGG7TbR"
      },
      "source": [
        "str_6 = 'Hello World'"
      ],
      "execution_count": null,
      "outputs": []
    },
    {
      "cell_type": "code",
      "metadata": {
        "colab": {
          "base_uri": "https://localhost:8080/"
        },
        "id": "OWPBzZHG7bFD",
        "outputId": "4d9b2be1-8216-4cbc-cfa6-20c1323ece06"
      },
      "source": [
        "print(str_6.replace('World', 'Uni'))\n",
        "print(str_6)"
      ],
      "execution_count": null,
      "outputs": [
        {
          "output_type": "stream",
          "text": [
            "Hello Uni\n",
            "Hello World\n"
          ],
          "name": "stdout"
        }
      ]
    },
    {
      "cell_type": "code",
      "metadata": {
        "colab": {
          "base_uri": "https://localhost:8080/"
        },
        "id": "f3T-xwYH7iUq",
        "outputId": "39a38af5-ecd1-40a1-f782-78a4540b9423"
      },
      "source": [
        "str_7 = str_6.split()\n",
        "str_7"
      ],
      "execution_count": null,
      "outputs": [
        {
          "output_type": "execute_result",
          "data": {
            "text/plain": [
              "['Hello', 'World']"
            ]
          },
          "metadata": {
            "tags": []
          },
          "execution_count": 28
        }
      ]
    },
    {
      "cell_type": "code",
      "metadata": {
        "colab": {
          "base_uri": "https://localhost:8080/"
        },
        "id": "szkPoTLg7php",
        "outputId": "aa66fad5-db0f-4b42-e288-6822509e6b37"
      },
      "source": [
        "str_8 = 'Hello,World,you,are,good'\n",
        "print(str_8.split())\n",
        "print(str_8.split(','))"
      ],
      "execution_count": null,
      "outputs": [
        {
          "output_type": "stream",
          "text": [
            "['Hello,World,you,are,good']\n",
            "['Hello', 'World', 'you', 'are', 'good']\n"
          ],
          "name": "stdout"
        }
      ]
    },
    {
      "cell_type": "code",
      "metadata": {
        "colab": {
          "base_uri": "https://localhost:8080/"
        },
        "id": "tlVhraLl74RL",
        "outputId": "6dee4823-8f11-4849-93b2-74d0625a936c"
      },
      "source": [
        "str_9 = str_8.split(',')\n",
        "str_9"
      ],
      "execution_count": null,
      "outputs": [
        {
          "output_type": "execute_result",
          "data": {
            "text/plain": [
              "['Hello', 'World', 'you', 'are', 'good']"
            ]
          },
          "metadata": {
            "tags": []
          },
          "execution_count": 31
        }
      ]
    },
    {
      "cell_type": "code",
      "metadata": {
        "colab": {
          "base_uri": "https://localhost:8080/",
          "height": 35
        },
        "id": "6EghaD7Y8LQq",
        "outputId": "8f25cfd9-290c-43ee-b074-b2b7a20acbd3"
      },
      "source": [
        "str_10 = ''.join(str_9)\n",
        "str_10"
      ],
      "execution_count": null,
      "outputs": [
        {
          "output_type": "execute_result",
          "data": {
            "application/vnd.google.colaboratory.intrinsic+json": {
              "type": "string"
            },
            "text/plain": [
              "'HelloWorldyouaregood'"
            ]
          },
          "metadata": {
            "tags": []
          },
          "execution_count": 32
        }
      ]
    },
    {
      "cell_type": "code",
      "metadata": {
        "colab": {
          "base_uri": "https://localhost:8080/",
          "height": 35
        },
        "id": "injuGjis8QpP",
        "outputId": "a5649792-2991-4669-b2eb-4d4acc6035d1"
      },
      "source": [
        "str_11 = ' '.join(str_9)              # very important\n",
        "str_11"
      ],
      "execution_count": null,
      "outputs": [
        {
          "output_type": "execute_result",
          "data": {
            "application/vnd.google.colaboratory.intrinsic+json": {
              "type": "string"
            },
            "text/plain": [
              "'Hello World you are good'"
            ]
          },
          "metadata": {
            "tags": []
          },
          "execution_count": 33
        }
      ]
    },
    {
      "cell_type": "code",
      "metadata": {
        "id": "HiQz3u3y8T8L"
      },
      "source": [
        "lst = ['a']*6"
      ],
      "execution_count": null,
      "outputs": []
    },
    {
      "cell_type": "code",
      "metadata": {
        "colab": {
          "base_uri": "https://localhost:8080/"
        },
        "id": "QeIx72d98U30",
        "outputId": "e2ae0c72-79e3-46b4-9d43-ff2046e00bca"
      },
      "source": [
        "str_12 = ''.join(lst)                # most efficient way of doing the job\n",
        "print(str_12)"
      ],
      "execution_count": null,
      "outputs": [
        {
          "output_type": "stream",
          "text": [
            "aaaaaa\n"
          ],
          "name": "stdout"
        }
      ]
    },
    {
      "cell_type": "markdown",
      "metadata": {
        "id": "ZyZcWiUW9bGv"
      },
      "source": [
        "## string-formatting"
      ]
    },
    {
      "cell_type": "code",
      "metadata": {
        "id": "t25wmzqT8U7O"
      },
      "source": [
        "var = 3.14156"
      ],
      "execution_count": null,
      "outputs": []
    },
    {
      "cell_type": "code",
      "metadata": {
        "colab": {
          "base_uri": "https://localhost:8080/",
          "height": 35
        },
        "id": "ZJI2cdxC8U-d",
        "outputId": "3cac9ff9-ad0f-4b8d-a562-f552b8b211f3"
      },
      "source": [
        "str_13 = \"the variable is %f\" % var      # first method: %s: str; %d: int; %f: float  \n",
        "str_13"
      ],
      "execution_count": null,
      "outputs": [
        {
          "output_type": "execute_result",
          "data": {
            "application/vnd.google.colaboratory.intrinsic+json": {
              "type": "string"
            },
            "text/plain": [
              "'the variable is 3.141560'"
            ]
          },
          "metadata": {
            "tags": []
          },
          "execution_count": 46
        }
      ]
    },
    {
      "cell_type": "code",
      "metadata": {
        "colab": {
          "base_uri": "https://localhost:8080/",
          "height": 35
        },
        "id": "g7C5W7659Ak8",
        "outputId": "a2aa928a-b3f7-4c4e-e1bf-51625200f784"
      },
      "source": [
        "str_14 = \"the variable is {:.2f}\".format(var)\n",
        "str_14"
      ],
      "execution_count": null,
      "outputs": [
        {
          "output_type": "execute_result",
          "data": {
            "application/vnd.google.colaboratory.intrinsic+json": {
              "type": "string"
            },
            "text/plain": [
              "'the variable is 3.14'"
            ]
          },
          "metadata": {
            "tags": []
          },
          "execution_count": 47
        }
      ]
    },
    {
      "cell_type": "code",
      "metadata": {
        "colab": {
          "base_uri": "https://localhost:8080/",
          "height": 35
        },
        "id": "wcuhMbQg9An4",
        "outputId": "8314ef0b-c6c3-44f2-b31d-bfc74321ce47"
      },
      "source": [
        "str_15 = f\"the variable is {var:.2f}\"\n",
        "str_15"
      ],
      "execution_count": null,
      "outputs": [
        {
          "output_type": "execute_result",
          "data": {
            "application/vnd.google.colaboratory.intrinsic+json": {
              "type": "string"
            },
            "text/plain": [
              "'the variable is 3.14'"
            ]
          },
          "metadata": {
            "tags": []
          },
          "execution_count": 49
        }
      ]
    },
    {
      "cell_type": "code",
      "metadata": {
        "id": "OgRRkmsl9As_"
      },
      "source": [
        ""
      ],
      "execution_count": null,
      "outputs": []
    },
    {
      "cell_type": "code",
      "metadata": {
        "id": "nk04nfmV-ukI"
      },
      "source": [
        ""
      ],
      "execution_count": null,
      "outputs": []
    },
    {
      "cell_type": "markdown",
      "metadata": {
        "id": "kRC7vw0M_SXj"
      },
      "source": [
        "# collections"
      ]
    },
    {
      "cell_type": "markdown",
      "metadata": {
        "id": "ryPdQVXI_qAV"
      },
      "source": [
        "Counter, namedtuple, OrderedDict, defaultdict, deque"
      ]
    },
    {
      "cell_type": "code",
      "metadata": {
        "id": "vRbnGt1m-unL"
      },
      "source": [
        "from collections import Counter   # Counter is a container contains dict that stores dict keys and values"
      ],
      "execution_count": null,
      "outputs": []
    },
    {
      "cell_type": "code",
      "metadata": {
        "id": "O5YbpZ_w-uqA"
      },
      "source": [
        "a = 'aaaaabbbbccc'"
      ],
      "execution_count": null,
      "outputs": []
    },
    {
      "cell_type": "code",
      "metadata": {
        "id": "is6icMPz-us2",
        "colab": {
          "base_uri": "https://localhost:8080/"
        },
        "outputId": "100f21ff-bb97-4589-b202-742e6bc3bbda"
      },
      "source": [
        "my_counter = Counter(a)\n",
        "print(my_counter)"
      ],
      "execution_count": null,
      "outputs": [
        {
          "output_type": "stream",
          "text": [
            "Counter({'a': 5, 'b': 4, 'c': 3})\n"
          ],
          "name": "stdout"
        }
      ]
    },
    {
      "cell_type": "code",
      "metadata": {
        "colab": {
          "base_uri": "https://localhost:8080/"
        },
        "id": "yYq-tmLSZ7U7",
        "outputId": "92e54d7c-da6a-4fd4-e697-427535211f1d"
      },
      "source": [
        "print(my_counter.items())"
      ],
      "execution_count": null,
      "outputs": [
        {
          "output_type": "stream",
          "text": [
            "dict_items([('a', 5), ('b', 4), ('c', 3)])\n"
          ],
          "name": "stdout"
        }
      ]
    },
    {
      "cell_type": "code",
      "metadata": {
        "colab": {
          "base_uri": "https://localhost:8080/"
        },
        "id": "pTpADI5baPcG",
        "outputId": "84c5ff9c-6a3a-478e-9b2e-e628aa15b54f"
      },
      "source": [
        "print(my_counter.keys())"
      ],
      "execution_count": null,
      "outputs": [
        {
          "output_type": "stream",
          "text": [
            "dict_keys(['a', 'b', 'c'])\n"
          ],
          "name": "stdout"
        }
      ]
    },
    {
      "cell_type": "code",
      "metadata": {
        "colab": {
          "base_uri": "https://localhost:8080/"
        },
        "id": "k5TUAxHNaR55",
        "outputId": "57ad2141-7d0c-454b-c361-682ae52e213a"
      },
      "source": [
        "print(my_counter.values())"
      ],
      "execution_count": null,
      "outputs": [
        {
          "output_type": "stream",
          "text": [
            "dict_values([5, 4, 3])\n"
          ],
          "name": "stdout"
        }
      ]
    },
    {
      "cell_type": "code",
      "metadata": {
        "colab": {
          "base_uri": "https://localhost:8080/"
        },
        "id": "IrmcizdLaTn4",
        "outputId": "238e577c-c868-4dd8-9981-48d93cd9a76d"
      },
      "source": [
        "print(my_counter.most_common(1))"
      ],
      "execution_count": null,
      "outputs": [
        {
          "output_type": "stream",
          "text": [
            "[('a', 5)]\n"
          ],
          "name": "stdout"
        }
      ]
    },
    {
      "cell_type": "code",
      "metadata": {
        "colab": {
          "base_uri": "https://localhost:8080/"
        },
        "id": "6ItSavT9aVUg",
        "outputId": "539c0e6b-71bf-432a-bc94-dcc936f43186"
      },
      "source": [
        "print(my_counter.most_common(2))"
      ],
      "execution_count": null,
      "outputs": [
        {
          "output_type": "stream",
          "text": [
            "[('a', 5), ('b', 4)]\n"
          ],
          "name": "stdout"
        }
      ]
    },
    {
      "cell_type": "code",
      "metadata": {
        "colab": {
          "base_uri": "https://localhost:8080/"
        },
        "id": "r3ev3fRJaVaX",
        "outputId": "b70932c2-4531-4dda-a061-1fb919556747"
      },
      "source": [
        "print(my_counter.elements())"
      ],
      "execution_count": null,
      "outputs": [
        {
          "output_type": "stream",
          "text": [
            "<itertools.chain object at 0x7fd2812b5f50>\n"
          ],
          "name": "stdout"
        }
      ]
    },
    {
      "cell_type": "code",
      "metadata": {
        "colab": {
          "base_uri": "https://localhost:8080/"
        },
        "id": "xQ-oO6sEaft-",
        "outputId": "0adc7909-c621-4b9c-c033-9673be9a3b17"
      },
      "source": [
        "print(list(my_counter.elements()))"
      ],
      "execution_count": null,
      "outputs": [
        {
          "output_type": "stream",
          "text": [
            "['a', 'a', 'a', 'a', 'a', 'b', 'b', 'b', 'b', 'c', 'c', 'c']\n"
          ],
          "name": "stdout"
        }
      ]
    },
    {
      "cell_type": "code",
      "metadata": {
        "id": "poggpf75afxn"
      },
      "source": [
        "from collections import namedtuple"
      ],
      "execution_count": null,
      "outputs": []
    },
    {
      "cell_type": "code",
      "metadata": {
        "id": "dWV1JQhFaf0M"
      },
      "source": [
        "Point = namedtuple('Point', 'x, y')          #  Point is a class"
      ],
      "execution_count": null,
      "outputs": []
    },
    {
      "cell_type": "code",
      "metadata": {
        "id": "xmT6i8z9af2k"
      },
      "source": [
        "pt = Point(1, -4)"
      ],
      "execution_count": null,
      "outputs": []
    },
    {
      "cell_type": "code",
      "metadata": {
        "colab": {
          "base_uri": "https://localhost:8080/"
        },
        "id": "if_JpFTvaVdO",
        "outputId": "c8b75cd1-ee98-47a4-ab47-64d2890d0db1"
      },
      "source": [
        "print(pt)"
      ],
      "execution_count": null,
      "outputs": [
        {
          "output_type": "stream",
          "text": [
            "Point(x=1, y=-4)\n"
          ],
          "name": "stdout"
        }
      ]
    },
    {
      "cell_type": "code",
      "metadata": {
        "colab": {
          "base_uri": "https://localhost:8080/"
        },
        "id": "VcIzFKs8bO0X",
        "outputId": "24193da6-7f4e-49d2-d232-f0afb02ce972"
      },
      "source": [
        "print(pt.x, pt.y)"
      ],
      "execution_count": null,
      "outputs": [
        {
          "output_type": "stream",
          "text": [
            "1 -4\n"
          ],
          "name": "stdout"
        }
      ]
    },
    {
      "cell_type": "code",
      "metadata": {
        "id": "i1cvXTWCbSt7"
      },
      "source": [
        "from collections import OrderedDict    # a regular dict but remembers order"
      ],
      "execution_count": null,
      "outputs": []
    },
    {
      "cell_type": "code",
      "metadata": {
        "id": "mhL2lTuZbTUN"
      },
      "source": [
        "ordered_dict = OrderedDict()"
      ],
      "execution_count": null,
      "outputs": []
    },
    {
      "cell_type": "code",
      "metadata": {
        "id": "GwiARZlbbTW5"
      },
      "source": [
        "ordered_dict['a'] = 1\n",
        "ordered_dict['b'] = 2\n",
        "ordered_dict['c'] = 3\n",
        "ordered_dict['d'] = 4"
      ],
      "execution_count": null,
      "outputs": []
    },
    {
      "cell_type": "code",
      "metadata": {
        "colab": {
          "base_uri": "https://localhost:8080/"
        },
        "id": "Ie9E842BbTZ6",
        "outputId": "f0f96157-4735-4e30-bec4-9eafc48a550c"
      },
      "source": [
        "print(ordered_dict)"
      ],
      "execution_count": null,
      "outputs": [
        {
          "output_type": "stream",
          "text": [
            "OrderedDict([('a', 1), ('b', 2), ('c', 3), ('d', 4)])\n"
          ],
          "name": "stdout"
        }
      ]
    },
    {
      "cell_type": "code",
      "metadata": {
        "id": "hBnAt0IJbTch"
      },
      "source": [
        "ordered_dict_1 = OrderedDict()\n",
        "\n",
        "ordered_dict_1['b'] = 2\n",
        "ordered_dict_1['c'] = 3\n",
        "ordered_dict_1['d'] = 4\n",
        "ordered_dict_1['a'] = 1"
      ],
      "execution_count": null,
      "outputs": []
    },
    {
      "cell_type": "code",
      "metadata": {
        "colab": {
          "base_uri": "https://localhost:8080/"
        },
        "id": "rU9DaIarbxbL",
        "outputId": "ba8286d7-4094-430e-d0b3-d770c51e306a"
      },
      "source": [
        "print(ordered_dict_1)"
      ],
      "execution_count": null,
      "outputs": [
        {
          "output_type": "stream",
          "text": [
            "OrderedDict([('b', 2), ('c', 3), ('d', 4), ('a', 1)])\n"
          ],
          "name": "stdout"
        }
      ]
    },
    {
      "cell_type": "code",
      "metadata": {
        "id": "N8lucmIJbx81"
      },
      "source": [
        "from collections import defaultdict   # a regular dict but gives a defult value if a key is not provided"
      ],
      "execution_count": null,
      "outputs": []
    },
    {
      "cell_type": "code",
      "metadata": {
        "id": "jR6ufpusb71X"
      },
      "source": [
        "d = defaultdict(int)"
      ],
      "execution_count": null,
      "outputs": []
    },
    {
      "cell_type": "code",
      "metadata": {
        "id": "5enSba48b74d"
      },
      "source": [
        "d['a'] = 1\n",
        "d['b'] = 2"
      ],
      "execution_count": null,
      "outputs": []
    },
    {
      "cell_type": "code",
      "metadata": {
        "colab": {
          "base_uri": "https://localhost:8080/"
        },
        "id": "HrBUEeAab769",
        "outputId": "36d521a5-1fe8-4a4a-ca1f-31fca2e7f74b"
      },
      "source": [
        "print(d['b'])"
      ],
      "execution_count": null,
      "outputs": [
        {
          "output_type": "stream",
          "text": [
            "2\n"
          ],
          "name": "stdout"
        }
      ]
    },
    {
      "cell_type": "code",
      "metadata": {
        "colab": {
          "base_uri": "https://localhost:8080/"
        },
        "id": "k2sWfeZTcf0n",
        "outputId": "5ed5c484-25db-4f8b-8c8f-108ed685ae32"
      },
      "source": [
        "print(d['DDD'])       # no key, but returns a int 0"
      ],
      "execution_count": null,
      "outputs": [
        {
          "output_type": "stream",
          "text": [
            "0\n"
          ],
          "name": "stdout"
        }
      ]
    },
    {
      "cell_type": "code",
      "metadata": {
        "id": "3wyiRcUDclpe"
      },
      "source": [
        "from collections import deque   # double ended que, can be both ends"
      ],
      "execution_count": null,
      "outputs": []
    },
    {
      "cell_type": "code",
      "metadata": {
        "id": "1Jd1HZv3c2Ss"
      },
      "source": [
        "d = deque()"
      ],
      "execution_count": null,
      "outputs": []
    },
    {
      "cell_type": "code",
      "metadata": {
        "colab": {
          "base_uri": "https://localhost:8080/"
        },
        "id": "rmF6ImBcc2V2",
        "outputId": "5f3f0ab7-4ddf-4d46-d736-d4b59b9788b2"
      },
      "source": [
        "d.append(1)\n",
        "d.append(2)\n",
        "print(d)"
      ],
      "execution_count": null,
      "outputs": [
        {
          "output_type": "stream",
          "text": [
            "deque([1, 2])\n"
          ],
          "name": "stdout"
        }
      ]
    },
    {
      "cell_type": "code",
      "metadata": {
        "colab": {
          "base_uri": "https://localhost:8080/"
        },
        "id": "YXzuGTvxc2bo",
        "outputId": "3fed1acb-8e19-40fa-89bf-db154199c544"
      },
      "source": [
        "d.appendleft(3)\n",
        "print(d)"
      ],
      "execution_count": null,
      "outputs": [
        {
          "output_type": "stream",
          "text": [
            "deque([3, 1, 2])\n"
          ],
          "name": "stdout"
        }
      ]
    },
    {
      "cell_type": "code",
      "metadata": {
        "colab": {
          "base_uri": "https://localhost:8080/"
        },
        "id": "ykoRUTM-dHM-",
        "outputId": "76dcd8d1-54e5-4fba-bcb6-018224b3d64b"
      },
      "source": [
        "d.pop()\n",
        "print(d)"
      ],
      "execution_count": null,
      "outputs": [
        {
          "output_type": "stream",
          "text": [
            "deque([3, 1])\n"
          ],
          "name": "stdout"
        }
      ]
    },
    {
      "cell_type": "code",
      "metadata": {
        "colab": {
          "base_uri": "https://localhost:8080/"
        },
        "id": "lr7dyBWIdPLU",
        "outputId": "f6ea930b-e2c7-4e58-ef1b-13375f9e7370"
      },
      "source": [
        "d.popleft()\n",
        "print(d)"
      ],
      "execution_count": null,
      "outputs": [
        {
          "output_type": "stream",
          "text": [
            "deque([1])\n"
          ],
          "name": "stdout"
        }
      ]
    },
    {
      "cell_type": "code",
      "metadata": {
        "colab": {
          "base_uri": "https://localhost:8080/"
        },
        "id": "Y2GilYTadSL0",
        "outputId": "3dedd596-3cec-4a52-db23-1cf20b9f4b1c"
      },
      "source": [
        "d.extendleft([3,4,5])\n",
        "print(d)"
      ],
      "execution_count": null,
      "outputs": [
        {
          "output_type": "stream",
          "text": [
            "deque([5, 4, 3, 1])\n"
          ],
          "name": "stdout"
        }
      ]
    },
    {
      "cell_type": "code",
      "metadata": {
        "colab": {
          "base_uri": "https://localhost:8080/"
        },
        "id": "ZFKHI_omdZ2Y",
        "outputId": "b3e6f056-c485-4b5e-d4eb-780ea10dd839"
      },
      "source": [
        "d.rotate(1)\n",
        "print(d)"
      ],
      "execution_count": null,
      "outputs": [
        {
          "output_type": "stream",
          "text": [
            "deque([3, 1, 5, 4])\n"
          ],
          "name": "stdout"
        }
      ]
    },
    {
      "cell_type": "code",
      "metadata": {
        "colab": {
          "base_uri": "https://localhost:8080/"
        },
        "id": "nVH6OCl1dfCL",
        "outputId": "a71c2fad-4748-41ca-e742-f671bd38bf15"
      },
      "source": [
        "d.rotate(-1)\n",
        "print(d)"
      ],
      "execution_count": null,
      "outputs": [
        {
          "output_type": "stream",
          "text": [
            "deque([1, 5, 4, 3])\n"
          ],
          "name": "stdout"
        }
      ]
    },
    {
      "cell_type": "code",
      "metadata": {
        "id": "fAvtlX7cdngP"
      },
      "source": [
        ""
      ],
      "execution_count": null,
      "outputs": []
    },
    {
      "cell_type": "code",
      "metadata": {
        "id": "wKIM1J5IdyLW"
      },
      "source": [
        ""
      ],
      "execution_count": null,
      "outputs": []
    },
    {
      "cell_type": "markdown",
      "metadata": {
        "id": "ds59qaQodypy"
      },
      "source": [
        "# itertools"
      ]
    },
    {
      "cell_type": "markdown",
      "metadata": {
        "id": "11j7fPa4l9S2"
      },
      "source": [
        "itertools: product, permutations, combinations, accumulate, groupby, infinite iterators"
      ]
    },
    {
      "cell_type": "code",
      "metadata": {
        "id": "frR594hld0v4"
      },
      "source": [
        "from itertools import product"
      ],
      "execution_count": null,
      "outputs": []
    },
    {
      "cell_type": "code",
      "metadata": {
        "id": "QLWaWG2WmUwM"
      },
      "source": [
        "a = [1, 2]\n",
        "b = [3, 4]"
      ],
      "execution_count": null,
      "outputs": []
    },
    {
      "cell_type": "code",
      "metadata": {
        "colab": {
          "base_uri": "https://localhost:8080/"
        },
        "id": "za89j2vymX3U",
        "outputId": "f947e371-a84f-491d-8228-6ca31d6e19bc"
      },
      "source": [
        "prod = product(a, b)\n",
        "print(prod)"
      ],
      "execution_count": null,
      "outputs": [
        {
          "output_type": "stream",
          "text": [
            "<itertools.product object at 0x7f89bccd2dc0>\n"
          ],
          "name": "stdout"
        }
      ]
    },
    {
      "cell_type": "code",
      "metadata": {
        "colab": {
          "base_uri": "https://localhost:8080/"
        },
        "id": "BIIxP_esmdPk",
        "outputId": "3bb9eb17-effe-4086-eb5c-0ee04c96b1e1"
      },
      "source": [
        "print(list(prod))"
      ],
      "execution_count": null,
      "outputs": [
        {
          "output_type": "stream",
          "text": [
            "[(1, 3), (1, 4), (2, 3), (2, 4)]\n"
          ],
          "name": "stdout"
        }
      ]
    },
    {
      "cell_type": "code",
      "metadata": {
        "colab": {
          "base_uri": "https://localhost:8080/"
        },
        "id": "DZbSnGc3mgG6",
        "outputId": "14181993-c158-43c4-e767-e4692a82c3ee"
      },
      "source": [
        "a = [1, 2]\n",
        "b = [3]\n",
        "\n",
        "prod_2 = product(a, b, repeat = 2)\n",
        "print(list(prod_2))"
      ],
      "execution_count": null,
      "outputs": [
        {
          "output_type": "stream",
          "text": [
            "[(1, 3, 1, 3), (1, 3, 2, 3), (2, 3, 1, 3), (2, 3, 2, 3)]\n"
          ],
          "name": "stdout"
        }
      ]
    },
    {
      "cell_type": "code",
      "metadata": {
        "id": "mPhCk0kRmwee"
      },
      "source": [
        "from itertools import permutations"
      ],
      "execution_count": null,
      "outputs": []
    },
    {
      "cell_type": "code",
      "metadata": {
        "id": "ULuEFc0Um07g"
      },
      "source": [
        "a = [1, 2, 3]"
      ],
      "execution_count": null,
      "outputs": []
    },
    {
      "cell_type": "code",
      "metadata": {
        "colab": {
          "base_uri": "https://localhost:8080/"
        },
        "id": "_0m1SbGMm3vx",
        "outputId": "9278d1e0-b7ba-47d0-cbc9-e046327ca817"
      },
      "source": [
        "perm = permutations(a)\n",
        "print(perm)"
      ],
      "execution_count": null,
      "outputs": [
        {
          "output_type": "stream",
          "text": [
            "<itertools.permutations object at 0x7f89bccf7b30>\n"
          ],
          "name": "stdout"
        }
      ]
    },
    {
      "cell_type": "code",
      "metadata": {
        "colab": {
          "base_uri": "https://localhost:8080/"
        },
        "id": "x85JL_o4m7jv",
        "outputId": "da99a322-ceb5-4049-8f4f-af4560d46890"
      },
      "source": [
        "print(list(perm))"
      ],
      "execution_count": null,
      "outputs": [
        {
          "output_type": "stream",
          "text": [
            "[(1, 2, 3), (1, 3, 2), (2, 1, 3), (2, 3, 1), (3, 1, 2), (3, 2, 1)]\n"
          ],
          "name": "stdout"
        }
      ]
    },
    {
      "cell_type": "code",
      "metadata": {
        "colab": {
          "base_uri": "https://localhost:8080/"
        },
        "id": "3SeE0kC2nIg0",
        "outputId": "0b332ff7-40c6-402f-a76c-df5c1ccbf405"
      },
      "source": [
        "perm_2 = permutations(a, 2)\n",
        "print(list(perm_2))"
      ],
      "execution_count": null,
      "outputs": [
        {
          "output_type": "stream",
          "text": [
            "[(1, 2), (1, 3), (2, 1), (2, 3), (3, 1), (3, 2)]\n"
          ],
          "name": "stdout"
        }
      ]
    },
    {
      "cell_type": "code",
      "metadata": {
        "id": "rn4BEuZTm97L"
      },
      "source": [
        "from itertools import combinations"
      ],
      "execution_count": null,
      "outputs": []
    },
    {
      "cell_type": "code",
      "metadata": {
        "colab": {
          "base_uri": "https://localhost:8080/"
        },
        "id": "N4QE6K2Hm_96",
        "outputId": "a7572a5a-c3ac-427f-8218-3f712095e992"
      },
      "source": [
        "a = [1, 2, 3, 4]\n",
        "comb = combinations(a, 2)\n",
        "print(list(comb))"
      ],
      "execution_count": null,
      "outputs": [
        {
          "output_type": "stream",
          "text": [
            "[(1, 2), (1, 3), (1, 4), (2, 3), (2, 4), (3, 4)]\n"
          ],
          "name": "stdout"
        }
      ]
    },
    {
      "cell_type": "code",
      "metadata": {
        "id": "mgkeRDS8nAB1"
      },
      "source": [
        "from itertools import combinations, combinations_with_replacement"
      ],
      "execution_count": null,
      "outputs": []
    },
    {
      "cell_type": "code",
      "metadata": {
        "colab": {
          "base_uri": "https://localhost:8080/"
        },
        "id": "UbhohlZlnAFx",
        "outputId": "a6367695-f3f1-4af6-f6b5-50e7633ca5b9"
      },
      "source": [
        "a = [1, 2, 3, 4]\n",
        "comb_wr = combinations_with_replacement(a, 2)\n",
        "print(list(comb_wr))"
      ],
      "execution_count": null,
      "outputs": [
        {
          "output_type": "stream",
          "text": [
            "[(1, 1), (1, 2), (1, 3), (1, 4), (2, 2), (2, 3), (2, 4), (3, 3), (3, 4), (4, 4)]\n"
          ],
          "name": "stdout"
        }
      ]
    },
    {
      "cell_type": "code",
      "metadata": {
        "id": "J1AaPZuUnyMz"
      },
      "source": [
        "from itertools import accumulate"
      ],
      "execution_count": null,
      "outputs": []
    },
    {
      "cell_type": "code",
      "metadata": {
        "id": "AYhe9Nw1n4_K"
      },
      "source": [
        "a = [1, 2, 3, 4]"
      ],
      "execution_count": null,
      "outputs": []
    },
    {
      "cell_type": "code",
      "metadata": {
        "id": "p27yWqrzn67H"
      },
      "source": [
        "acc = accumulate(a)"
      ],
      "execution_count": null,
      "outputs": []
    },
    {
      "cell_type": "code",
      "metadata": {
        "colab": {
          "base_uri": "https://localhost:8080/"
        },
        "id": "k7MZcI7en-9x",
        "outputId": "66a33f98-8783-4f97-95cc-0950cbbf0ee7"
      },
      "source": [
        "print(a)\n",
        "print(list(acc))"
      ],
      "execution_count": null,
      "outputs": [
        {
          "output_type": "stream",
          "text": [
            "[1, 2, 3, 4]\n",
            "[1, 3, 6, 10]\n"
          ],
          "name": "stdout"
        }
      ]
    },
    {
      "cell_type": "code",
      "metadata": {
        "id": "gW7mszlGoB_P"
      },
      "source": [
        "import operator"
      ],
      "execution_count": null,
      "outputs": []
    },
    {
      "cell_type": "code",
      "metadata": {
        "colab": {
          "base_uri": "https://localhost:8080/"
        },
        "id": "xCqp5Tw7oNh3",
        "outputId": "2dcd6655-8b31-408e-ef62-3725a577b85a"
      },
      "source": [
        "acc_2 = accumulate(a, func = operator.mul)\n",
        "print(a)\n",
        "print(list(acc_2))"
      ],
      "execution_count": null,
      "outputs": [
        {
          "output_type": "stream",
          "text": [
            "[1, 2, 3, 4]\n",
            "[1, 2, 6, 24]\n"
          ],
          "name": "stdout"
        }
      ]
    },
    {
      "cell_type": "code",
      "metadata": {
        "colab": {
          "base_uri": "https://localhost:8080/"
        },
        "id": "NaS89ytooWne",
        "outputId": "c709fd0c-dca6-461c-c200-9471077f6e0f"
      },
      "source": [
        "a = [1, 2, 5, 3, 4]\n",
        "\n",
        "acc_3 = accumulate(a, func = max)\n",
        "print(a)\n",
        "print(list(acc_3))"
      ],
      "execution_count": null,
      "outputs": [
        {
          "output_type": "stream",
          "text": [
            "[1, 2, 5, 3, 4]\n",
            "[1, 2, 5, 5, 5]\n"
          ],
          "name": "stdout"
        }
      ]
    },
    {
      "cell_type": "code",
      "metadata": {
        "id": "5XwKNG5gofgq"
      },
      "source": [
        "from itertools import groupby"
      ],
      "execution_count": null,
      "outputs": []
    },
    {
      "cell_type": "code",
      "metadata": {
        "id": "RajmQ88sowOm"
      },
      "source": [
        "def smaller_than_3(x):\n",
        "  return x < 3"
      ],
      "execution_count": null,
      "outputs": []
    },
    {
      "cell_type": "code",
      "metadata": {
        "id": "HkQ2o1ysop0w"
      },
      "source": [
        "a = [1, 2, 3, 4]\n",
        "obj_group = groupby(a, key = smaller_than_3)"
      ],
      "execution_count": null,
      "outputs": []
    },
    {
      "cell_type": "code",
      "metadata": {
        "id": "N2uqTu1Go4Jr"
      },
      "source": [
        "for key, value in obj_group:\n",
        "  print(key, list(value))"
      ],
      "execution_count": null,
      "outputs": []
    },
    {
      "cell_type": "code",
      "metadata": {
        "id": "vHZ_ZqF3o8um"
      },
      "source": [
        "persons = [{'name': 'Tim', 'age': 25},\n",
        "       {'name': 'Dan', 'age': 25},\n",
        "       {'name': 'Lisa', 'age': 27,},\n",
        "       {'name': 'Clara', 'age': 28 }     ]"
      ],
      "execution_count": null,
      "outputs": []
    },
    {
      "cell_type": "code",
      "metadata": {
        "id": "r2kgyD6_p6kF"
      },
      "source": [
        "group_obj = groupby(persons, key = lambda x: x['age'])"
      ],
      "execution_count": null,
      "outputs": []
    },
    {
      "cell_type": "code",
      "metadata": {
        "colab": {
          "base_uri": "https://localhost:8080/"
        },
        "id": "-tWt5dfMqDU5",
        "outputId": "329887f6-1ce1-4297-a2d3-86b8d903b860"
      },
      "source": [
        "for key, value in group_obj:\n",
        "  print(key, list(value))"
      ],
      "execution_count": null,
      "outputs": [
        {
          "output_type": "stream",
          "text": [
            "25 [{'name': 'Tim', 'age': 25}, {'name': 'Dan', 'age': 25}]\n",
            "27 [{'name': 'Lisa', 'age': 27}]\n",
            "28 [{'name': 'Clara', 'age': 28}]\n"
          ],
          "name": "stdout"
        }
      ]
    },
    {
      "cell_type": "code",
      "metadata": {
        "id": "h9jdbezkqIXU"
      },
      "source": [
        "from itertools import count, cycle, repeat"
      ],
      "execution_count": null,
      "outputs": []
    },
    {
      "cell_type": "code",
      "metadata": {
        "colab": {
          "base_uri": "https://localhost:8080/"
        },
        "id": "86igJb3wqVob",
        "outputId": "61b550f2-6409-4b25-99ce-226a9616e072"
      },
      "source": [
        "for i in count(10):\n",
        "  print(i)\n",
        "  if i == 15:\n",
        "    break"
      ],
      "execution_count": null,
      "outputs": [
        {
          "output_type": "stream",
          "text": [
            "10\n",
            "11\n",
            "12\n",
            "13\n",
            "14\n",
            "15\n"
          ],
          "name": "stdout"
        }
      ]
    },
    {
      "cell_type": "code",
      "metadata": {
        "id": "GREyeNFTqYMi"
      },
      "source": [
        "a = [1, 2, 3,]"
      ],
      "execution_count": null,
      "outputs": []
    },
    {
      "cell_type": "code",
      "metadata": {
        "colab": {
          "base_uri": "https://localhost:8080/"
        },
        "id": "mpQi8mXtqhRT",
        "outputId": "dff8267f-2f2e-4091-d807-20e82fc9907c"
      },
      "source": [
        "for i in cycle(a):\n",
        "  print(i)\n",
        "  if i == 3:\n",
        "    break"
      ],
      "execution_count": null,
      "outputs": [
        {
          "output_type": "stream",
          "text": [
            "1\n",
            "2\n",
            "3\n"
          ],
          "name": "stdout"
        }
      ]
    },
    {
      "cell_type": "code",
      "metadata": {
        "colab": {
          "base_uri": "https://localhost:8080/"
        },
        "id": "l6iROFCDqp-F",
        "outputId": "b61f89d3-c9f0-4a1b-8569-bf706c182e87"
      },
      "source": [
        "for i in repeat(1, 5):\n",
        "  print(i)"
      ],
      "execution_count": null,
      "outputs": [
        {
          "output_type": "stream",
          "text": [
            "1\n",
            "1\n",
            "1\n",
            "1\n",
            "1\n"
          ],
          "name": "stdout"
        }
      ]
    },
    {
      "cell_type": "code",
      "metadata": {
        "id": "H-xsp4pdq9KD"
      },
      "source": [
        ""
      ],
      "execution_count": null,
      "outputs": []
    },
    {
      "cell_type": "code",
      "metadata": {
        "id": "sL2xgfVU0jmj"
      },
      "source": [
        ""
      ],
      "execution_count": null,
      "outputs": []
    },
    {
      "cell_type": "markdown",
      "metadata": {
        "id": "IqsprFaI0j9k"
      },
      "source": [
        "# Lambda"
      ]
    },
    {
      "cell_type": "markdown",
      "metadata": {
        "id": "4jHk74Xk2nOb"
      },
      "source": [
        "lambda arguments: expression"
      ]
    },
    {
      "cell_type": "code",
      "metadata": {
        "id": "sWnvdyoP0pRP"
      },
      "source": [
        "add_10 = lambda x: x + 10"
      ],
      "execution_count": null,
      "outputs": []
    },
    {
      "cell_type": "code",
      "metadata": {
        "colab": {
          "base_uri": "https://localhost:8080/"
        },
        "id": "VSN66AtX2xr6",
        "outputId": "606e69f8-e353-4c94-9094-9ca32d661dd6"
      },
      "source": [
        "add_10(5)"
      ],
      "execution_count": null,
      "outputs": [
        {
          "output_type": "execute_result",
          "data": {
            "text/plain": [
              "15"
            ]
          },
          "metadata": {
            "tags": []
          },
          "execution_count": 2
        }
      ]
    },
    {
      "cell_type": "code",
      "metadata": {
        "id": "z9LgFeTk2zMW"
      },
      "source": [
        "mult = lambda x, y: x * y "
      ],
      "execution_count": null,
      "outputs": []
    },
    {
      "cell_type": "code",
      "metadata": {
        "colab": {
          "base_uri": "https://localhost:8080/"
        },
        "id": "KfPLcpAP3Bh1",
        "outputId": "78a6a744-fcbf-47d3-d4f7-c7fa88deaa14"
      },
      "source": [
        "mult(3, 4)"
      ],
      "execution_count": null,
      "outputs": [
        {
          "output_type": "execute_result",
          "data": {
            "text/plain": [
              "12"
            ]
          },
          "metadata": {
            "tags": []
          },
          "execution_count": 5
        }
      ]
    },
    {
      "cell_type": "code",
      "metadata": {
        "id": "c2tuQBUI3EN4"
      },
      "source": [
        "points_2D = [(1, 2), (15, 1), (5, -1), (10, 4)]"
      ],
      "execution_count": null,
      "outputs": []
    },
    {
      "cell_type": "code",
      "metadata": {
        "id": "RmCzZXKY3MGR"
      },
      "source": [
        "points_2D_sorted = sorted(points_2D)"
      ],
      "execution_count": null,
      "outputs": []
    },
    {
      "cell_type": "code",
      "metadata": {
        "colab": {
          "base_uri": "https://localhost:8080/"
        },
        "id": "YfsnWh993MKc",
        "outputId": "93a15b5e-9770-4b8f-b5f7-42847ec7aadf"
      },
      "source": [
        "print(points_2D)\n",
        "print(points_2D_sorted)"
      ],
      "execution_count": null,
      "outputs": [
        {
          "output_type": "stream",
          "text": [
            "[(1, 2), (15, 1), (5, -1), (10, 4)]\n",
            "[(1, 2), (5, -1), (10, 4), (15, 1)]\n"
          ],
          "name": "stdout"
        }
      ]
    },
    {
      "cell_type": "code",
      "metadata": {
        "id": "2_hK1zMb3MOr"
      },
      "source": [
        "points_2D_sorted_y = sorted(points_2D, key = lambda x:x[1])"
      ],
      "execution_count": null,
      "outputs": []
    },
    {
      "cell_type": "code",
      "metadata": {
        "colab": {
          "base_uri": "https://localhost:8080/"
        },
        "id": "JBu8VYgK4EFq",
        "outputId": "d99ca355-1b65-4ecf-a972-abce763c6f80"
      },
      "source": [
        "print(points_2D_sorted_y)"
      ],
      "execution_count": null,
      "outputs": [
        {
          "output_type": "stream",
          "text": [
            "[(5, -1), (15, 1), (1, 2), (10, 4)]\n"
          ],
          "name": "stdout"
        }
      ]
    },
    {
      "cell_type": "code",
      "metadata": {
        "id": "52SzwGaS4F7T"
      },
      "source": [
        "points_2D_sorted_x_add_y = sorted(points_2D, key = lambda x : x[0] + x[1])"
      ],
      "execution_count": null,
      "outputs": []
    },
    {
      "cell_type": "code",
      "metadata": {
        "colab": {
          "base_uri": "https://localhost:8080/"
        },
        "id": "on3hJlwe4Z5q",
        "outputId": "dec9181c-3079-43c0-dfdd-3e031687924f"
      },
      "source": [
        "print(points_2D_sorted_x_add_y)"
      ],
      "execution_count": null,
      "outputs": [
        {
          "output_type": "stream",
          "text": [
            "[(1, 2), (5, -1), (10, 4), (15, 1)]\n"
          ],
          "name": "stdout"
        }
      ]
    },
    {
      "cell_type": "code",
      "metadata": {
        "id": "j6cnCl8r4Z-9"
      },
      "source": [
        "a = [1, 2, 3, 4, 5]\n",
        "b = map(lambda x : x*2, a)         # map "
      ],
      "execution_count": null,
      "outputs": []
    },
    {
      "cell_type": "code",
      "metadata": {
        "colab": {
          "base_uri": "https://localhost:8080/"
        },
        "id": "7rSbMCux4aF0",
        "outputId": "50774834-3041-4b1d-f521-efcbca4de20c"
      },
      "source": [
        "print(a)\n",
        "print(list(b))"
      ],
      "execution_count": null,
      "outputs": [
        {
          "output_type": "stream",
          "text": [
            "[1, 2, 3, 4, 5]\n",
            "[2, 4, 6, 8, 10]\n"
          ],
          "name": "stdout"
        }
      ]
    },
    {
      "cell_type": "code",
      "metadata": {
        "colab": {
          "base_uri": "https://localhost:8080/"
        },
        "id": "BbgJUk4o4aI9",
        "outputId": "e44802d0-edc7-45cc-a3c5-075aae7bc0e7"
      },
      "source": [
        "b = [i*2 for i in a]\n",
        "print(b)"
      ],
      "execution_count": null,
      "outputs": [
        {
          "output_type": "stream",
          "text": [
            "[2, 4, 6, 8, 10]\n"
          ],
          "name": "stdout"
        }
      ]
    },
    {
      "cell_type": "code",
      "metadata": {
        "id": "nSyiKkC05MEn"
      },
      "source": [
        "a = [1, 2, 3, 4, 5, 6]\n",
        "b = filter(lambda x : x % 2 == 0, a)         # filter"
      ],
      "execution_count": null,
      "outputs": []
    },
    {
      "cell_type": "code",
      "metadata": {
        "colab": {
          "base_uri": "https://localhost:8080/"
        },
        "id": "nEbtl3wN5keI",
        "outputId": "52bba110-ae46-489d-8209-10df8b042554"
      },
      "source": [
        "print(b)"
      ],
      "execution_count": null,
      "outputs": [
        {
          "output_type": "stream",
          "text": [
            "[2, 4, 6, 8, 10]\n"
          ],
          "name": "stdout"
        }
      ]
    },
    {
      "cell_type": "code",
      "metadata": {
        "colab": {
          "base_uri": "https://localhost:8080/"
        },
        "id": "Oh1jZ2NB5lrr",
        "outputId": "17952b57-eb05-4557-9138-bfdcea068fad"
      },
      "source": [
        "b = [i for i in a if i % 2 == 0]\n",
        "print(b)"
      ],
      "execution_count": null,
      "outputs": [
        {
          "output_type": "stream",
          "text": [
            "[2, 4, 6]\n"
          ],
          "name": "stdout"
        }
      ]
    },
    {
      "cell_type": "code",
      "metadata": {
        "id": "0NlRDfjb55RH"
      },
      "source": [
        "from functools import reduce"
      ],
      "execution_count": null,
      "outputs": []
    },
    {
      "cell_type": "code",
      "metadata": {
        "id": "ambN89Sx5xA8"
      },
      "source": [
        "a = [1, 2, 3, 4]"
      ],
      "execution_count": null,
      "outputs": []
    },
    {
      "cell_type": "code",
      "metadata": {
        "id": "BPXZUbkS5-E7"
      },
      "source": [
        "product_a = reduce(lambda x, y: x * y, a)    # 连乘？"
      ],
      "execution_count": null,
      "outputs": []
    },
    {
      "cell_type": "code",
      "metadata": {
        "colab": {
          "base_uri": "https://localhost:8080/"
        },
        "id": "xV0euiVX6IKv",
        "outputId": "87af9ecb-caa1-49fe-eccc-76904acdba20"
      },
      "source": [
        "print(product_a)"
      ],
      "execution_count": null,
      "outputs": [
        {
          "output_type": "stream",
          "text": [
            "24\n"
          ],
          "name": "stdout"
        }
      ]
    },
    {
      "cell_type": "code",
      "metadata": {
        "id": "uVqtELDh6KfV"
      },
      "source": [
        ""
      ],
      "execution_count": null,
      "outputs": []
    },
    {
      "cell_type": "code",
      "metadata": {
        "id": "rKp4Pw2F7-ob"
      },
      "source": [
        ""
      ],
      "execution_count": null,
      "outputs": []
    },
    {
      "cell_type": "markdown",
      "metadata": {
        "id": "tRPcuXee7_bN"
      },
      "source": [
        "# errors & exceptions"
      ]
    },
    {
      "cell_type": "code",
      "metadata": {
        "id": "uN9_aaVE_QcC"
      },
      "source": [
        "x = -5"
      ],
      "execution_count": null,
      "outputs": []
    },
    {
      "cell_type": "code",
      "metadata": {
        "colab": {
          "base_uri": "https://localhost:8080/",
          "height": 180
        },
        "id": "DlezPUUz7-zx",
        "outputId": "1109a320-6687-4158-c3eb-ee941768b181"
      },
      "source": [
        "if x < 0:\n",
        "  raise Exception('x should be positive')"
      ],
      "execution_count": null,
      "outputs": [
        {
          "output_type": "error",
          "ename": "Exception",
          "evalue": "ignored",
          "traceback": [
            "\u001b[0;31m---------------------------------------------------------------------------\u001b[0m",
            "\u001b[0;31mException\u001b[0m                                 Traceback (most recent call last)",
            "\u001b[0;32m<ipython-input-32-36e102d21725>\u001b[0m in \u001b[0;36m<module>\u001b[0;34m()\u001b[0m\n\u001b[1;32m      1\u001b[0m \u001b[0;32mif\u001b[0m \u001b[0mx\u001b[0m \u001b[0;34m<\u001b[0m \u001b[0;36m0\u001b[0m\u001b[0;34m:\u001b[0m\u001b[0;34m\u001b[0m\u001b[0;34m\u001b[0m\u001b[0m\n\u001b[0;32m----> 2\u001b[0;31m   \u001b[0;32mraise\u001b[0m \u001b[0mException\u001b[0m\u001b[0;34m(\u001b[0m\u001b[0;34m'x should be positive'\u001b[0m\u001b[0;34m)\u001b[0m\u001b[0;34m\u001b[0m\u001b[0;34m\u001b[0m\u001b[0m\n\u001b[0m",
            "\u001b[0;31mException\u001b[0m: x should be positive"
          ]
        }
      ]
    },
    {
      "cell_type": "code",
      "metadata": {
        "colab": {
          "base_uri": "https://localhost:8080/",
          "height": 163
        },
        "id": "35FSQDJq_Gva",
        "outputId": "f946abfd-5495-457e-aee4-d7971f9a26c2"
      },
      "source": [
        "assert (x >= 0)"
      ],
      "execution_count": null,
      "outputs": [
        {
          "output_type": "error",
          "ename": "AssertionError",
          "evalue": "ignored",
          "traceback": [
            "\u001b[0;31m---------------------------------------------------------------------------\u001b[0m",
            "\u001b[0;31mAssertionError\u001b[0m                            Traceback (most recent call last)",
            "\u001b[0;32m<ipython-input-35-f35066af3d6a>\u001b[0m in \u001b[0;36m<module>\u001b[0;34m()\u001b[0m\n\u001b[0;32m----> 1\u001b[0;31m \u001b[0;32massert\u001b[0m \u001b[0;34m(\u001b[0m\u001b[0mx\u001b[0m \u001b[0;34m>=\u001b[0m \u001b[0;36m0\u001b[0m\u001b[0;34m)\u001b[0m\u001b[0;34m\u001b[0m\u001b[0;34m\u001b[0m\u001b[0m\n\u001b[0m",
            "\u001b[0;31mAssertionError\u001b[0m: "
          ]
        }
      ]
    },
    {
      "cell_type": "code",
      "metadata": {
        "colab": {
          "base_uri": "https://localhost:8080/"
        },
        "id": "tP6fMm5-_U3l",
        "outputId": "fb259784-ce0a-43ef-a51d-dc743c776dea"
      },
      "source": [
        "assert (x >= 0, 'x is not positive')"
      ],
      "execution_count": null,
      "outputs": [
        {
          "output_type": "stream",
          "text": [
            "<ipython-input-36-cc346b5af0c0>:1: SyntaxWarning: assertion is always true, perhaps remove parentheses?\n",
            "  assert (x >= 0, 'x is not positive')\n"
          ],
          "name": "stderr"
        }
      ]
    },
    {
      "cell_type": "code",
      "metadata": {
        "colab": {
          "base_uri": "https://localhost:8080/"
        },
        "id": "JvuPlrqv_fwd",
        "outputId": "1b7bfab3-38f5-4c01-cfe4-61b1ecc0ca37"
      },
      "source": [
        "try:\n",
        "  a = 5 / 0\n",
        "except:\n",
        "  print('an error occurred')"
      ],
      "execution_count": null,
      "outputs": [
        {
          "output_type": "stream",
          "text": [
            "an error occurred\n"
          ],
          "name": "stdout"
        }
      ]
    },
    {
      "cell_type": "code",
      "metadata": {
        "colab": {
          "base_uri": "https://localhost:8080/"
        },
        "id": "7TOCo8G5_tES",
        "outputId": "aff0f981-d0b0-488d-8c2f-ffc06acf85ac"
      },
      "source": [
        "try:\n",
        "  a = 5 / 0\n",
        "except Exception as e:\n",
        "  print(e)"
      ],
      "execution_count": null,
      "outputs": [
        {
          "output_type": "stream",
          "text": [
            "division by zero\n"
          ],
          "name": "stdout"
        }
      ]
    },
    {
      "cell_type": "code",
      "metadata": {
        "colab": {
          "base_uri": "https://localhost:8080/"
        },
        "id": "HKY7R-P2_0ts",
        "outputId": "ebb45f05-40e8-4c5b-d39a-d7812563b94a"
      },
      "source": [
        "try:\n",
        "  a = 5 / 0\n",
        "  b = a + '10'\n",
        "except ZeroDivisionError as e_1:\n",
        "  print(e_1)\n",
        "except TypeError as e_2:\n",
        "  print(e_2)\n",
        "else:\n",
        "  print('everything OK')\n",
        "finally:\n",
        "  print('cleaning up...')"
      ],
      "execution_count": null,
      "outputs": [
        {
          "output_type": "stream",
          "text": [
            "division by zero\n",
            "cleaning up...\n"
          ],
          "name": "stdout"
        }
      ]
    },
    {
      "cell_type": "code",
      "metadata": {
        "id": "Wo-KF-FIAM_x"
      },
      "source": [
        "class ValueTooHighError(Exception):\n",
        "  pass"
      ],
      "execution_count": null,
      "outputs": []
    },
    {
      "cell_type": "code",
      "metadata": {
        "id": "CU7xPXKTAvBf"
      },
      "source": [
        "def test_value(x):\n",
        "  if x > 100:\n",
        "    raise ValueTooHighError('value too high')"
      ],
      "execution_count": null,
      "outputs": []
    },
    {
      "cell_type": "code",
      "metadata": {
        "colab": {
          "base_uri": "https://localhost:8080/",
          "height": 248
        },
        "id": "qqiR3YluA56F",
        "outputId": "8a43559d-e491-457a-d25e-7c0a9bf6391c"
      },
      "source": [
        "test_value(200)"
      ],
      "execution_count": null,
      "outputs": [
        {
          "output_type": "error",
          "ename": "ValueTooHighError",
          "evalue": "ignored",
          "traceback": [
            "\u001b[0;31m---------------------------------------------------------------------------\u001b[0m",
            "\u001b[0;31mValueTooHighError\u001b[0m                         Traceback (most recent call last)",
            "\u001b[0;32m<ipython-input-50-41ed87b8cf2b>\u001b[0m in \u001b[0;36m<module>\u001b[0;34m()\u001b[0m\n\u001b[0;32m----> 1\u001b[0;31m \u001b[0mtest_value\u001b[0m\u001b[0;34m(\u001b[0m\u001b[0;36m200\u001b[0m\u001b[0;34m)\u001b[0m\u001b[0;34m\u001b[0m\u001b[0;34m\u001b[0m\u001b[0m\n\u001b[0m",
            "\u001b[0;32m<ipython-input-49-69bbad35a698>\u001b[0m in \u001b[0;36mtest_value\u001b[0;34m(x)\u001b[0m\n\u001b[1;32m      1\u001b[0m \u001b[0;32mdef\u001b[0m \u001b[0mtest_value\u001b[0m\u001b[0;34m(\u001b[0m\u001b[0mx\u001b[0m\u001b[0;34m)\u001b[0m\u001b[0;34m:\u001b[0m\u001b[0;34m\u001b[0m\u001b[0;34m\u001b[0m\u001b[0m\n\u001b[1;32m      2\u001b[0m   \u001b[0;32mif\u001b[0m \u001b[0mx\u001b[0m \u001b[0;34m>\u001b[0m \u001b[0;36m100\u001b[0m\u001b[0;34m:\u001b[0m\u001b[0;34m\u001b[0m\u001b[0;34m\u001b[0m\u001b[0m\n\u001b[0;32m----> 3\u001b[0;31m     \u001b[0;32mraise\u001b[0m \u001b[0mValueTooHighError\u001b[0m\u001b[0;34m(\u001b[0m\u001b[0;34m'value too high'\u001b[0m\u001b[0;34m)\u001b[0m\u001b[0;34m\u001b[0m\u001b[0;34m\u001b[0m\u001b[0m\n\u001b[0m",
            "\u001b[0;31mValueTooHighError\u001b[0m: value too high"
          ]
        }
      ]
    },
    {
      "cell_type": "code",
      "metadata": {
        "colab": {
          "base_uri": "https://localhost:8080/"
        },
        "id": "Gsb5FlkdA8BA",
        "outputId": "01f22ec0-bce0-489d-e500-d218526dc20f"
      },
      "source": [
        "try:\n",
        "  test_value(200)\n",
        "except ValueTooHighError as e:\n",
        "  print(e)"
      ],
      "execution_count": null,
      "outputs": [
        {
          "output_type": "stream",
          "text": [
            "value too high\n"
          ],
          "name": "stdout"
        }
      ]
    },
    {
      "cell_type": "code",
      "metadata": {
        "id": "y6sNQfgGBzgn"
      },
      "source": [
        "class ValueTooLowError(Exception):\n",
        "  def __init__(self, message, value):\n",
        "    self.message = message\n",
        "    self.value = value"
      ],
      "execution_count": null,
      "outputs": []
    },
    {
      "cell_type": "code",
      "metadata": {
        "id": "SmZrfzC2BNXL"
      },
      "source": [
        "def test_value(x):\n",
        "  if x > 100:\n",
        "    raise ValueTooHighError('value too high')\n",
        "  if x < 5:\n",
        "    raise ValueTooLowError('value too low')"
      ],
      "execution_count": null,
      "outputs": []
    },
    {
      "cell_type": "code",
      "metadata": {
        "colab": {
          "base_uri": "https://localhost:8080/"
        },
        "id": "EZoUrDClB6Bg",
        "outputId": "b7ee213a-c0cd-41ee-9b2d-a2868ce76125"
      },
      "source": [
        "try:\n",
        "  test_value(200)\n",
        "except ValueTooHighError as e_1:\n",
        "  print(e_1)\n",
        "except ValueTooLowError as e_2:\n",
        "  print(e_2)"
      ],
      "execution_count": null,
      "outputs": [
        {
          "output_type": "stream",
          "text": [
            "value too high\n"
          ],
          "name": "stdout"
        }
      ]
    },
    {
      "cell_type": "code",
      "metadata": {
        "id": "pbdkOHKWCQFs"
      },
      "source": [
        ""
      ],
      "execution_count": null,
      "outputs": []
    },
    {
      "cell_type": "code",
      "metadata": {
        "id": "c3I8em7ZBGqI"
      },
      "source": [
        ""
      ],
      "execution_count": null,
      "outputs": []
    },
    {
      "cell_type": "markdown",
      "metadata": {
        "id": "tkjrKVdwCsa8"
      },
      "source": [
        "# logging"
      ]
    },
    {
      "cell_type": "code",
      "metadata": {
        "id": "VGbaUqbnBG4A"
      },
      "source": [
        "import logging"
      ],
      "execution_count": null,
      "outputs": []
    },
    {
      "cell_type": "markdown",
      "metadata": {
        "id": "Q6u4A6KjD71h"
      },
      "source": [
        "5 different levels of logging:"
      ]
    },
    {
      "cell_type": "code",
      "metadata": {
        "colab": {
          "base_uri": "https://localhost:8080/"
        },
        "id": "wZn0b9ETBG7d",
        "outputId": "ef345d55-5628-4f89-d800-19366759a9bb"
      },
      "source": [
        "logging.debug('This is a debug message')\n",
        "logging.info('This is an info message')\n",
        "logging.warning('This is a warning message')\n",
        "logging.error('This is an error message')\n",
        "logging.critical('This is a critical message')"
      ],
      "execution_count": null,
      "outputs": [
        {
          "output_type": "stream",
          "text": [
            "WARNING:root:This is a warning message\n",
            "ERROR:root:This is an error message\n",
            "CRITICAL:root:This is a critical message\n"
          ],
          "name": "stderr"
        }
      ]
    },
    {
      "cell_type": "code",
      "metadata": {
        "id": "ZOKII_m5BG-7"
      },
      "source": [
        "logging.basicConfig(level = logging.DEBUG,\n",
        "          format = '%(asctime)s - %(name)s - %(levelname)s - %(message)s',\n",
        "          dateformat = '%m/%d/%Y %H:%M:%S')  "
      ],
      "execution_count": null,
      "outputs": []
    },
    {
      "cell_type": "code",
      "metadata": {
        "colab": {
          "base_uri": "https://localhost:8080/"
        },
        "id": "MYthOafBD01C",
        "outputId": "e959ae3b-9083-4ede-e57d-1dc7f3d84ed9"
      },
      "source": [
        "logging.debug('This is a debug message')\n",
        "logging.info('This is an info message')\n",
        "logging.warning('This is a warning message')\n",
        "logging.error('This is an error message')\n",
        "logging.critical('This is a critical message')"
      ],
      "execution_count": null,
      "outputs": [
        {
          "output_type": "stream",
          "text": [
            "WARNING:root:This is a warning message\n",
            "ERROR:root:This is an error message\n",
            "CRITICAL:root:This is a critical message\n"
          ],
          "name": "stderr"
        }
      ]
    },
    {
      "cell_type": "code",
      "metadata": {
        "id": "UV-iwL0RD04l"
      },
      "source": [
        ""
      ],
      "execution_count": null,
      "outputs": []
    },
    {
      "cell_type": "code",
      "metadata": {
        "id": "3FCxD-vUD07Z"
      },
      "source": [
        ""
      ],
      "execution_count": null,
      "outputs": []
    },
    {
      "cell_type": "markdown",
      "metadata": {
        "id": "ZQ7A0-B8Lgpv"
      },
      "source": [
        "# json"
      ]
    },
    {
      "cell_type": "code",
      "metadata": {
        "id": "HCfT_3T4D0-T"
      },
      "source": [
        "import json"
      ],
      "execution_count": null,
      "outputs": []
    },
    {
      "cell_type": "code",
      "metadata": {
        "id": "OwzvwkeZLmpM"
      },
      "source": [
        "person = {\"name\": \"John\", \"age\": 30, \"city\": \"New York\", \n",
        "      \"hasChildren\": False, \"titles\": [\"engineer\", \"programmer\"]}"
      ],
      "execution_count": null,
      "outputs": []
    },
    {
      "cell_type": "code",
      "metadata": {
        "id": "Al2smKcpLnVB"
      },
      "source": [
        "person_json = json.dumps(person)                # Serialization (encoding)"
      ],
      "execution_count": null,
      "outputs": []
    },
    {
      "cell_type": "code",
      "metadata": {
        "colab": {
          "base_uri": "https://localhost:8080/"
        },
        "id": "pjnKJRX4LnYe",
        "outputId": "73423939-dc6c-46ab-bbdd-8da1ef942acc"
      },
      "source": [
        "print(person_json)"
      ],
      "execution_count": null,
      "outputs": [
        {
          "output_type": "stream",
          "text": [
            "{\"name\": \"John\", \"age\": 30, \"city\": \"New York\", \"hasChildren\": false, \"titles\": [\"engineer\", \"programmer\"]}\n"
          ],
          "name": "stdout"
        }
      ]
    },
    {
      "cell_type": "code",
      "metadata": {
        "id": "oqW6HAxnLncc"
      },
      "source": [
        "person_json_1 = json.dumps(person, indent = 4, sort_keys = True)"
      ],
      "execution_count": null,
      "outputs": []
    },
    {
      "cell_type": "code",
      "metadata": {
        "colab": {
          "base_uri": "https://localhost:8080/",
          "height": 52
        },
        "id": "otGc6NO4Lnfx",
        "outputId": "90ea470a-3319-430d-880a-33292d850578"
      },
      "source": [
        "person_json_1"
      ],
      "execution_count": null,
      "outputs": [
        {
          "output_type": "execute_result",
          "data": {
            "application/vnd.google.colaboratory.intrinsic+json": {
              "type": "string"
            },
            "text/plain": [
              "'{\\n    \"age\": 30,\\n    \"city\": \"New York\",\\n    \"hasChildren\": false,\\n    \"name\": \"John\",\\n    \"titles\": [\\n        \"engineer\",\\n        \"programmer\"\\n    ]\\n}'"
            ]
          },
          "metadata": {
            "tags": []
          },
          "execution_count": 25
        }
      ]
    },
    {
      "cell_type": "code",
      "metadata": {
        "id": "NC_N4_Q3NrYZ"
      },
      "source": [
        "with open ('person.json', 'w') as file:\n",
        "  json.dump(person, file, indent = 4)"
      ],
      "execution_count": null,
      "outputs": []
    },
    {
      "cell_type": "code",
      "metadata": {
        "colab": {
          "base_uri": "https://localhost:8080/"
        },
        "id": "yDFv81BiOMLj",
        "outputId": "724f6543-e730-4575-ac84-99833967726c"
      },
      "source": [
        "person_dict = json.loads(person_json)               # de-serialization (decoding)\n",
        "print(person_dict)"
      ],
      "execution_count": null,
      "outputs": [
        {
          "output_type": "stream",
          "text": [
            "{'name': 'John', 'age': 30, 'city': 'New York', 'hasChildren': False, 'titles': ['engineer', 'programmer']}\n"
          ],
          "name": "stdout"
        }
      ]
    },
    {
      "cell_type": "code",
      "metadata": {
        "colab": {
          "base_uri": "https://localhost:8080/"
        },
        "id": "1oUaLvciONBO",
        "outputId": "17ffa5ee-3bd4-48da-d897-7870bb350a25"
      },
      "source": [
        "person_loaded = json.loads(person_json)\n",
        "print(person_loaded)"
      ],
      "execution_count": null,
      "outputs": [
        {
          "output_type": "stream",
          "text": [
            "{'name': 'John', 'age': 30, 'city': 'New York', 'hasChildren': False, 'titles': ['engineer', 'programmer']}\n"
          ],
          "name": "stdout"
        }
      ]
    },
    {
      "cell_type": "code",
      "metadata": {
        "colab": {
          "base_uri": "https://localhost:8080/"
        },
        "id": "rVlf7z93ONEY",
        "outputId": "b9e72b17-ab8b-485b-85ce-7e4c93d3d7ad"
      },
      "source": [
        "with open('person.json', 'r') as file:\n",
        "  person = json.load(file)\n",
        "  print(person)"
      ],
      "execution_count": null,
      "outputs": [
        {
          "output_type": "stream",
          "text": [
            "{'name': 'John', 'age': 30, 'city': 'New York', 'hasChildren': False, 'titles': ['engineer', 'programmer']}\n"
          ],
          "name": "stdout"
        }
      ]
    },
    {
      "cell_type": "code",
      "metadata": {
        "id": "AHmT3a_YONHK"
      },
      "source": [
        "class User():\n",
        "  def __init__(self, name, age):\n",
        "    self.name = name\n",
        "    self.age = age"
      ],
      "execution_count": null,
      "outputs": []
    },
    {
      "cell_type": "code",
      "metadata": {
        "id": "AWHBJsiOPdgW"
      },
      "source": [
        "user = User('Max', 27)"
      ],
      "execution_count": null,
      "outputs": []
    },
    {
      "cell_type": "code",
      "metadata": {
        "colab": {
          "base_uri": "https://localhost:8080/"
        },
        "id": "0xCTbtaVPg2H",
        "outputId": "f9e52728-71c8-4a0a-ed5e-56597093c197"
      },
      "source": [
        "user"
      ],
      "execution_count": null,
      "outputs": [
        {
          "output_type": "execute_result",
          "data": {
            "text/plain": [
              "<__main__.User at 0x7f187af2f3d0>"
            ]
          },
          "metadata": {
            "tags": []
          },
          "execution_count": 35
        }
      ]
    },
    {
      "cell_type": "code",
      "metadata": {
        "colab": {
          "base_uri": "https://localhost:8080/",
          "height": 306
        },
        "id": "0nvDMhgrPhZM",
        "outputId": "0ce2fa0c-99e0-4fb0-93fe-53697bfbedb6"
      },
      "source": [
        "user_json = json.dumps(user)"
      ],
      "execution_count": null,
      "outputs": [
        {
          "output_type": "error",
          "ename": "TypeError",
          "evalue": "ignored",
          "traceback": [
            "\u001b[0;31m---------------------------------------------------------------------------\u001b[0m",
            "\u001b[0;31mTypeError\u001b[0m                                 Traceback (most recent call last)",
            "\u001b[0;32m<ipython-input-36-0e6bcac73b86>\u001b[0m in \u001b[0;36m<module>\u001b[0;34m()\u001b[0m\n\u001b[0;32m----> 1\u001b[0;31m \u001b[0muser_json\u001b[0m \u001b[0;34m=\u001b[0m \u001b[0mjson\u001b[0m\u001b[0;34m.\u001b[0m\u001b[0mdumps\u001b[0m\u001b[0;34m(\u001b[0m\u001b[0muser\u001b[0m\u001b[0;34m)\u001b[0m\u001b[0;34m\u001b[0m\u001b[0;34m\u001b[0m\u001b[0m\n\u001b[0m",
            "\u001b[0;32m/usr/lib/python3.7/json/__init__.py\u001b[0m in \u001b[0;36mdumps\u001b[0;34m(obj, skipkeys, ensure_ascii, check_circular, allow_nan, cls, indent, separators, default, sort_keys, **kw)\u001b[0m\n\u001b[1;32m    229\u001b[0m         \u001b[0mcls\u001b[0m \u001b[0;32mis\u001b[0m \u001b[0;32mNone\u001b[0m \u001b[0;32mand\u001b[0m \u001b[0mindent\u001b[0m \u001b[0;32mis\u001b[0m \u001b[0;32mNone\u001b[0m \u001b[0;32mand\u001b[0m \u001b[0mseparators\u001b[0m \u001b[0;32mis\u001b[0m \u001b[0;32mNone\u001b[0m \u001b[0;32mand\u001b[0m\u001b[0;34m\u001b[0m\u001b[0;34m\u001b[0m\u001b[0m\n\u001b[1;32m    230\u001b[0m         default is None and not sort_keys and not kw):\n\u001b[0;32m--> 231\u001b[0;31m         \u001b[0;32mreturn\u001b[0m \u001b[0m_default_encoder\u001b[0m\u001b[0;34m.\u001b[0m\u001b[0mencode\u001b[0m\u001b[0;34m(\u001b[0m\u001b[0mobj\u001b[0m\u001b[0;34m)\u001b[0m\u001b[0;34m\u001b[0m\u001b[0;34m\u001b[0m\u001b[0m\n\u001b[0m\u001b[1;32m    232\u001b[0m     \u001b[0;32mif\u001b[0m \u001b[0mcls\u001b[0m \u001b[0;32mis\u001b[0m \u001b[0;32mNone\u001b[0m\u001b[0;34m:\u001b[0m\u001b[0;34m\u001b[0m\u001b[0;34m\u001b[0m\u001b[0m\n\u001b[1;32m    233\u001b[0m         \u001b[0mcls\u001b[0m \u001b[0;34m=\u001b[0m \u001b[0mJSONEncoder\u001b[0m\u001b[0;34m\u001b[0m\u001b[0;34m\u001b[0m\u001b[0m\n",
            "\u001b[0;32m/usr/lib/python3.7/json/encoder.py\u001b[0m in \u001b[0;36mencode\u001b[0;34m(self, o)\u001b[0m\n\u001b[1;32m    197\u001b[0m         \u001b[0;31m# exceptions aren't as detailed.  The list call should be roughly\u001b[0m\u001b[0;34m\u001b[0m\u001b[0;34m\u001b[0m\u001b[0;34m\u001b[0m\u001b[0m\n\u001b[1;32m    198\u001b[0m         \u001b[0;31m# equivalent to the PySequence_Fast that ''.join() would do.\u001b[0m\u001b[0;34m\u001b[0m\u001b[0;34m\u001b[0m\u001b[0;34m\u001b[0m\u001b[0m\n\u001b[0;32m--> 199\u001b[0;31m         \u001b[0mchunks\u001b[0m \u001b[0;34m=\u001b[0m \u001b[0mself\u001b[0m\u001b[0;34m.\u001b[0m\u001b[0miterencode\u001b[0m\u001b[0;34m(\u001b[0m\u001b[0mo\u001b[0m\u001b[0;34m,\u001b[0m \u001b[0m_one_shot\u001b[0m\u001b[0;34m=\u001b[0m\u001b[0;32mTrue\u001b[0m\u001b[0;34m)\u001b[0m\u001b[0;34m\u001b[0m\u001b[0;34m\u001b[0m\u001b[0m\n\u001b[0m\u001b[1;32m    200\u001b[0m         \u001b[0;32mif\u001b[0m \u001b[0;32mnot\u001b[0m \u001b[0misinstance\u001b[0m\u001b[0;34m(\u001b[0m\u001b[0mchunks\u001b[0m\u001b[0;34m,\u001b[0m \u001b[0;34m(\u001b[0m\u001b[0mlist\u001b[0m\u001b[0;34m,\u001b[0m \u001b[0mtuple\u001b[0m\u001b[0;34m)\u001b[0m\u001b[0;34m)\u001b[0m\u001b[0;34m:\u001b[0m\u001b[0;34m\u001b[0m\u001b[0;34m\u001b[0m\u001b[0m\n\u001b[1;32m    201\u001b[0m             \u001b[0mchunks\u001b[0m \u001b[0;34m=\u001b[0m \u001b[0mlist\u001b[0m\u001b[0;34m(\u001b[0m\u001b[0mchunks\u001b[0m\u001b[0;34m)\u001b[0m\u001b[0;34m\u001b[0m\u001b[0;34m\u001b[0m\u001b[0m\n",
            "\u001b[0;32m/usr/lib/python3.7/json/encoder.py\u001b[0m in \u001b[0;36miterencode\u001b[0;34m(self, o, _one_shot)\u001b[0m\n\u001b[1;32m    255\u001b[0m                 \u001b[0mself\u001b[0m\u001b[0;34m.\u001b[0m\u001b[0mkey_separator\u001b[0m\u001b[0;34m,\u001b[0m \u001b[0mself\u001b[0m\u001b[0;34m.\u001b[0m\u001b[0mitem_separator\u001b[0m\u001b[0;34m,\u001b[0m \u001b[0mself\u001b[0m\u001b[0;34m.\u001b[0m\u001b[0msort_keys\u001b[0m\u001b[0;34m,\u001b[0m\u001b[0;34m\u001b[0m\u001b[0;34m\u001b[0m\u001b[0m\n\u001b[1;32m    256\u001b[0m                 self.skipkeys, _one_shot)\n\u001b[0;32m--> 257\u001b[0;31m         \u001b[0;32mreturn\u001b[0m \u001b[0m_iterencode\u001b[0m\u001b[0;34m(\u001b[0m\u001b[0mo\u001b[0m\u001b[0;34m,\u001b[0m \u001b[0;36m0\u001b[0m\u001b[0;34m)\u001b[0m\u001b[0;34m\u001b[0m\u001b[0;34m\u001b[0m\u001b[0m\n\u001b[0m\u001b[1;32m    258\u001b[0m \u001b[0;34m\u001b[0m\u001b[0m\n\u001b[1;32m    259\u001b[0m def _make_iterencode(markers, _default, _encoder, _indent, _floatstr,\n",
            "\u001b[0;32m/usr/lib/python3.7/json/encoder.py\u001b[0m in \u001b[0;36mdefault\u001b[0;34m(self, o)\u001b[0m\n\u001b[1;32m    177\u001b[0m \u001b[0;34m\u001b[0m\u001b[0m\n\u001b[1;32m    178\u001b[0m         \"\"\"\n\u001b[0;32m--> 179\u001b[0;31m         raise TypeError(f'Object of type {o.__class__.__name__} '\n\u001b[0m\u001b[1;32m    180\u001b[0m                         f'is not JSON serializable')\n\u001b[1;32m    181\u001b[0m \u001b[0;34m\u001b[0m\u001b[0m\n",
            "\u001b[0;31mTypeError\u001b[0m: Object of type User is not JSON serializable"
          ]
        }
      ]
    },
    {
      "cell_type": "code",
      "metadata": {
        "id": "8vfGUzZaPlsV"
      },
      "source": [
        "def encode_user(o):\n",
        "  if isinstance(o, User):\n",
        "    return {'name': o.name,\n",
        "         'age': o.age,\n",
        "         o.__class__.__name__: True}\n",
        "  else:\n",
        "    raise TypeError('Obj of type User is not json serializable')"
      ],
      "execution_count": null,
      "outputs": []
    },
    {
      "cell_type": "code",
      "metadata": {
        "id": "nozEXLu8QUp0"
      },
      "source": [
        "user_json = json.dumps(user, default = encode_user)"
      ],
      "execution_count": null,
      "outputs": []
    },
    {
      "cell_type": "code",
      "metadata": {
        "colab": {
          "base_uri": "https://localhost:8080/"
        },
        "id": "MA87MzF_QigL",
        "outputId": "5bbfceb2-8db0-4ed9-8d88-7f8bc0dbd98b"
      },
      "source": [
        "print(user_json)"
      ],
      "execution_count": null,
      "outputs": [
        {
          "output_type": "stream",
          "text": [
            "{\"name\": \"Max\", \"age\": 27, \"User\": true}\n"
          ],
          "name": "stdout"
        }
      ]
    },
    {
      "cell_type": "markdown",
      "metadata": {
        "id": "kCMr-uBQQt20"
      },
      "source": [
        "Or:"
      ]
    },
    {
      "cell_type": "code",
      "metadata": {
        "id": "5gLkXBNIQkPx"
      },
      "source": [
        "from json import JSONEncoder"
      ],
      "execution_count": null,
      "outputs": []
    },
    {
      "cell_type": "code",
      "metadata": {
        "id": "xrtB6DtTQlHQ"
      },
      "source": [
        "class UserEncoder(JSONEncoder):\n",
        "  def default(self, o):\n",
        "    if isinstance(o, User):\n",
        "      return {'name': o.name,\n",
        "           'age': o.age,\n",
        "           o.__class__.__name__: True}\n",
        "    return JSONEncoder.default(self, o)"
      ],
      "execution_count": null,
      "outputs": []
    },
    {
      "cell_type": "code",
      "metadata": {
        "colab": {
          "base_uri": "https://localhost:8080/"
        },
        "id": "EeC93dvlQlKg",
        "outputId": "425c5c31-4c7f-4930-f2f7-51dfcf4c9445"
      },
      "source": [
        "user_json_2 = UserEncoder().encode(user)\n",
        "print(user_json_2)"
      ],
      "execution_count": null,
      "outputs": [
        {
          "output_type": "stream",
          "text": [
            "{\"name\": \"Max\", \"age\": 27, \"User\": true}\n"
          ],
          "name": "stdout"
        }
      ]
    },
    {
      "cell_type": "code",
      "metadata": {
        "colab": {
          "base_uri": "https://localhost:8080/"
        },
        "id": "0y8gQrDuQlNu",
        "outputId": "76176379-f934-4de2-db83-0364ded12d23"
      },
      "source": [
        "user = json.loads(user_json)\n",
        "print(user)\n",
        "print(type(user))"
      ],
      "execution_count": null,
      "outputs": [
        {
          "output_type": "stream",
          "text": [
            "{'name': 'Max', 'age': 27, 'User': True}\n",
            "<class 'dict'>\n"
          ],
          "name": "stdout"
        }
      ]
    },
    {
      "cell_type": "code",
      "metadata": {
        "id": "0XcxAzn1RkmV"
      },
      "source": [
        "def decode_user(dct):\n",
        "  if User.__name__ in dct:\n",
        "    return User(name = dct['name'], \n",
        "           age = dct['age'])\n",
        "  return dct"
      ],
      "execution_count": null,
      "outputs": []
    },
    {
      "cell_type": "code",
      "metadata": {
        "id": "lbLkYD2eRkpk"
      },
      "source": [
        "user = json.loads(user_json, object_hook = decode_user)"
      ],
      "execution_count": null,
      "outputs": []
    },
    {
      "cell_type": "code",
      "metadata": {
        "colab": {
          "base_uri": "https://localhost:8080/"
        },
        "id": "DRMytsfXRktq",
        "outputId": "3d81d83d-734a-4857-f34a-4d9004859d43"
      },
      "source": [
        "print(user)\n",
        "print(type(user))"
      ],
      "execution_count": null,
      "outputs": [
        {
          "output_type": "stream",
          "text": [
            "<__main__.User object at 0x7f187aefca10>\n",
            "<class '__main__.User'>\n"
          ],
          "name": "stdout"
        }
      ]
    },
    {
      "cell_type": "code",
      "metadata": {
        "colab": {
          "base_uri": "https://localhost:8080/",
          "height": 35
        },
        "id": "Tlp-aC_5SYsS",
        "outputId": "157a378d-d9c0-49eb-8a6a-1ba9c2497ad5"
      },
      "source": [
        "user.name"
      ],
      "execution_count": null,
      "outputs": [
        {
          "output_type": "execute_result",
          "data": {
            "application/vnd.google.colaboratory.intrinsic+json": {
              "type": "string"
            },
            "text/plain": [
              "'Max'"
            ]
          },
          "metadata": {
            "tags": []
          },
          "execution_count": 52
        }
      ]
    },
    {
      "cell_type": "code",
      "metadata": {
        "colab": {
          "base_uri": "https://localhost:8080/"
        },
        "id": "1HPjHuUsSb1M",
        "outputId": "ab467c1b-c5c2-4212-a3af-c45844da764a"
      },
      "source": [
        "user.age"
      ],
      "execution_count": null,
      "outputs": [
        {
          "output_type": "execute_result",
          "data": {
            "text/plain": [
              "27"
            ]
          },
          "metadata": {
            "tags": []
          },
          "execution_count": 53
        }
      ]
    },
    {
      "cell_type": "code",
      "metadata": {
        "id": "7BXFhUkjSdXK"
      },
      "source": [
        ""
      ],
      "execution_count": null,
      "outputs": []
    },
    {
      "cell_type": "code",
      "metadata": {
        "id": "gPLJWCPUXt8z"
      },
      "source": [
        ""
      ],
      "execution_count": null,
      "outputs": []
    },
    {
      "cell_type": "markdown",
      "metadata": {
        "id": "UA7M6HQcXvht"
      },
      "source": [
        "# random numbers"
      ]
    },
    {
      "cell_type": "code",
      "metadata": {
        "id": "ch66qIntXuCP"
      },
      "source": [
        "import random    # a module generate pesudo-random num, 'pesudo' means that it is random, but we can reproduce it"
      ],
      "execution_count": null,
      "outputs": []
    },
    {
      "cell_type": "code",
      "metadata": {
        "id": "sQhXgNpAXuGQ"
      },
      "source": [
        "a = random.random()      # a random float [0, 1]"
      ],
      "execution_count": null,
      "outputs": []
    },
    {
      "cell_type": "code",
      "metadata": {
        "colab": {
          "base_uri": "https://localhost:8080/"
        },
        "id": "Qo-lwi-RXuLr",
        "outputId": "05369ff6-139b-498f-f0af-e1fa883425c9"
      },
      "source": [
        "a"
      ],
      "execution_count": null,
      "outputs": [
        {
          "output_type": "execute_result",
          "data": {
            "text/plain": [
              "0.40747753585172464"
            ]
          },
          "metadata": {
            "tags": []
          },
          "execution_count": 57
        }
      ]
    },
    {
      "cell_type": "code",
      "metadata": {
        "colab": {
          "base_uri": "https://localhost:8080/"
        },
        "id": "X6a67_I4XuPi",
        "outputId": "f6aa8aa6-88b0-46ec-fe4a-333f6e04f152"
      },
      "source": [
        "a = random.uniform(1, 10)\n",
        "a  "
      ],
      "execution_count": null,
      "outputs": [
        {
          "output_type": "execute_result",
          "data": {
            "text/plain": [
              "1.5026552844444288"
            ]
          },
          "metadata": {
            "tags": []
          },
          "execution_count": 58
        }
      ]
    },
    {
      "cell_type": "code",
      "metadata": {
        "colab": {
          "base_uri": "https://localhost:8080/"
        },
        "id": "gnQYLqInXuUu",
        "outputId": "ab609bc2-bfd2-499b-e61d-3b622523065f"
      },
      "source": [
        "a = random.randint(1, 10)\n",
        "a  "
      ],
      "execution_count": null,
      "outputs": [
        {
          "output_type": "execute_result",
          "data": {
            "text/plain": [
              "10"
            ]
          },
          "metadata": {
            "tags": []
          },
          "execution_count": 62
        }
      ]
    },
    {
      "cell_type": "code",
      "metadata": {
        "colab": {
          "base_uri": "https://localhost:8080/"
        },
        "id": "TKR3uoxDYiLT",
        "outputId": "30561315-90f8-4d39-a784-f98fb0d3ad8d"
      },
      "source": [
        "a = random.randrange(1, 10)   # excluded boundaries\n",
        "a  "
      ],
      "execution_count": null,
      "outputs": [
        {
          "output_type": "execute_result",
          "data": {
            "text/plain": [
              "3"
            ]
          },
          "metadata": {
            "tags": []
          },
          "execution_count": 63
        }
      ]
    },
    {
      "cell_type": "code",
      "metadata": {
        "colab": {
          "base_uri": "https://localhost:8080/"
        },
        "id": "_Gb_JCMNYnrG",
        "outputId": "6458590b-33c7-4af3-fe92-a3b82d1ae339"
      },
      "source": [
        "a = random.normalvariate(0, 1)\n",
        "a"
      ],
      "execution_count": null,
      "outputs": [
        {
          "output_type": "execute_result",
          "data": {
            "text/plain": [
              "-0.6037991775109214"
            ]
          },
          "metadata": {
            "tags": []
          },
          "execution_count": 64
        }
      ]
    },
    {
      "cell_type": "code",
      "metadata": {
        "colab": {
          "base_uri": "https://localhost:8080/"
        },
        "id": "x6w_PQKBYvOS",
        "outputId": "8eb5b7e7-a3d0-4865-ecb5-f135d710ccbd"
      },
      "source": [
        "lst = list('ABCDEFGH')\n",
        "lst"
      ],
      "execution_count": null,
      "outputs": [
        {
          "output_type": "execute_result",
          "data": {
            "text/plain": [
              "['A', 'B', 'C', 'D', 'E', 'F', 'G', 'H']"
            ]
          },
          "metadata": {
            "tags": []
          },
          "execution_count": 65
        }
      ]
    },
    {
      "cell_type": "code",
      "metadata": {
        "colab": {
          "base_uri": "https://localhost:8080/",
          "height": 35
        },
        "id": "NekZV8vpYyKA",
        "outputId": "46a7ca6f-c36b-469f-9c15-c69e0df5228b"
      },
      "source": [
        "a = random.choice(lst)\n",
        "a"
      ],
      "execution_count": null,
      "outputs": [
        {
          "output_type": "execute_result",
          "data": {
            "application/vnd.google.colaboratory.intrinsic+json": {
              "type": "string"
            },
            "text/plain": [
              "'D'"
            ]
          },
          "metadata": {
            "tags": []
          },
          "execution_count": 66
        }
      ]
    },
    {
      "cell_type": "code",
      "metadata": {
        "colab": {
          "base_uri": "https://localhost:8080/"
        },
        "id": "FpZp1FLtYyOA",
        "outputId": "1350ebb0-37cb-482e-f48c-41da327a43ec"
      },
      "source": [
        "a = random.sample(lst, 3)    # no-replacement\n",
        "a"
      ],
      "execution_count": null,
      "outputs": [
        {
          "output_type": "execute_result",
          "data": {
            "text/plain": [
              "['C', 'B', 'E']"
            ]
          },
          "metadata": {
            "tags": []
          },
          "execution_count": 67
        }
      ]
    },
    {
      "cell_type": "code",
      "metadata": {
        "colab": {
          "base_uri": "https://localhost:8080/"
        },
        "id": "D3C3bT7iYyS-",
        "outputId": "ba2c1e97-7e15-4aec-c724-663393ee07a6"
      },
      "source": [
        "a = random.choices(lst, k = 3)    # with replacement\n",
        "a"
      ],
      "execution_count": null,
      "outputs": [
        {
          "output_type": "execute_result",
          "data": {
            "text/plain": [
              "['F', 'F', 'F']"
            ]
          },
          "metadata": {
            "tags": []
          },
          "execution_count": 75
        }
      ]
    },
    {
      "cell_type": "code",
      "metadata": {
        "colab": {
          "base_uri": "https://localhost:8080/"
        },
        "id": "dyVBNi26YybQ",
        "outputId": "521e706c-f574-4bb5-a266-b2c2bc769f87"
      },
      "source": [
        "print(lst)\n",
        "random.shuffle(lst)\n",
        "print(lst)"
      ],
      "execution_count": null,
      "outputs": [
        {
          "output_type": "stream",
          "text": [
            "['E', 'F', 'C', 'G', 'A', 'H', 'D', 'B']\n",
            "['D', 'F', 'E', 'A', 'G', 'C', 'B', 'H']\n"
          ],
          "name": "stdout"
        }
      ]
    },
    {
      "cell_type": "code",
      "metadata": {
        "colab": {
          "base_uri": "https://localhost:8080/"
        },
        "id": "2IrBhEunYyiD",
        "outputId": "a1ccff36-653b-431d-ef42-97f5ac4aebb3"
      },
      "source": [
        "random.seed(1)\n",
        "print(random.random())\n",
        "print(random.randint(1, 10))"
      ],
      "execution_count": null,
      "outputs": [
        {
          "output_type": "stream",
          "text": [
            "0.13436424411240122\n",
            "2\n"
          ],
          "name": "stdout"
        }
      ]
    },
    {
      "cell_type": "code",
      "metadata": {
        "colab": {
          "base_uri": "https://localhost:8080/"
        },
        "id": "ozKBDzNSZkQK",
        "outputId": "50c54f0a-ed45-4a6b-aa2f-d54e998f0135"
      },
      "source": [
        "random.seed(1)                    # pesudo \n",
        "print(random.random())\n",
        "print(random.randint(1, 10))"
      ],
      "execution_count": null,
      "outputs": [
        {
          "output_type": "stream",
          "text": [
            "0.13436424411240122\n",
            "2\n"
          ],
          "name": "stdout"
        }
      ]
    },
    {
      "cell_type": "code",
      "metadata": {
        "colab": {
          "base_uri": "https://localhost:8080/"
        },
        "id": "aCooGyn5ZuP4",
        "outputId": "04ae14ce-1503-41b3-d251-782024e4a1b9"
      },
      "source": [
        "random.seed(42)                    # pesudo \n",
        "print(random.random())\n",
        "print(random.randint(1, 10))"
      ],
      "execution_count": null,
      "outputs": [
        {
          "output_type": "stream",
          "text": [
            "0.6394267984578837\n",
            "1\n"
          ],
          "name": "stdout"
        }
      ]
    },
    {
      "cell_type": "code",
      "metadata": {
        "colab": {
          "base_uri": "https://localhost:8080/"
        },
        "id": "93ZwBQ6wZ3fe",
        "outputId": "4734f7af-801f-4510-ed84-0036b1b50228"
      },
      "source": [
        "random.seed(42)                    # pesudo \n",
        "print(random.random())\n",
        "print(random.randint(1, 10))"
      ],
      "execution_count": null,
      "outputs": [
        {
          "output_type": "stream",
          "text": [
            "0.6394267984578837\n",
            "1\n"
          ],
          "name": "stdout"
        }
      ]
    },
    {
      "cell_type": "markdown",
      "metadata": {
        "id": "AGluEt70aBGD"
      },
      "source": [
        "pesudo: not suitable for security purpose"
      ]
    },
    {
      "cell_type": "code",
      "metadata": {
        "id": "eyMIKc0qZ4lH"
      },
      "source": [
        "import secrets    # for PW etc."
      ],
      "execution_count": null,
      "outputs": []
    },
    {
      "cell_type": "code",
      "metadata": {
        "colab": {
          "base_uri": "https://localhost:8080/"
        },
        "id": "lqaJU8WqZ6aT",
        "outputId": "49c5e4a2-a9ad-4d7a-fb8b-a6c0b424cfd6"
      },
      "source": [
        "a = secrets.randbelow(10)\n",
        "print(a)"
      ],
      "execution_count": null,
      "outputs": [
        {
          "output_type": "stream",
          "text": [
            "7\n"
          ],
          "name": "stdout"
        }
      ]
    },
    {
      "cell_type": "code",
      "metadata": {
        "colab": {
          "base_uri": "https://localhost:8080/"
        },
        "id": "TgHjevBtZ6hd",
        "outputId": "c36ec910-661d-4a26-8c9e-a9f0e71ea102"
      },
      "source": [
        "a = secrets.randbits(4)   # max = 15\n",
        "print(a)"
      ],
      "execution_count": null,
      "outputs": [
        {
          "output_type": "stream",
          "text": [
            "13\n"
          ],
          "name": "stdout"
        }
      ]
    },
    {
      "cell_type": "code",
      "metadata": {
        "colab": {
          "base_uri": "https://localhost:8080/"
        },
        "id": "yxzpjdaYZ6l3",
        "outputId": "b8b7c742-7c38-4501-d88a-bf0c48f0db04"
      },
      "source": [
        "lst = list('ABCDEFGH')\n",
        "a = secrets.choice(lst)\n",
        "print(a)"
      ],
      "execution_count": null,
      "outputs": [
        {
          "output_type": "stream",
          "text": [
            "G\n"
          ],
          "name": "stdout"
        }
      ]
    },
    {
      "cell_type": "code",
      "metadata": {
        "id": "PNLj3fSWZ6qX"
      },
      "source": [
        "import numpy as np"
      ],
      "execution_count": null,
      "outputs": []
    },
    {
      "cell_type": "code",
      "metadata": {
        "colab": {
          "base_uri": "https://localhost:8080/"
        },
        "id": "5IYbQGFrZ6yA",
        "outputId": "083dca57-6c53-40d2-f838-971835979812"
      },
      "source": [
        "a = np.random.rand(3)\n",
        "a"
      ],
      "execution_count": null,
      "outputs": [
        {
          "output_type": "execute_result",
          "data": {
            "text/plain": [
              "array([0.16345828, 0.2489448 , 0.82640235])"
            ]
          },
          "metadata": {
            "tags": []
          },
          "execution_count": 98
        }
      ]
    },
    {
      "cell_type": "code",
      "metadata": {
        "colab": {
          "base_uri": "https://localhost:8080/"
        },
        "id": "E6qwKQxrbWnk",
        "outputId": "90d742ce-2eac-4d9d-935e-aeea6916e09f"
      },
      "source": [
        "a = np.random.rand(3,2)\n",
        "a"
      ],
      "execution_count": null,
      "outputs": [
        {
          "output_type": "execute_result",
          "data": {
            "text/plain": [
              "array([[0.47207499, 0.57995195],\n",
              "       [0.69562415, 0.37163898],\n",
              "       [0.39090332, 0.94618814]])"
            ]
          },
          "metadata": {
            "tags": []
          },
          "execution_count": 99
        }
      ]
    },
    {
      "cell_type": "code",
      "metadata": {
        "colab": {
          "base_uri": "https://localhost:8080/"
        },
        "id": "u7A86uJqbWx-",
        "outputId": "df1f6a81-1310-4c65-ea92-ece9119fc228"
      },
      "source": [
        "a = np.random.randint(0,10,3)\n",
        "a"
      ],
      "execution_count": null,
      "outputs": [
        {
          "output_type": "execute_result",
          "data": {
            "text/plain": [
              "array([6, 2, 4])"
            ]
          },
          "metadata": {
            "tags": []
          },
          "execution_count": 100
        }
      ]
    },
    {
      "cell_type": "code",
      "metadata": {
        "colab": {
          "base_uri": "https://localhost:8080/"
        },
        "id": "bGKFJM3kbW69",
        "outputId": "c722ad71-279c-4ae0-9024-2fd679981827"
      },
      "source": [
        "a = np.random.randint(0,10,(3, 2))\n",
        "a"
      ],
      "execution_count": null,
      "outputs": [
        {
          "output_type": "execute_result",
          "data": {
            "text/plain": [
              "array([[1, 4],\n",
              "       [5, 6],\n",
              "       [9, 8]])"
            ]
          },
          "metadata": {
            "tags": []
          },
          "execution_count": 101
        }
      ]
    },
    {
      "cell_type": "code",
      "metadata": {
        "id": "QlQtxa4ObXDf"
      },
      "source": [
        "arr = np.array([[1,2,3],\n",
        "        [4,5,6],\n",
        "        [7,8,9]])"
      ],
      "execution_count": null,
      "outputs": []
    },
    {
      "cell_type": "code",
      "metadata": {
        "colab": {
          "base_uri": "https://localhost:8080/"
        },
        "id": "vHA6cXOEb9wK",
        "outputId": "d99145e5-e92a-4aac-8583-113e34d6f429"
      },
      "source": [
        "print(arr)\n",
        "print(np.random.shuffle(arr))"
      ],
      "execution_count": null,
      "outputs": [
        {
          "output_type": "stream",
          "text": [
            "[[1 2 3]\n",
            " [4 5 6]\n",
            " [7 8 9]]\n",
            "None\n"
          ],
          "name": "stdout"
        }
      ]
    },
    {
      "cell_type": "code",
      "metadata": {
        "colab": {
          "base_uri": "https://localhost:8080/"
        },
        "id": "C-UcoASpcA2V",
        "outputId": "fe4b62ae-e8b3-49f5-b83d-0b8f697635a1"
      },
      "source": [
        "np.random.seed(1)\n",
        "a = np.random.randint(0,10,(3, 2))\n",
        "a"
      ],
      "execution_count": null,
      "outputs": [
        {
          "output_type": "execute_result",
          "data": {
            "text/plain": [
              "array([[5, 8],\n",
              "       [9, 5],\n",
              "       [0, 0]])"
            ]
          },
          "metadata": {
            "tags": []
          },
          "execution_count": 110
        }
      ]
    },
    {
      "cell_type": "code",
      "metadata": {
        "colab": {
          "base_uri": "https://localhost:8080/"
        },
        "id": "PBWW1qc3cNI5",
        "outputId": "d730926f-754c-4d8b-bd74-f7c037b1a83f"
      },
      "source": [
        "np.random.seed(1)\n",
        "a = np.random.randint(0,10,(3, 2))\n",
        "a"
      ],
      "execution_count": null,
      "outputs": [
        {
          "output_type": "execute_result",
          "data": {
            "text/plain": [
              "array([[5, 8],\n",
              "       [9, 5],\n",
              "       [0, 0]])"
            ]
          },
          "metadata": {
            "tags": []
          },
          "execution_count": 112
        }
      ]
    },
    {
      "cell_type": "code",
      "metadata": {
        "id": "CbiUDwyacTTF"
      },
      "source": [
        ""
      ],
      "execution_count": null,
      "outputs": []
    },
    {
      "cell_type": "code",
      "metadata": {
        "id": "o1uE97GpcfyM"
      },
      "source": [
        ""
      ],
      "execution_count": null,
      "outputs": []
    },
    {
      "cell_type": "markdown",
      "metadata": {
        "id": "-hg1nhlgcf9z"
      },
      "source": [
        "# decorators"
      ]
    },
    {
      "cell_type": "markdown",
      "metadata": {
        "id": "zzCGLv6IStKt"
      },
      "source": [
        "https://www.python-engineer.com/courses/advancedpython/13-decorators/"
      ]
    },
    {
      "cell_type": "markdown",
      "metadata": {
        "id": "ypugdABgQ9-X"
      },
      "source": [
        "decorator is a @\"function\" that takes another func as argument and extend the functionality of the function"
      ]
    },
    {
      "cell_type": "markdown",
      "metadata": {
        "id": "QmMQcm3RQt7Y"
      },
      "source": [
        "two kinds of decorators: function decorator & class decorator"
      ]
    },
    {
      "cell_type": "markdown",
      "metadata": {
        "id": "AnCopjulQxt-"
      },
      "source": [
        "Format:\n",
        "\n",
        "@mydecorator\n",
        "\n",
        "def dosomething():\n",
        "   pass"
      ]
    },
    {
      "cell_type": "code",
      "metadata": {
        "id": "ygwxLum-QxCV"
      },
      "source": [
        "def start_end_decorator(func):\n",
        "\n",
        "  def wrapper(*args, **kwargs):\n",
        "    print('Start')\n",
        "    func(*args, **kwargs)\n",
        "    print('End')\n",
        "  return wrapper"
      ],
      "execution_count": null,
      "outputs": []
    },
    {
      "cell_type": "code",
      "metadata": {
        "id": "Ic4RqJ6r_4Sk"
      },
      "source": [
        "def print_name():\n",
        "  print('Lin')"
      ],
      "execution_count": null,
      "outputs": []
    },
    {
      "cell_type": "code",
      "metadata": {
        "id": "6ERl9mzU_420"
      },
      "source": [
        "name_strat_end = start_end_decorator(print_name)"
      ],
      "execution_count": null,
      "outputs": []
    },
    {
      "cell_type": "code",
      "metadata": {
        "colab": {
          "base_uri": "https://localhost:8080/"
        },
        "id": "6ZYJyf4DSFtF",
        "outputId": "c72ce509-4f45-4764-dbe5-55cb23ece871"
      },
      "source": [
        "name_strat_end()"
      ],
      "execution_count": null,
      "outputs": [
        {
          "output_type": "stream",
          "text": [
            "Start\n",
            "Lin\n",
            "End\n"
          ],
          "name": "stdout"
        }
      ]
    },
    {
      "cell_type": "markdown",
      "metadata": {
        "id": "qE_2_7ILVDyj"
      },
      "source": [
        "Or, use @ decorator:"
      ]
    },
    {
      "cell_type": "code",
      "metadata": {
        "id": "0F1jcU41S2Xc"
      },
      "source": [
        "@start_end_decorator\n",
        "def print_name():\n",
        "  print('Bo')"
      ],
      "execution_count": null,
      "outputs": []
    },
    {
      "cell_type": "code",
      "metadata": {
        "colab": {
          "base_uri": "https://localhost:8080/"
        },
        "id": "345jVZfNVXO1",
        "outputId": "4b31aff4-a985-4c0d-d946-6a79b6413bec"
      },
      "source": [
        "print_name()"
      ],
      "execution_count": null,
      "outputs": [
        {
          "output_type": "stream",
          "text": [
            "Start\n",
            "Bo\n",
            "End\n"
          ],
          "name": "stdout"
        }
      ]
    },
    {
      "cell_type": "code",
      "metadata": {
        "id": "-eKXHJaVVY2J"
      },
      "source": [
        "@start_end_decorator\n",
        "def add5(x):\n",
        "  print(x + 5)"
      ],
      "execution_count": null,
      "outputs": []
    },
    {
      "cell_type": "code",
      "metadata": {
        "colab": {
          "base_uri": "https://localhost:8080/"
        },
        "id": "yutQW1cgXZ9h",
        "outputId": "4c799574-462b-45b1-f3e5-93c98a40edfe"
      },
      "source": [
        "add5(10)"
      ],
      "execution_count": null,
      "outputs": [
        {
          "output_type": "stream",
          "text": [
            "Start\n",
            "15\n",
            "End\n"
          ],
          "name": "stdout"
        }
      ]
    },
    {
      "cell_type": "code",
      "metadata": {
        "colab": {
          "base_uri": "https://localhost:8080/"
        },
        "id": "1kuWWtTdXblH",
        "outputId": "7f9d72e8-8777-4d7d-dd4e-ec0346dac8a3"
      },
      "source": [
        "print(add5.__name__)                             # identity is confused\n",
        "help(add5)"
      ],
      "execution_count": null,
      "outputs": [
        {
          "output_type": "stream",
          "text": [
            "wrapper\n",
            "Help on function wrapper in module __main__:\n",
            "\n",
            "wrapper(*args, **kwargs)\n",
            "\n"
          ],
          "name": "stdout"
        }
      ]
    },
    {
      "cell_type": "code",
      "metadata": {
        "colab": {
          "base_uri": "https://localhost:8080/"
        },
        "id": "djcob6U_YifS",
        "outputId": "f8f7b60e-ec95-423f-fd2a-61e92ba939e2"
      },
      "source": [
        "import functools      \n",
        "\n",
        "def start_end_decorator_4(func):            \n",
        "    \n",
        "    @functools.wraps(func)                        # identity issue fixed\n",
        "    def wrapper(*args, **kwargs):\n",
        "        print('Start')\n",
        "        result = func(*args, **kwargs)\n",
        "        print('End')\n",
        "        return result\n",
        "    return wrapper\n",
        "\n",
        "@start_end_decorator_4\n",
        "def add_5(x):\n",
        "    return x + 5\n",
        "result = add_5(10)\n",
        "print(result)\n",
        "print(add_5.__name__)\n",
        "help(add_5)"
      ],
      "execution_count": null,
      "outputs": [
        {
          "output_type": "stream",
          "text": [
            "Start\n",
            "End\n",
            "15\n",
            "add_5\n",
            "Help on function add_5 in module __main__:\n",
            "\n",
            "add_5(x)\n",
            "\n"
          ],
          "name": "stdout"
        }
      ]
    },
    {
      "cell_type": "code",
      "metadata": {
        "id": "6Ai3FVARabcZ"
      },
      "source": [
        "class CountCalls:\n",
        "\n",
        "  def __init__(self, func):\n",
        "    self.func = func\n",
        "    self.num_calls = 0\n",
        "\n",
        "  def __call__(self, *args, **kwargs):\n",
        "    self.num_calls += 1\n",
        "    print(f\"This is called {self.num_calls} times\")\n",
        "    return self.func(*args, **kwargs)\n"
      ],
      "execution_count": null,
      "outputs": []
    },
    {
      "cell_type": "code",
      "metadata": {
        "id": "jMi6lySZabs6"
      },
      "source": [
        "@CountCalls\n",
        "\n",
        "def say_hello():\n",
        "  print('Hello')"
      ],
      "execution_count": null,
      "outputs": []
    },
    {
      "cell_type": "code",
      "metadata": {
        "colab": {
          "base_uri": "https://localhost:8080/"
        },
        "id": "yWqJOQLbab8R",
        "outputId": "ef6ae070-bd4b-4a95-baae-edc840f10c21"
      },
      "source": [
        "say_hello()"
      ],
      "execution_count": null,
      "outputs": [
        {
          "output_type": "stream",
          "text": [
            "This is called 1 times\n",
            "Hello\n"
          ],
          "name": "stdout"
        }
      ]
    },
    {
      "cell_type": "code",
      "metadata": {
        "colab": {
          "base_uri": "https://localhost:8080/"
        },
        "id": "ANj8FGZqbjcT",
        "outputId": "df52ea78-3730-4200-c3b0-b19fbcfcd485"
      },
      "source": [
        "say_hello()"
      ],
      "execution_count": null,
      "outputs": [
        {
          "output_type": "stream",
          "text": [
            "This is called 2 times\n",
            "Hello\n"
          ],
          "name": "stdout"
        }
      ]
    },
    {
      "cell_type": "code",
      "metadata": {
        "colab": {
          "base_uri": "https://localhost:8080/"
        },
        "id": "pAm4CVIhbk8z",
        "outputId": "f51a5719-5964-40c9-edf8-7b69f5a6bd06"
      },
      "source": [
        "say_hello()"
      ],
      "execution_count": null,
      "outputs": [
        {
          "output_type": "stream",
          "text": [
            "This is called 3 times\n",
            "Hello\n"
          ],
          "name": "stdout"
        }
      ]
    },
    {
      "cell_type": "code",
      "metadata": {
        "id": "5GGqmm9FbneF"
      },
      "source": [
        ""
      ],
      "execution_count": null,
      "outputs": []
    },
    {
      "cell_type": "code",
      "metadata": {
        "id": "9LkzmB1yWmji"
      },
      "source": [
        ""
      ],
      "execution_count": null,
      "outputs": []
    },
    {
      "cell_type": "markdown",
      "metadata": {
        "id": "fRd9f1A6WmxI"
      },
      "source": [
        "# generators"
      ]
    },
    {
      "cell_type": "markdown",
      "metadata": {
        "id": "uLc8ENrHYey4"
      },
      "source": [
        "Generators are functions that return an object that can be iterated over. They generate the object inside lazily, which means that it generate item one at a time and only only when you ask for it, which is memory efficient. "
      ]
    },
    {
      "cell_type": "markdown",
      "metadata": {
        "id": "Ki0AQ-sPaXcw"
      },
      "source": [
        "Defined as a normal func but with a yield keyword instead of a return keyword"
      ]
    },
    {
      "cell_type": "code",
      "metadata": {
        "id": "Hwz5K1O4Wqkh"
      },
      "source": [
        "def mygenerator():\n",
        "  yield 1\n",
        "  yield 2\n",
        "  yield 3"
      ],
      "execution_count": null,
      "outputs": []
    },
    {
      "cell_type": "code",
      "metadata": {
        "id": "WsMEXiOXWr52"
      },
      "source": [
        "g = mygenerator()"
      ],
      "execution_count": null,
      "outputs": []
    },
    {
      "cell_type": "code",
      "metadata": {
        "colab": {
          "base_uri": "https://localhost:8080/"
        },
        "id": "XxSfaqWCWsD2",
        "outputId": "2a741958-4a71-49f6-c13f-3ec70978b8bb"
      },
      "source": [
        "value = next(g)\n",
        "print(value)"
      ],
      "execution_count": null,
      "outputs": [
        {
          "output_type": "stream",
          "text": [
            "1\n"
          ],
          "name": "stdout"
        }
      ]
    },
    {
      "cell_type": "code",
      "metadata": {
        "colab": {
          "base_uri": "https://localhost:8080/"
        },
        "id": "IUqTb6oAWsOz",
        "outputId": "954d9e04-f093-4891-996e-b95eaf4eb308"
      },
      "source": [
        "print(value)"
      ],
      "execution_count": null,
      "outputs": [
        {
          "output_type": "stream",
          "text": [
            "1\n"
          ],
          "name": "stdout"
        }
      ]
    },
    {
      "cell_type": "code",
      "metadata": {
        "colab": {
          "base_uri": "https://localhost:8080/"
        },
        "id": "HEJ5LM_9atL3",
        "outputId": "07bf50ec-85df-4abe-d1ef-45b84dedecf0"
      },
      "source": [
        "value = next(g)\n",
        "print(value)"
      ],
      "execution_count": null,
      "outputs": [
        {
          "output_type": "stream",
          "text": [
            "3\n"
          ],
          "name": "stdout"
        }
      ]
    },
    {
      "cell_type": "code",
      "metadata": {
        "colab": {
          "base_uri": "https://localhost:8080/"
        },
        "id": "sfeqJZvyat9Z",
        "outputId": "06f4afe9-3fa4-401f-96e6-f7705847491c"
      },
      "source": [
        "value = next(g)\n",
        "print(value)"
      ],
      "execution_count": null,
      "outputs": [
        {
          "output_type": "stream",
          "text": [
            "2\n"
          ],
          "name": "stdout"
        }
      ]
    },
    {
      "cell_type": "code",
      "metadata": {
        "colab": {
          "base_uri": "https://localhost:8080/",
          "height": 180
        },
        "id": "NCXapr-PauGp",
        "outputId": "95aec5b2-bc4d-4605-9755-732618b98327"
      },
      "source": [
        "value = next(g)\n",
        "print(value)"
      ],
      "execution_count": null,
      "outputs": [
        {
          "output_type": "error",
          "ename": "StopIteration",
          "evalue": "ignored",
          "traceback": [
            "\u001b[0;31m---------------------------------------------------------------------------\u001b[0m",
            "\u001b[0;31mStopIteration\u001b[0m                             Traceback (most recent call last)",
            "\u001b[0;32m<ipython-input-13-3f0e4a8bd2aa>\u001b[0m in \u001b[0;36m<module>\u001b[0;34m()\u001b[0m\n\u001b[0;32m----> 1\u001b[0;31m \u001b[0mvalue\u001b[0m \u001b[0;34m=\u001b[0m \u001b[0mnext\u001b[0m\u001b[0;34m(\u001b[0m\u001b[0mg\u001b[0m\u001b[0;34m)\u001b[0m\u001b[0;34m\u001b[0m\u001b[0;34m\u001b[0m\u001b[0m\n\u001b[0m\u001b[1;32m      2\u001b[0m \u001b[0mprint\u001b[0m\u001b[0;34m(\u001b[0m\u001b[0mvalue\u001b[0m\u001b[0;34m)\u001b[0m\u001b[0;34m\u001b[0m\u001b[0;34m\u001b[0m\u001b[0m\n",
            "\u001b[0;31mStopIteration\u001b[0m: "
          ]
        }
      ]
    },
    {
      "cell_type": "code",
      "metadata": {
        "colab": {
          "base_uri": "https://localhost:8080/"
        },
        "id": "iVU3a02RbAm3",
        "outputId": "fe480255-e9b3-4eaa-e82e-15b45f0182ec"
      },
      "source": [
        "print(sum(g))"
      ],
      "execution_count": null,
      "outputs": [
        {
          "output_type": "stream",
          "text": [
            "0\n"
          ],
          "name": "stdout"
        }
      ]
    },
    {
      "cell_type": "code",
      "metadata": {
        "id": "_xROoqXdbHEU"
      },
      "source": [
        "def countdown(num):\n",
        "  print('Start')\n",
        "  while num > 0:\n",
        "    yield num\n",
        "    num -= 1"
      ],
      "execution_count": null,
      "outputs": []
    },
    {
      "cell_type": "code",
      "metadata": {
        "id": "TXZx59wjbv6P"
      },
      "source": [
        "cd = countdown(4)"
      ],
      "execution_count": null,
      "outputs": []
    },
    {
      "cell_type": "code",
      "metadata": {
        "colab": {
          "base_uri": "https://localhost:8080/"
        },
        "id": "QQeLP1C-bz1v",
        "outputId": "7c2eba32-9ae0-4ecc-b167-ab11418a9344"
      },
      "source": [
        "value = next(cd)\n",
        "print(value)"
      ],
      "execution_count": null,
      "outputs": [
        {
          "output_type": "stream",
          "text": [
            "Start\n",
            "4\n"
          ],
          "name": "stdout"
        }
      ]
    },
    {
      "cell_type": "code",
      "metadata": {
        "colab": {
          "base_uri": "https://localhost:8080/"
        },
        "id": "GgFHlprPb3hV",
        "outputId": "5328eb48-9636-41b7-d482-405ef3db9dcd"
      },
      "source": [
        "value = next(cd)\n",
        "print(value)"
      ],
      "execution_count": null,
      "outputs": [
        {
          "output_type": "stream",
          "text": [
            "3\n"
          ],
          "name": "stdout"
        }
      ]
    },
    {
      "cell_type": "code",
      "metadata": {
        "colab": {
          "base_uri": "https://localhost:8080/"
        },
        "id": "Ki8QPceFb-OJ",
        "outputId": "6fa84477-1c4b-4452-974c-aeb633d7ee70"
      },
      "source": [
        "value = next(cd)\n",
        "print(value)"
      ],
      "execution_count": null,
      "outputs": [
        {
          "output_type": "stream",
          "text": [
            "2\n"
          ],
          "name": "stdout"
        }
      ]
    },
    {
      "cell_type": "code",
      "metadata": {
        "colab": {
          "base_uri": "https://localhost:8080/"
        },
        "id": "vntOlKxFb_I7",
        "outputId": "15ec9cd2-2af3-4ffd-9163-f6c3042b6617"
      },
      "source": [
        "value = next(cd)\n",
        "print(value)"
      ],
      "execution_count": null,
      "outputs": [
        {
          "output_type": "stream",
          "text": [
            "1\n"
          ],
          "name": "stdout"
        }
      ]
    },
    {
      "cell_type": "code",
      "metadata": {
        "colab": {
          "base_uri": "https://localhost:8080/",
          "height": 180
        },
        "id": "0orRr4dycAKL",
        "outputId": "408028bf-d6ba-4858-f737-2fd9b6796845"
      },
      "source": [
        "value = next(cd)\n",
        "print(value)"
      ],
      "execution_count": null,
      "outputs": [
        {
          "output_type": "error",
          "ename": "StopIteration",
          "evalue": "ignored",
          "traceback": [
            "\u001b[0;31m---------------------------------------------------------------------------\u001b[0m",
            "\u001b[0;31mStopIteration\u001b[0m                             Traceback (most recent call last)",
            "\u001b[0;32m<ipython-input-24-0b010f4d651f>\u001b[0m in \u001b[0;36m<module>\u001b[0;34m()\u001b[0m\n\u001b[0;32m----> 1\u001b[0;31m \u001b[0mvalue\u001b[0m \u001b[0;34m=\u001b[0m \u001b[0mnext\u001b[0m\u001b[0;34m(\u001b[0m\u001b[0mcd\u001b[0m\u001b[0;34m)\u001b[0m\u001b[0;34m\u001b[0m\u001b[0;34m\u001b[0m\u001b[0m\n\u001b[0m\u001b[1;32m      2\u001b[0m \u001b[0mprint\u001b[0m\u001b[0;34m(\u001b[0m\u001b[0mvalue\u001b[0m\u001b[0;34m)\u001b[0m\u001b[0;34m\u001b[0m\u001b[0;34m\u001b[0m\u001b[0m\n",
            "\u001b[0;31mStopIteration\u001b[0m: "
          ]
        }
      ]
    },
    {
      "cell_type": "code",
      "metadata": {
        "id": "E12xZ2KmdEKH"
      },
      "source": [
        "import sys"
      ],
      "execution_count": null,
      "outputs": []
    },
    {
      "cell_type": "code",
      "metadata": {
        "id": "K4WrsTZVcA-c"
      },
      "source": [
        "def firstn(n):\n",
        "  nums = []\n",
        "  num = 0\n",
        "  while num < n:\n",
        "    nums.append(num)\n",
        "    num += 1\n",
        "  return nums"
      ],
      "execution_count": null,
      "outputs": []
    },
    {
      "cell_type": "code",
      "metadata": {
        "colab": {
          "base_uri": "https://localhost:8080/"
        },
        "id": "mkEOuYCvcU4h",
        "outputId": "5eed2501-6fc7-43fa-eb08-c7e7dcbe2a5e"
      },
      "source": [
        "print(firstn(10))"
      ],
      "execution_count": null,
      "outputs": [
        {
          "output_type": "stream",
          "text": [
            "[0, 1, 2, 3, 4, 5, 6, 7, 8, 9]\n"
          ],
          "name": "stdout"
        }
      ]
    },
    {
      "cell_type": "code",
      "metadata": {
        "colab": {
          "base_uri": "https://localhost:8080/"
        },
        "id": "mLWBW74kcU8J",
        "outputId": "b6d07c8b-8c8f-45ce-bc7a-4884fefbcc8c"
      },
      "source": [
        "print(sum(firstn(10)))"
      ],
      "execution_count": null,
      "outputs": [
        {
          "output_type": "stream",
          "text": [
            "45\n"
          ],
          "name": "stdout"
        }
      ]
    },
    {
      "cell_type": "code",
      "metadata": {
        "id": "tO4uyq4XcVBR"
      },
      "source": [
        "def firstn_generator(n):      # memory efficient\n",
        "  num = 0 \n",
        "  while num < n:\n",
        "    yield num\n",
        "    num += 1"
      ],
      "execution_count": null,
      "outputs": []
    },
    {
      "cell_type": "code",
      "metadata": {
        "colab": {
          "base_uri": "https://localhost:8080/"
        },
        "id": "VfeOxFEec7cK",
        "outputId": "e2891ed4-24d1-42df-d9ab-0df9c256308a"
      },
      "source": [
        "print(sum(firstn_generator(10)))"
      ],
      "execution_count": null,
      "outputs": [
        {
          "output_type": "stream",
          "text": [
            "45\n"
          ],
          "name": "stdout"
        }
      ]
    },
    {
      "cell_type": "code",
      "metadata": {
        "colab": {
          "base_uri": "https://localhost:8080/"
        },
        "id": "ZkkpWqTPc_00",
        "outputId": "0781693a-4fac-460f-d37e-dffae62f3c91"
      },
      "source": [
        "print(sys.getsizeof(firstn(10)))\n",
        "print(sys.getsizeof(firstn_generator(10)))"
      ],
      "execution_count": null,
      "outputs": [
        {
          "output_type": "stream",
          "text": [
            "200\n",
            "128\n"
          ],
          "name": "stdout"
        }
      ]
    },
    {
      "cell_type": "code",
      "metadata": {
        "colab": {
          "base_uri": "https://localhost:8080/"
        },
        "id": "PwyIFcMldL2k",
        "outputId": "d99938c4-287e-43c1-a174-88dfe7c9c0f4"
      },
      "source": [
        "print(sys.getsizeof(firstn(100000)))\n",
        "print(sys.getsizeof(firstn_generator(100000)))"
      ],
      "execution_count": null,
      "outputs": [
        {
          "output_type": "stream",
          "text": [
            "824472\n",
            "128\n"
          ],
          "name": "stdout"
        }
      ]
    },
    {
      "cell_type": "code",
      "metadata": {
        "id": "DYP1qIiddS3R"
      },
      "source": [
        "def fibonacci(limit):\n",
        "  # 0 1 1 2 3 5 8 13\n",
        "  a , b = 0, 1\n",
        "  while a < limit:\n",
        "    yield a\n",
        "    a, b = b, a + b"
      ],
      "execution_count": null,
      "outputs": []
    },
    {
      "cell_type": "code",
      "metadata": {
        "id": "PZFMYs1ge7I5"
      },
      "source": [
        "fib = fibonacci(10)"
      ],
      "execution_count": null,
      "outputs": []
    },
    {
      "cell_type": "code",
      "metadata": {
        "colab": {
          "base_uri": "https://localhost:8080/"
        },
        "id": "4vJ-Mddje-e5",
        "outputId": "9dbb359f-f98b-4535-e5b8-41468a9b3cac"
      },
      "source": [
        "for i in fib:\n",
        "  print(i)"
      ],
      "execution_count": null,
      "outputs": [
        {
          "output_type": "stream",
          "text": [
            "0\n",
            "1\n",
            "1\n",
            "2\n",
            "3\n",
            "5\n",
            "8\n"
          ],
          "name": "stdout"
        }
      ]
    },
    {
      "cell_type": "code",
      "metadata": {
        "id": "tcGtw_e-fBrE"
      },
      "source": [
        "mygenerator = (i for i in range(100000) if i % 2 == 0)     # likewise list comprehension but use ( ) instead of [ ]"
      ],
      "execution_count": null,
      "outputs": []
    },
    {
      "cell_type": "code",
      "metadata": {
        "colab": {
          "base_uri": "https://localhost:8080/"
        },
        "id": "TFSI_TVEfShC",
        "outputId": "493fb320-779f-4700-ff60-509f5bcf137b"
      },
      "source": [
        "for i in mygenerator:\n",
        "  print(i)\n",
        "  break"
      ],
      "execution_count": null,
      "outputs": [
        {
          "output_type": "stream",
          "text": [
            "0\n"
          ],
          "name": "stdout"
        }
      ]
    },
    {
      "cell_type": "code",
      "metadata": {
        "id": "9aXLaIIyfTje"
      },
      "source": [
        "mylist = [i for i in range(100000) if i % 2 == 0]"
      ],
      "execution_count": null,
      "outputs": []
    },
    {
      "cell_type": "code",
      "metadata": {
        "colab": {
          "base_uri": "https://localhost:8080/"
        },
        "id": "iai60hOLf54j",
        "outputId": "7b30cdc1-82e5-44fc-beff-524959d6fbeb"
      },
      "source": [
        "print(sys.getsizeof(mygenerator))\n",
        "print(sys.getsizeof(mylist))"
      ],
      "execution_count": null,
      "outputs": [
        {
          "output_type": "stream",
          "text": [
            "128\n",
            "406504\n"
          ],
          "name": "stdout"
        }
      ]
    },
    {
      "cell_type": "code",
      "metadata": {
        "id": "WBgTMLhngJJn"
      },
      "source": [
        ""
      ],
      "execution_count": null,
      "outputs": []
    },
    {
      "cell_type": "code",
      "metadata": {
        "id": "gnXOSvUL7l0s"
      },
      "source": [
        ""
      ],
      "execution_count": null,
      "outputs": []
    },
    {
      "cell_type": "markdown",
      "metadata": {
        "id": "3i3_j_7WACKf"
      },
      "source": [
        "# threading VS multiprocessing"
      ]
    },
    {
      "cell_type": "markdown",
      "metadata": {
        "id": "VdhLdZHDAeMw"
      },
      "source": [
        "A process can have multiple threads"
      ]
    },
    {
      "cell_type": "markdown",
      "metadata": {
        "id": "MId_vXUVAizO"
      },
      "source": [
        "We have two common approaches to run code in parallel (achieve multitasking and speed up your program) : via threads or via multiple processes."
      ]
    },
    {
      "cell_type": "markdown",
      "metadata": {
        "id": "ORkp_c0lAujg"
      },
      "source": [
        "### Process\n",
        "A Process is an instance of a program, e.g. a Python interpreter. They are independent from each other and do not share the same memory.\n",
        "\n",
        "Key facts: - A new process is started independently from the first process - Takes advantage of multiple CPUs and cores - Separate memory space - Memory is not shared between processes - One GIL (Global interpreter lock) for each process, i.e. avoids GIL limitation - Great for CPU-bound processing - Child processes are interruptable/killable\n",
        "\n",
        "Starting a process is slower that starting a thread\n",
        "Larger memory footprint\n",
        "IPC (inter-process communication) is more complicated"
      ]
    },
    {
      "cell_type": "markdown",
      "metadata": {
        "id": "lSwVUbs2A3pL"
      },
      "source": [
        "### Threads\n",
        "A thread is an entity within a process that can be scheduled for execution (Also known as \"leightweight process\"). A Process can spawn multiple threads. The main difference is that all threads within a process share the same memory.\n",
        "\n",
        "Key facts: - Multiple threads can be spawned within one process - Memory is shared between all threads - Starting a thread is faster than starting a process - Great for I/O-bound tasks - Leightweight - low memory footprint\n",
        "\n",
        "- One GIL for all threads, i.e. threads are limited by GIL - Multithreading has no effect for CPU-bound tasks due to the GIL - Not interruptible/killable -> be careful with memory leaks - increased potential for race conditions"
      ]
    },
    {
      "cell_type": "code",
      "metadata": {
        "id": "MPO1egR_7l63"
      },
      "source": [
        "from multiprocessing import Process"
      ],
      "execution_count": null,
      "outputs": []
    },
    {
      "cell_type": "code",
      "metadata": {
        "id": "FGdOlg3y7l_M"
      },
      "source": [
        "import os\n",
        "import time"
      ],
      "execution_count": null,
      "outputs": []
    },
    {
      "cell_type": "code",
      "metadata": {
        "id": "Wb5ZMEABDZ3t"
      },
      "source": [
        "def square_num():\n",
        "  for i in range(100):\n",
        "    i * i\n",
        "    time.sleep(0.1)"
      ],
      "execution_count": null,
      "outputs": []
    },
    {
      "cell_type": "code",
      "metadata": {
        "id": "r4Fus62Z7mE6"
      },
      "source": [
        "processes =[]\n",
        "num_processes = os.cpu_count()"
      ],
      "execution_count": null,
      "outputs": []
    },
    {
      "cell_type": "code",
      "metadata": {
        "id": "GJ0p3ujJDRCV"
      },
      "source": [
        "for i in range(num_processes):\n",
        "  p = Process(target = square_num)\n",
        "  processes.append(p)"
      ],
      "execution_count": null,
      "outputs": []
    },
    {
      "cell_type": "code",
      "metadata": {
        "id": "muQagkvzDphk"
      },
      "source": [
        "for p in processes:\n",
        "  p.start()"
      ],
      "execution_count": null,
      "outputs": []
    },
    {
      "cell_type": "code",
      "metadata": {
        "id": "S1m4HN2pDski"
      },
      "source": [
        "for p in processes:\n",
        "  p.join()"
      ],
      "execution_count": null,
      "outputs": []
    },
    {
      "cell_type": "code",
      "metadata": {
        "colab": {
          "base_uri": "https://localhost:8080/"
        },
        "id": "XJd8yJ4YDzWn",
        "outputId": "38640a74-eefb-49a3-d88f-628a63db171d"
      },
      "source": [
        "print('end main')"
      ],
      "execution_count": null,
      "outputs": [
        {
          "output_type": "stream",
          "text": [
            "end main\n"
          ],
          "name": "stdout"
        }
      ]
    },
    {
      "cell_type": "markdown",
      "metadata": {
        "id": "YEkqqFA7ETaT"
      },
      "source": [
        "check task manager for details"
      ]
    },
    {
      "cell_type": "code",
      "metadata": {
        "id": "Ozm1N_CzEN5b"
      },
      "source": [
        "from threading import Thread"
      ],
      "execution_count": null,
      "outputs": []
    },
    {
      "cell_type": "code",
      "metadata": {
        "id": "wZaHmziHEAkh"
      },
      "source": [
        "import os\n",
        "import time"
      ],
      "execution_count": null,
      "outputs": []
    },
    {
      "cell_type": "code",
      "metadata": {
        "id": "wFJlg-krEcp4"
      },
      "source": [
        "def square_num_2():\n",
        "  for i in range(100):\n",
        "    i * i\n",
        "    time.sleep(0.1)"
      ],
      "execution_count": null,
      "outputs": []
    },
    {
      "cell_type": "code",
      "metadata": {
        "id": "3uBQjUKaEm88"
      },
      "source": [
        "threads = []\n",
        "num_threads = 10"
      ],
      "execution_count": null,
      "outputs": []
    },
    {
      "cell_type": "code",
      "metadata": {
        "id": "SxIuJM0MEtDz"
      },
      "source": [
        "for i in range(num_threads):\n",
        "  t = Thread(target = square_num_2)\n",
        "  threads.append(t)"
      ],
      "execution_count": null,
      "outputs": []
    },
    {
      "cell_type": "code",
      "metadata": {
        "id": "u2FVpT5LE12u"
      },
      "source": [
        "for t in threads:\n",
        "  t.start()"
      ],
      "execution_count": null,
      "outputs": []
    },
    {
      "cell_type": "code",
      "metadata": {
        "id": "_A69S_zRE5lx"
      },
      "source": [
        "for t in threads:\n",
        "  t.join()"
      ],
      "execution_count": null,
      "outputs": []
    },
    {
      "cell_type": "code",
      "metadata": {
        "colab": {
          "base_uri": "https://localhost:8080/"
        },
        "id": "rnf1BxK-E9eH",
        "outputId": "62266466-16fb-4bdf-91b4-9412ddc904f9"
      },
      "source": [
        "print('end main')"
      ],
      "execution_count": null,
      "outputs": [
        {
          "output_type": "stream",
          "text": [
            "end main\n"
          ],
          "name": "stdout"
        }
      ]
    },
    {
      "cell_type": "markdown",
      "metadata": {
        "id": "O5e7jGvWeBs1"
      },
      "source": [
        "### multi-threading:\n",
        "https://www.python-engineer.com/courses/advancedpython/16-threading/\n",
        "\n",
        "```\n",
        "# 此内容为代码格式\n",
        "```\n",
        "\n"
      ]
    },
    {
      "cell_type": "markdown",
      "metadata": {
        "id": "rSD6dKz9eM6j"
      },
      "source": [
        "### multi-processing:\n",
        "https://www.python-engineer.com/courses/advancedpython/17-multiprocessing/"
      ]
    },
    {
      "cell_type": "code",
      "metadata": {
        "id": "F2vx2EdsfBOb"
      },
      "source": [
        "import os"
      ],
      "execution_count": null,
      "outputs": []
    },
    {
      "cell_type": "code",
      "metadata": {
        "colab": {
          "base_uri": "https://localhost:8080/"
        },
        "id": "iAu2T4dwE_Lt",
        "outputId": "74b5da00-5aff-4734-cbee-7d68d24283fa"
      },
      "source": [
        "num_process = os.cpu_count()\n",
        "num_process"
      ],
      "execution_count": null,
      "outputs": [
        {
          "output_type": "execute_result",
          "data": {
            "text/plain": [
              "2"
            ]
          },
          "metadata": {
            "tags": []
          },
          "execution_count": 3
        }
      ]
    },
    {
      "cell_type": "code",
      "metadata": {
        "id": "FLtrZdlwJpvf"
      },
      "source": [
        ""
      ],
      "execution_count": null,
      "outputs": []
    },
    {
      "cell_type": "code",
      "metadata": {
        "id": "I6EAhHovJp-i"
      },
      "source": [
        ""
      ],
      "execution_count": null,
      "outputs": []
    },
    {
      "cell_type": "markdown",
      "metadata": {
        "id": "MfmRbMMxpCuG"
      },
      "source": [
        "# function arguments"
      ]
    },
    {
      "cell_type": "markdown",
      "metadata": {
        "id": "LLm7LMox-_7B"
      },
      "source": [
        "\n",
        "\n",
        "1.   The difference between arguments and parameters\n",
        "2.   Positional and keyword arguments\n",
        "3.   Default arguments\n",
        "4.   Variable-length arguments (*args and **kwargs)\n",
        "5.   Container unpacking into function arguments\n",
        "6.   Local vs. global arguments\n",
        "7.   Parameter passing (by value or by reference?)\n",
        "\n",
        "\n",
        "\n"
      ]
    },
    {
      "cell_type": "code",
      "metadata": {
        "id": "HhinrlXHpI8H"
      },
      "source": [
        "def foo(a, b, c):            # params\n",
        "  print(a, b, c)"
      ],
      "execution_count": 3,
      "outputs": []
    },
    {
      "cell_type": "code",
      "metadata": {
        "id": "hbAkSCT2pI_2",
        "colab": {
          "base_uri": "https://localhost:8080/"
        },
        "outputId": "ebdd3cef-9b9e-4044-a30e-8994f7662260"
      },
      "source": [
        "foo(1, 2, 3)               # positional args"
      ],
      "execution_count": 4,
      "outputs": [
        {
          "output_type": "stream",
          "text": [
            "1 2 3\n"
          ],
          "name": "stdout"
        }
      ]
    },
    {
      "cell_type": "code",
      "metadata": {
        "id": "L5hf8o4spJDI",
        "colab": {
          "base_uri": "https://localhost:8080/"
        },
        "outputId": "33d8bdc4-3227-4c98-ead0-1ec585124f82"
      },
      "source": [
        "foo(c=1, b=2, a=3)            # keyword args"
      ],
      "execution_count": 5,
      "outputs": [
        {
          "output_type": "stream",
          "text": [
            "3 2 1\n"
          ],
          "name": "stdout"
        }
      ]
    },
    {
      "cell_type": "code",
      "metadata": {
        "colab": {
          "base_uri": "https://localhost:8080/"
        },
        "id": "EFQ_xmpWBAbh",
        "outputId": "2bf6d00b-ed48-4a39-e865-bd4ded733da3"
      },
      "source": [
        "foo(1, b=3, c=2)"
      ],
      "execution_count": 7,
      "outputs": [
        {
          "output_type": "stream",
          "text": [
            "1 3 2\n"
          ],
          "name": "stdout"
        }
      ]
    },
    {
      "cell_type": "code",
      "metadata": {
        "id": "FZ75hJpqpJGX"
      },
      "source": [
        "def foo(a, b, c, d=4):            # params\n",
        "  print(a, b, c, d)"
      ],
      "execution_count": 10,
      "outputs": []
    },
    {
      "cell_type": "code",
      "metadata": {
        "id": "P3fbir2wpJK8",
        "colab": {
          "base_uri": "https://localhost:8080/"
        },
        "outputId": "52317c5a-6e92-45a4-af90-5d6835f0916a"
      },
      "source": [
        "foo(1,2,3)"
      ],
      "execution_count": 11,
      "outputs": [
        {
          "output_type": "stream",
          "text": [
            "1 2 3 4\n"
          ],
          "name": "stdout"
        }
      ]
    },
    {
      "cell_type": "code",
      "metadata": {
        "id": "aq6eilwXpJOK"
      },
      "source": [
        "def foo(a, b, *args, **kwargs):\n",
        "  print(a, b)\n",
        "  for arg in args:\n",
        "    print(arg)\n",
        "  for key in kwargs:\n",
        "    print(key, kwargs[key])"
      ],
      "execution_count": 14,
      "outputs": []
    },
    {
      "cell_type": "code",
      "metadata": {
        "id": "r_FmgNC0pJRb",
        "colab": {
          "base_uri": "https://localhost:8080/"
        },
        "outputId": "5c7bb85b-d4a6-4964-d374-caf2dc76784d"
      },
      "source": [
        "foo(1,2,   3, 4, 5, six=6, seven=7)"
      ],
      "execution_count": 15,
      "outputs": [
        {
          "output_type": "stream",
          "text": [
            "1 2\n",
            "3\n",
            "4\n",
            "5\n",
            "six 6\n",
            "seven 7\n"
          ],
          "name": "stdout"
        }
      ]
    },
    {
      "cell_type": "code",
      "metadata": {
        "colab": {
          "base_uri": "https://localhost:8080/"
        },
        "id": "Qonwh-kLCJPp",
        "outputId": "f2b62832-b01b-46a7-a195-78abda624f95"
      },
      "source": [
        "foo(1,2,  3,4)"
      ],
      "execution_count": 16,
      "outputs": [
        {
          "output_type": "stream",
          "text": [
            "1 2\n",
            "3\n",
            "4\n"
          ],
          "name": "stdout"
        }
      ]
    },
    {
      "cell_type": "code",
      "metadata": {
        "id": "cyChEORRCWL_"
      },
      "source": [
        "def foo(a, b, *, c, d):\n",
        "  print(a, b, c, d)"
      ],
      "execution_count": 17,
      "outputs": []
    },
    {
      "cell_type": "code",
      "metadata": {
        "colab": {
          "base_uri": "https://localhost:8080/"
        },
        "id": "CiJDvbVgCgwt",
        "outputId": "fa45adf3-6186-4db4-976c-844142f3b42f"
      },
      "source": [
        "foo(1,2, c=4, d=4)"
      ],
      "execution_count": 18,
      "outputs": [
        {
          "output_type": "stream",
          "text": [
            "1 2 4 4\n"
          ],
          "name": "stdout"
        }
      ]
    },
    {
      "cell_type": "code",
      "metadata": {
        "id": "x7kUVVJzCjsq"
      },
      "source": [
        "def foo(*args, last):\n",
        "  for arg in args:\n",
        "    print(arg)\n",
        "  print(last)"
      ],
      "execution_count": 19,
      "outputs": []
    },
    {
      "cell_type": "code",
      "metadata": {
        "colab": {
          "base_uri": "https://localhost:8080/"
        },
        "id": "iukKVYrDCzbR",
        "outputId": "fd80b8cf-9743-46bb-ac3e-37b15527454e"
      },
      "source": [
        "foo(1, 2, 3, last = 100)"
      ],
      "execution_count": 20,
      "outputs": [
        {
          "output_type": "stream",
          "text": [
            "1\n",
            "2\n",
            "3\n",
            "100\n"
          ],
          "name": "stdout"
        }
      ]
    },
    {
      "cell_type": "code",
      "metadata": {
        "id": "uGt_Az7DC16U"
      },
      "source": [
        "def foo(a, b, c):\n",
        "  print(a, b, c)"
      ],
      "execution_count": 21,
      "outputs": []
    },
    {
      "cell_type": "code",
      "metadata": {
        "id": "dAmiZkpiD9xU"
      },
      "source": [
        "lst = [1,2,3]"
      ],
      "execution_count": 22,
      "outputs": []
    },
    {
      "cell_type": "code",
      "metadata": {
        "colab": {
          "base_uri": "https://localhost:8080/"
        },
        "id": "lUfDvbetEAOl",
        "outputId": "1a7d50f0-8a56-484a-c884-851fdd734132"
      },
      "source": [
        "foo(*lst)"
      ],
      "execution_count": 24,
      "outputs": [
        {
          "output_type": "stream",
          "text": [
            "1 2 3\n"
          ],
          "name": "stdout"
        }
      ]
    },
    {
      "cell_type": "code",
      "metadata": {
        "id": "49lqI42MECdy"
      },
      "source": [
        "tup = (1,2,3)"
      ],
      "execution_count": 25,
      "outputs": []
    },
    {
      "cell_type": "code",
      "metadata": {
        "colab": {
          "base_uri": "https://localhost:8080/"
        },
        "id": "NjFMaiFpEHvg",
        "outputId": "8f8ca03f-5e0c-4231-ae1a-725ff435a890"
      },
      "source": [
        "foo(*tup)"
      ],
      "execution_count": 26,
      "outputs": [
        {
          "output_type": "stream",
          "text": [
            "1 2 3\n"
          ],
          "name": "stdout"
        }
      ]
    },
    {
      "cell_type": "code",
      "metadata": {
        "id": "0I1J69w5EKQ0"
      },
      "source": [
        "dic = {'a':1, \"b\":2, 'c':4}"
      ],
      "execution_count": 27,
      "outputs": []
    },
    {
      "cell_type": "code",
      "metadata": {
        "colab": {
          "base_uri": "https://localhost:8080/"
        },
        "id": "LlT8hGq3EWfb",
        "outputId": "819cf8bd-bf9f-45fc-a7ac-cd6d40c5dd27"
      },
      "source": [
        "foo(**dic)"
      ],
      "execution_count": 28,
      "outputs": [
        {
          "output_type": "stream",
          "text": [
            "1 2 4\n"
          ],
          "name": "stdout"
        }
      ]
    },
    {
      "cell_type": "code",
      "metadata": {
        "id": "c3uXHCfCEZBz"
      },
      "source": [
        "def foo():\n",
        "  x = num\n",
        "  print(\"number refernced is:\", x)"
      ],
      "execution_count": 34,
      "outputs": []
    },
    {
      "cell_type": "code",
      "metadata": {
        "id": "fFxtmPliFhLz"
      },
      "source": [
        "num = 1"
      ],
      "execution_count": 35,
      "outputs": []
    },
    {
      "cell_type": "code",
      "metadata": {
        "colab": {
          "base_uri": "https://localhost:8080/"
        },
        "id": "jQnzfvJfEqgx",
        "outputId": "b53122a9-ecf3-430d-912a-0248ca20171d"
      },
      "source": [
        "foo()"
      ],
      "execution_count": 36,
      "outputs": [
        {
          "output_type": "stream",
          "text": [
            "number refernced is: 1\n"
          ],
          "name": "stdout"
        }
      ]
    },
    {
      "cell_type": "code",
      "metadata": {
        "id": "hj38BJ-0E71_"
      },
      "source": [
        "def foo():\n",
        "  global num   # global\n",
        "  x = num\n",
        "  num = 3\n",
        "  print(\"number is now:\", x)"
      ],
      "execution_count": 39,
      "outputs": []
    },
    {
      "cell_type": "code",
      "metadata": {
        "colab": {
          "base_uri": "https://localhost:8080/"
        },
        "id": "8sbAwYiMFOv7",
        "outputId": "8f7b3600-ce09-4fc4-b7b8-840dd008637b"
      },
      "source": [
        "foo()"
      ],
      "execution_count": 40,
      "outputs": [
        {
          "output_type": "stream",
          "text": [
            "number is now: 3\n"
          ],
          "name": "stdout"
        }
      ]
    },
    {
      "cell_type": "code",
      "metadata": {
        "id": "4dYYzZeDFPgh"
      },
      "source": [
        "def foo():\n",
        "  num = 3     # local\n",
        "  print(num)"
      ],
      "execution_count": 45,
      "outputs": []
    },
    {
      "cell_type": "code",
      "metadata": {
        "id": "M-N2NZMBF95z"
      },
      "source": [
        "num = 0"
      ],
      "execution_count": 46,
      "outputs": []
    },
    {
      "cell_type": "code",
      "metadata": {
        "colab": {
          "base_uri": "https://localhost:8080/"
        },
        "id": "vLNMcrNWGAKa",
        "outputId": "85121fec-2eb1-44eb-aa47-d67693cb3a53"
      },
      "source": [
        "foo()"
      ],
      "execution_count": 47,
      "outputs": [
        {
          "output_type": "stream",
          "text": [
            "3\n"
          ],
          "name": "stdout"
        }
      ]
    },
    {
      "cell_type": "code",
      "metadata": {
        "colab": {
          "base_uri": "https://localhost:8080/"
        },
        "id": "GreLZN3JGBCR",
        "outputId": "6d626878-a67d-4436-959a-e2696b83ae42"
      },
      "source": [
        "print(num)"
      ],
      "execution_count": 48,
      "outputs": [
        {
          "output_type": "stream",
          "text": [
            "0\n"
          ],
          "name": "stdout"
        }
      ]
    },
    {
      "cell_type": "code",
      "metadata": {
        "id": "5bPcMiU1GDlY"
      },
      "source": [
        "def foo(x):\n",
        "  x = 5       # local"
      ],
      "execution_count": 49,
      "outputs": []
    },
    {
      "cell_type": "code",
      "metadata": {
        "id": "lPsKk_dKGuR1"
      },
      "source": [
        "var = 10        # passing"
      ],
      "execution_count": 50,
      "outputs": []
    },
    {
      "cell_type": "code",
      "metadata": {
        "colab": {
          "base_uri": "https://localhost:8080/"
        },
        "id": "ZcaErF1dGv1T",
        "outputId": "33c1a321-0a8a-4127-db63-144ccbf532dd"
      },
      "source": [
        "foo(var)\n",
        "print(var)        # integer immutable, cannot be changed"
      ],
      "execution_count": 51,
      "outputs": [
        {
          "output_type": "stream",
          "text": [
            "10\n"
          ],
          "name": "stdout"
        }
      ]
    },
    {
      "cell_type": "code",
      "metadata": {
        "id": "YVmg2UYcHLit"
      },
      "source": [
        "def foo(lst):      # lst mutable, can be changed\n",
        "  lst.append(4)\n",
        "  lst[0] = -100"
      ],
      "execution_count": 55,
      "outputs": []
    },
    {
      "cell_type": "code",
      "metadata": {
        "id": "AJlMf8yqGyDv"
      },
      "source": [
        "lst = [1, 2, 3]"
      ],
      "execution_count": 56,
      "outputs": []
    },
    {
      "cell_type": "code",
      "metadata": {
        "id": "RzUqn9zJHBxJ"
      },
      "source": [
        "foo(lst)"
      ],
      "execution_count": 57,
      "outputs": []
    },
    {
      "cell_type": "code",
      "metadata": {
        "colab": {
          "base_uri": "https://localhost:8080/"
        },
        "id": "LbbDIjIDHDNi",
        "outputId": "92951e92-a5ed-4be0-8217-809e898ef019"
      },
      "source": [
        "print(lst)"
      ],
      "execution_count": 58,
      "outputs": [
        {
          "output_type": "stream",
          "text": [
            "[-100, 2, 3, 4]\n"
          ],
          "name": "stdout"
        }
      ]
    },
    {
      "cell_type": "code",
      "metadata": {
        "id": "heztLBzcHF6Y"
      },
      "source": [
        "def foo(lst):\n",
        "  lst += [200, 300]"
      ],
      "execution_count": 59,
      "outputs": []
    },
    {
      "cell_type": "code",
      "metadata": {
        "id": "EOdBIElPHc-4"
      },
      "source": [
        "foo(lst)"
      ],
      "execution_count": 60,
      "outputs": []
    },
    {
      "cell_type": "code",
      "metadata": {
        "colab": {
          "base_uri": "https://localhost:8080/"
        },
        "id": "QNzAB_WtH7Zd",
        "outputId": "e6a388a1-faa8-433f-fa0e-792cb6108b91"
      },
      "source": [
        "print(lst)"
      ],
      "execution_count": 61,
      "outputs": [
        {
          "output_type": "stream",
          "text": [
            "[-100, 2, 3, 4, 200, 300]\n"
          ],
          "name": "stdout"
        }
      ]
    },
    {
      "cell_type": "code",
      "metadata": {
        "id": "VCM8v5kzH9EO"
      },
      "source": [
        "def foo(lst):\n",
        "  lst = lst + [500, 600]    # slight difference, this not working as above, tricky"
      ],
      "execution_count": 62,
      "outputs": []
    },
    {
      "cell_type": "code",
      "metadata": {
        "id": "7g_5GEstIDb7"
      },
      "source": [
        "foo(lst)"
      ],
      "execution_count": 63,
      "outputs": []
    },
    {
      "cell_type": "code",
      "metadata": {
        "colab": {
          "base_uri": "https://localhost:8080/"
        },
        "id": "rqJGfnYnIEpL",
        "outputId": "b5caa238-7d59-4a54-9b9b-e1822c85e5cc"
      },
      "source": [
        "print(lst)"
      ],
      "execution_count": 64,
      "outputs": [
        {
          "output_type": "stream",
          "text": [
            "[-100, 2, 3, 4, 200, 300]\n"
          ],
          "name": "stdout"
        }
      ]
    },
    {
      "cell_type": "code",
      "metadata": {
        "id": "51Z8QvIAIFv_"
      },
      "source": [
        ""
      ],
      "execution_count": null,
      "outputs": []
    },
    {
      "cell_type": "code",
      "metadata": {
        "id": "5qiALypaShfj"
      },
      "source": [
        ""
      ],
      "execution_count": null,
      "outputs": []
    },
    {
      "cell_type": "markdown",
      "metadata": {
        "id": "GLIfTEiTSkiv"
      },
      "source": [
        "# asterisks"
      ]
    },
    {
      "cell_type": "code",
      "metadata": {
        "colab": {
          "base_uri": "https://localhost:8080/"
        },
        "id": "-A4QSLQHShuN",
        "outputId": "cda79128-b4fc-49da-c5f0-1196e1794947"
      },
      "source": [
        "zeros = [0,2] * 10\n",
        "print(zeros)"
      ],
      "execution_count": 66,
      "outputs": [
        {
          "output_type": "stream",
          "text": [
            "[0, 2, 0, 2, 0, 2, 0, 2, 0, 2, 0, 2, 0, 2, 0, 2, 0, 2, 0, 2]\n"
          ],
          "name": "stdout"
        }
      ]
    },
    {
      "cell_type": "code",
      "metadata": {
        "colab": {
          "base_uri": "https://localhost:8080/"
        },
        "id": "O5sEgx7hSh3k",
        "outputId": "9bf804ce-ac60-48f5-8297-5672d996148e"
      },
      "source": [
        "zeros = (0,2) * 10\n",
        "print(zeros)"
      ],
      "execution_count": 67,
      "outputs": [
        {
          "output_type": "stream",
          "text": [
            "(0, 2, 0, 2, 0, 2, 0, 2, 0, 2, 0, 2, 0, 2, 0, 2, 0, 2, 0, 2)\n"
          ],
          "name": "stdout"
        }
      ]
    },
    {
      "cell_type": "code",
      "metadata": {
        "colab": {
          "base_uri": "https://localhost:8080/"
        },
        "id": "le5UH2ZkSiA6",
        "outputId": "28f08f38-c173-445c-c0ac-2a5e803cb375"
      },
      "source": [
        "zeros = \"AB\" * 10\n",
        "print(zeros)"
      ],
      "execution_count": 68,
      "outputs": [
        {
          "output_type": "stream",
          "text": [
            "ABABABABABABABABABAB\n"
          ],
          "name": "stdout"
        }
      ]
    },
    {
      "cell_type": "code",
      "metadata": {
        "id": "X0WbVd_7SiJ2"
      },
      "source": [
        "def foo(a, b, *args, **kwargs):\n",
        "  print(a, b)\n",
        "  for arg in args:\n",
        "    print(arg)\n",
        "  for key in kwargs:\n",
        "    print(key, kwargs[key])"
      ],
      "execution_count": 71,
      "outputs": []
    },
    {
      "cell_type": "code",
      "metadata": {
        "colab": {
          "base_uri": "https://localhost:8080/"
        },
        "id": "QFGOtoauS_Eh",
        "outputId": "35cd615b-803e-4610-f433-67c998b97c0e"
      },
      "source": [
        "foo(1,2,  3,4,5,  six = 6, seven = 7)"
      ],
      "execution_count": 72,
      "outputs": [
        {
          "output_type": "stream",
          "text": [
            "1 2\n",
            "3\n",
            "4\n",
            "5\n",
            "six 6\n",
            "seven 7\n"
          ],
          "name": "stdout"
        }
      ]
    },
    {
      "cell_type": "code",
      "metadata": {
        "id": "3q5PWdioTxeP"
      },
      "source": [
        "def foo(a, b, c):\n",
        "  print(a, b, c)"
      ],
      "execution_count": 78,
      "outputs": []
    },
    {
      "cell_type": "code",
      "metadata": {
        "id": "kcTca9hES_Tc"
      },
      "source": [
        "lst = [0, 1, 2]"
      ],
      "execution_count": 79,
      "outputs": []
    },
    {
      "cell_type": "code",
      "metadata": {
        "colab": {
          "base_uri": "https://localhost:8080/"
        },
        "id": "0Epy8RNdSiSr",
        "outputId": "1775af3c-70f3-49e1-fdaf-098958367301"
      },
      "source": [
        "foo(*lst)"
      ],
      "execution_count": 80,
      "outputs": [
        {
          "output_type": "stream",
          "text": [
            "0 1 2\n"
          ],
          "name": "stdout"
        }
      ]
    },
    {
      "cell_type": "code",
      "metadata": {
        "id": "cCkoY1AjTs7I"
      },
      "source": [
        "dic = {'a': 1, \"b\": 5, 'c': 8}"
      ],
      "execution_count": 81,
      "outputs": []
    },
    {
      "cell_type": "code",
      "metadata": {
        "colab": {
          "base_uri": "https://localhost:8080/"
        },
        "id": "xbBpgiB0T-b_",
        "outputId": "68d9fbb1-dcea-4fc1-c4b3-76923d8a8687"
      },
      "source": [
        "foo(**dic)"
      ],
      "execution_count": 83,
      "outputs": [
        {
          "output_type": "stream",
          "text": [
            "1 5 8\n"
          ],
          "name": "stdout"
        }
      ]
    },
    {
      "cell_type": "code",
      "metadata": {
        "id": "POLwEBDvUAXS"
      },
      "source": [
        "num = [1,2,3,4,5,6]"
      ],
      "execution_count": 84,
      "outputs": []
    },
    {
      "cell_type": "code",
      "metadata": {
        "id": "28Uesk0fUIp4"
      },
      "source": [
        "*beginning, last = num"
      ],
      "execution_count": 85,
      "outputs": []
    },
    {
      "cell_type": "code",
      "metadata": {
        "colab": {
          "base_uri": "https://localhost:8080/"
        },
        "id": "jFDdAlb7UOBT",
        "outputId": "01f3f3e9-d4df-4ca5-da88-409fb7dabff5"
      },
      "source": [
        "print(beginning)"
      ],
      "execution_count": 86,
      "outputs": [
        {
          "output_type": "stream",
          "text": [
            "[1, 2, 3, 4, 5]\n"
          ],
          "name": "stdout"
        }
      ]
    },
    {
      "cell_type": "code",
      "metadata": {
        "colab": {
          "base_uri": "https://localhost:8080/"
        },
        "id": "nj5vzpYmUQyh",
        "outputId": "cfd66e55-3a46-49d1-a6a3-bcf0894ed26e"
      },
      "source": [
        "print(last)"
      ],
      "execution_count": 87,
      "outputs": [
        {
          "output_type": "stream",
          "text": [
            "6\n"
          ],
          "name": "stdout"
        }
      ]
    },
    {
      "cell_type": "code",
      "metadata": {
        "id": "9n_0hvCGUUsj"
      },
      "source": [
        "beginning, *last = num"
      ],
      "execution_count": 88,
      "outputs": []
    },
    {
      "cell_type": "code",
      "metadata": {
        "colab": {
          "base_uri": "https://localhost:8080/"
        },
        "id": "gfwkwsIxUUzn",
        "outputId": "3b0b49d5-0d53-4843-8975-640b970ef453"
      },
      "source": [
        "print(beginning)"
      ],
      "execution_count": 89,
      "outputs": [
        {
          "output_type": "stream",
          "text": [
            "1\n"
          ],
          "name": "stdout"
        }
      ]
    },
    {
      "cell_type": "code",
      "metadata": {
        "colab": {
          "base_uri": "https://localhost:8080/"
        },
        "id": "Jx5T911sUU9J",
        "outputId": "0466b85c-f390-4f73-addc-b248a44d31fe"
      },
      "source": [
        "print(last)"
      ],
      "execution_count": 90,
      "outputs": [
        {
          "output_type": "stream",
          "text": [
            "[2, 3, 4, 5, 6]\n"
          ],
          "name": "stdout"
        }
      ]
    },
    {
      "cell_type": "code",
      "metadata": {
        "id": "2CtyLrjwUVE2"
      },
      "source": [
        "beginning, *midlle, last = num"
      ],
      "execution_count": 91,
      "outputs": []
    },
    {
      "cell_type": "code",
      "metadata": {
        "colab": {
          "base_uri": "https://localhost:8080/"
        },
        "id": "19DRueAgUS_d",
        "outputId": "257f7de4-b4c3-4eb8-d80d-0c29d7be4ed8"
      },
      "source": [
        "print(midlle)"
      ],
      "execution_count": 92,
      "outputs": [
        {
          "output_type": "stream",
          "text": [
            "[2, 3, 4, 5]\n"
          ],
          "name": "stdout"
        }
      ]
    },
    {
      "cell_type": "code",
      "metadata": {
        "id": "Bc28gcMdUpoR"
      },
      "source": [
        "tup = (1,2,3)\n",
        "lst = [4,5,6]"
      ],
      "execution_count": 93,
      "outputs": []
    },
    {
      "cell_type": "code",
      "metadata": {
        "colab": {
          "base_uri": "https://localhost:8080/"
        },
        "id": "qgWGg1CYU0s8",
        "outputId": "8a04c16b-c544-4ca7-f292-a08296008f36"
      },
      "source": [
        "new_lst = [*tup, *lst]\n",
        "print(new_lst)"
      ],
      "execution_count": 94,
      "outputs": [
        {
          "output_type": "stream",
          "text": [
            "[1, 2, 3, 4, 5, 6]\n"
          ],
          "name": "stdout"
        }
      ]
    },
    {
      "cell_type": "code",
      "metadata": {
        "id": "GEzLmCabU6yB"
      },
      "source": [
        "tup = (1,2,3)\n",
        "lst = [4,5,6]\n",
        "sett = {7,8,9}"
      ],
      "execution_count": 95,
      "outputs": []
    },
    {
      "cell_type": "code",
      "metadata": {
        "colab": {
          "base_uri": "https://localhost:8080/"
        },
        "id": "4iyuulzTVD7r",
        "outputId": "6fc3cbe2-b4fb-477a-967e-970632dab3fa"
      },
      "source": [
        "new_lst = [*tup, *sett, *lst]\n",
        "print(new_lst)"
      ],
      "execution_count": 96,
      "outputs": [
        {
          "output_type": "stream",
          "text": [
            "[1, 2, 3, 8, 9, 7, 4, 5, 6]\n"
          ],
          "name": "stdout"
        }
      ]
    },
    {
      "cell_type": "code",
      "metadata": {
        "id": "BsFPdgi1VHDb"
      },
      "source": [
        "dic_1 = {'a':1, 'b':2}\n",
        "dic_2 = {'c':3, 'd':4}"
      ],
      "execution_count": 97,
      "outputs": []
    },
    {
      "cell_type": "code",
      "metadata": {
        "colab": {
          "base_uri": "https://localhost:8080/"
        },
        "id": "4wFposCKVP8B",
        "outputId": "63da7760-ef55-4dad-b97a-875726bdf297"
      },
      "source": [
        "new_dic = {**dic_1, **dic_2}\n",
        "print(new_dic)"
      ],
      "execution_count": 98,
      "outputs": [
        {
          "output_type": "stream",
          "text": [
            "{'a': 1, 'b': 2, 'c': 3, 'd': 4}\n"
          ],
          "name": "stdout"
        }
      ]
    },
    {
      "cell_type": "code",
      "metadata": {
        "id": "1pkwJhqJVVR-"
      },
      "source": [
        ""
      ],
      "execution_count": null,
      "outputs": []
    },
    {
      "cell_type": "code",
      "metadata": {
        "id": "LXEzliRQVYqv"
      },
      "source": [
        ""
      ],
      "execution_count": null,
      "outputs": []
    },
    {
      "cell_type": "markdown",
      "metadata": {
        "id": "ZNTiiWqfVZvq"
      },
      "source": [
        "# shallow VS deep copy"
      ]
    },
    {
      "cell_type": "markdown",
      "metadata": {
        "id": "fAXCFhbTWntu"
      },
      "source": [
        "### shallow copy:\n",
        "#### only one level deep"
      ]
    },
    {
      "cell_type": "code",
      "metadata": {
        "id": "G6ZBy-LLVYzX"
      },
      "source": [
        "org = 5     # immutable"
      ],
      "execution_count": 103,
      "outputs": []
    },
    {
      "cell_type": "code",
      "metadata": {
        "id": "VhDAzeZlVY9K"
      },
      "source": [
        "cpy = org    # not new, only a reference"
      ],
      "execution_count": 104,
      "outputs": []
    },
    {
      "cell_type": "code",
      "metadata": {
        "id": "yYZMBAZMVhB_"
      },
      "source": [
        "cpy = 6"
      ],
      "execution_count": 102,
      "outputs": []
    },
    {
      "cell_type": "code",
      "metadata": {
        "colab": {
          "base_uri": "https://localhost:8080/"
        },
        "id": "cpWDT2pdVpDL",
        "outputId": "015842bb-e1dd-42d7-ece8-03cb19d78243"
      },
      "source": [
        "print(cpy, org)"
      ],
      "execution_count": 105,
      "outputs": [
        {
          "output_type": "stream",
          "text": [
            "5 5\n"
          ],
          "name": "stdout"
        }
      ]
    },
    {
      "cell_type": "code",
      "metadata": {
        "id": "2IE7WttrVrt1"
      },
      "source": [
        "org = [0,1,2,3,4]"
      ],
      "execution_count": 106,
      "outputs": []
    },
    {
      "cell_type": "code",
      "metadata": {
        "id": "AdG06DqHV1bL"
      },
      "source": [
        "cpy = org"
      ],
      "execution_count": 107,
      "outputs": []
    },
    {
      "cell_type": "code",
      "metadata": {
        "id": "FvWg4r4YV3Yz"
      },
      "source": [
        "cpy[0] = -10"
      ],
      "execution_count": 108,
      "outputs": []
    },
    {
      "cell_type": "code",
      "metadata": {
        "colab": {
          "base_uri": "https://localhost:8080/"
        },
        "id": "nNxNxbN_V97D",
        "outputId": "f454069d-03c9-4c28-c527-30484a99afe6"
      },
      "source": [
        "print(cpy, org)"
      ],
      "execution_count": 109,
      "outputs": [
        {
          "output_type": "stream",
          "text": [
            "[-10, 1, 2, 3, 4] [-10, 1, 2, 3, 4]\n"
          ],
          "name": "stdout"
        }
      ]
    },
    {
      "cell_type": "code",
      "metadata": {
        "id": "tu4nBfKWV_q6"
      },
      "source": [
        "import copy"
      ],
      "execution_count": 110,
      "outputs": []
    },
    {
      "cell_type": "code",
      "metadata": {
        "id": "PQ7CWRYIWELy"
      },
      "source": [
        "org = [0,1,2,3,4]"
      ],
      "execution_count": 111,
      "outputs": []
    },
    {
      "cell_type": "code",
      "metadata": {
        "id": "Wm4osOAqWHX3"
      },
      "source": [
        "cpy = copy.copy(org)"
      ],
      "execution_count": 112,
      "outputs": []
    },
    {
      "cell_type": "code",
      "metadata": {
        "id": "qZSSZvuvWKDM"
      },
      "source": [
        "cpy[0] = -10"
      ],
      "execution_count": 113,
      "outputs": []
    },
    {
      "cell_type": "code",
      "metadata": {
        "colab": {
          "base_uri": "https://localhost:8080/"
        },
        "id": "5HBxtZCJWLlz",
        "outputId": "dceafb50-9c74-4141-bfb8-d0daf47f6bec"
      },
      "source": [
        "print(cpy, org)"
      ],
      "execution_count": 114,
      "outputs": [
        {
          "output_type": "stream",
          "text": [
            "[-10, 1, 2, 3, 4] [0, 1, 2, 3, 4]\n"
          ],
          "name": "stdout"
        }
      ]
    },
    {
      "cell_type": "code",
      "metadata": {
        "colab": {
          "base_uri": "https://localhost:8080/"
        },
        "id": "BRcl6awDWO5g",
        "outputId": "fc00051c-7c12-4d4c-edfe-c546da6f45bc"
      },
      "source": [
        "cpy_1 = org[:]\n",
        "print(cpy_1, org)"
      ],
      "execution_count": 115,
      "outputs": [
        {
          "output_type": "stream",
          "text": [
            "[0, 1, 2, 3, 4] [0, 1, 2, 3, 4]\n"
          ],
          "name": "stdout"
        }
      ]
    },
    {
      "cell_type": "markdown",
      "metadata": {
        "id": "aWKYRMcWWreZ"
      },
      "source": [
        "### deep copy:\n",
        "#### two levels deep"
      ]
    },
    {
      "cell_type": "code",
      "metadata": {
        "id": "1Wdhi59QWTIy"
      },
      "source": [
        "org = [[0,1,2,3,4], [5,6,7,8,9]]"
      ],
      "execution_count": 116,
      "outputs": []
    },
    {
      "cell_type": "code",
      "metadata": {
        "id": "OzLgv7__WTRJ"
      },
      "source": [
        "cpy = copy.copy(org)"
      ],
      "execution_count": 117,
      "outputs": []
    },
    {
      "cell_type": "code",
      "metadata": {
        "id": "wqUsxffaWTa7"
      },
      "source": [
        "cpy[0][1] = -10"
      ],
      "execution_count": 118,
      "outputs": []
    },
    {
      "cell_type": "code",
      "metadata": {
        "colab": {
          "base_uri": "https://localhost:8080/"
        },
        "id": "wI6BBXlaWTkM",
        "outputId": "873eddaf-dfdc-47e5-ef2b-e2bcf2a938a7"
      },
      "source": [
        "print(cpy, org)"
      ],
      "execution_count": 120,
      "outputs": [
        {
          "output_type": "stream",
          "text": [
            "[[0, -10, 2, 3, 4], [5, 6, 7, 8, 9]] [[0, -10, 2, 3, 4], [5, 6, 7, 8, 9]]\n"
          ],
          "name": "stdout"
        }
      ]
    },
    {
      "cell_type": "code",
      "metadata": {
        "id": "2oBvmNJtXeoT"
      },
      "source": [
        "org = [[0,1,2,3,4], [5,6,7,8,9]]"
      ],
      "execution_count": 122,
      "outputs": []
    },
    {
      "cell_type": "code",
      "metadata": {
        "id": "VbIG5z9EWTsh"
      },
      "source": [
        "cpy_1 = copy.deepcopy(org)"
      ],
      "execution_count": 123,
      "outputs": []
    },
    {
      "cell_type": "code",
      "metadata": {
        "id": "vKVA7MPAXThx"
      },
      "source": [
        "cpy_1[0][1] = -10"
      ],
      "execution_count": 124,
      "outputs": []
    },
    {
      "cell_type": "code",
      "metadata": {
        "colab": {
          "base_uri": "https://localhost:8080/"
        },
        "id": "ggd1M_QcXTpI",
        "outputId": "ea2753a7-733f-4e70-8587-b447bc145843"
      },
      "source": [
        "print(cpy_1, org)"
      ],
      "execution_count": 125,
      "outputs": [
        {
          "output_type": "stream",
          "text": [
            "[[0, -10, 2, 3, 4], [5, 6, 7, 8, 9]] [[0, 1, 2, 3, 4], [5, 6, 7, 8, 9]]\n"
          ],
          "name": "stdout"
        }
      ]
    },
    {
      "cell_type": "code",
      "metadata": {
        "id": "JlyXx2neXkz3"
      },
      "source": [
        "class Person:\n",
        "  def __init__(self, name, age):\n",
        "    self.name = name\n",
        "    self.age = age"
      ],
      "execution_count": 126,
      "outputs": []
    },
    {
      "cell_type": "code",
      "metadata": {
        "id": "lIvcgndqXmOj"
      },
      "source": [
        "p1 = Person('Alex', 25)"
      ],
      "execution_count": 127,
      "outputs": []
    },
    {
      "cell_type": "code",
      "metadata": {
        "id": "kXjfgwUBXmWx"
      },
      "source": [
        "p2 = p1"
      ],
      "execution_count": 128,
      "outputs": []
    },
    {
      "cell_type": "code",
      "metadata": {
        "id": "16lbfTm2Xmh5"
      },
      "source": [
        "p2.age = 48"
      ],
      "execution_count": 129,
      "outputs": []
    },
    {
      "cell_type": "code",
      "metadata": {
        "colab": {
          "base_uri": "https://localhost:8080/"
        },
        "id": "INMEkCwgXmqO",
        "outputId": "bfff7daa-c357-4104-c0d2-1b078b80f381"
      },
      "source": [
        "print(p2.age, p1.age)"
      ],
      "execution_count": 130,
      "outputs": [
        {
          "output_type": "stream",
          "text": [
            "48 48\n"
          ],
          "name": "stdout"
        }
      ]
    },
    {
      "cell_type": "code",
      "metadata": {
        "id": "8sYoPH7sYcLM"
      },
      "source": [
        "p1 = Person('Alex', 25)"
      ],
      "execution_count": 134,
      "outputs": []
    },
    {
      "cell_type": "code",
      "metadata": {
        "id": "sULKiG5tYHfv"
      },
      "source": [
        "P2_2 = copy.copy(p1)"
      ],
      "execution_count": 135,
      "outputs": []
    },
    {
      "cell_type": "code",
      "metadata": {
        "id": "Rjib3_3qYQUq"
      },
      "source": [
        "p2.age = 80"
      ],
      "execution_count": 136,
      "outputs": []
    },
    {
      "cell_type": "code",
      "metadata": {
        "colab": {
          "base_uri": "https://localhost:8080/"
        },
        "id": "Phc_3ltOYSn1",
        "outputId": "45e82468-7ba0-464d-ae57-3fda17291b6d"
      },
      "source": [
        "print(p2.age, p1.age)"
      ],
      "execution_count": 137,
      "outputs": [
        {
          "output_type": "stream",
          "text": [
            "80 25\n"
          ],
          "name": "stdout"
        }
      ]
    },
    {
      "cell_type": "code",
      "metadata": {
        "id": "Qa7khYUzYVis"
      },
      "source": [
        "class Person:\n",
        "  def __init__(self, name, age):\n",
        "    self.name = name\n",
        "    self.age = age\n",
        "\n",
        "class Company:\n",
        "  def __init__(self, boss, employee):\n",
        "    self.boss = boss\n",
        "    self.employee = employee"
      ],
      "execution_count": 139,
      "outputs": []
    },
    {
      "cell_type": "code",
      "metadata": {
        "id": "qPOrRNcAYkwy"
      },
      "source": [
        "p1 = Person('Alex', 55)\n",
        "p2 = Person('Joe', 27)"
      ],
      "execution_count": 140,
      "outputs": []
    },
    {
      "cell_type": "code",
      "metadata": {
        "id": "DYqJG3hkYk5j"
      },
      "source": [
        "company = Company(p1, p2)"
      ],
      "execution_count": 141,
      "outputs": []
    },
    {
      "cell_type": "code",
      "metadata": {
        "id": "nTJIxiZhYlDY"
      },
      "source": [
        "company_clone = copy.copy(company)"
      ],
      "execution_count": 145,
      "outputs": []
    },
    {
      "cell_type": "code",
      "metadata": {
        "id": "ony9AJqPYlSl"
      },
      "source": [
        "company_clone.boss.age = 80"
      ],
      "execution_count": 146,
      "outputs": []
    },
    {
      "cell_type": "code",
      "metadata": {
        "colab": {
          "base_uri": "https://localhost:8080/"
        },
        "id": "UoMjj-WmZxu-",
        "outputId": "819a8e38-781d-4fbb-ec84-b6ca3148c77f"
      },
      "source": [
        "print(company_clone.boss.age, company.boss.age)"
      ],
      "execution_count": 147,
      "outputs": [
        {
          "output_type": "stream",
          "text": [
            "80 80\n"
          ],
          "name": "stdout"
        }
      ]
    },
    {
      "cell_type": "code",
      "metadata": {
        "id": "7IhJgyqdZ57O"
      },
      "source": [
        "p1 = Person('Alex', 55)\n",
        "p2 = Person('Joe', 27)\n",
        "company = Company(p1, p2)"
      ],
      "execution_count": 148,
      "outputs": []
    },
    {
      "cell_type": "code",
      "metadata": {
        "id": "0TidTqOHaCor"
      },
      "source": [
        "company_clone = copy.deepcopy(company)"
      ],
      "execution_count": 149,
      "outputs": []
    },
    {
      "cell_type": "code",
      "metadata": {
        "id": "P4ZLp0riaG7B"
      },
      "source": [
        "company_clone.boss.age = 88"
      ],
      "execution_count": 150,
      "outputs": []
    },
    {
      "cell_type": "code",
      "metadata": {
        "colab": {
          "base_uri": "https://localhost:8080/"
        },
        "id": "YIOv3hGyaKMB",
        "outputId": "726468ab-00fd-4d82-f171-93e9c8cb4df5"
      },
      "source": [
        "print(company_clone.boss.age, company.boss.age)"
      ],
      "execution_count": 151,
      "outputs": [
        {
          "output_type": "stream",
          "text": [
            "88 55\n"
          ],
          "name": "stdout"
        }
      ]
    },
    {
      "cell_type": "code",
      "metadata": {
        "id": "oPzLr_jxaNrc"
      },
      "source": [
        ""
      ],
      "execution_count": null,
      "outputs": []
    },
    {
      "cell_type": "code",
      "metadata": {
        "id": "QVsFGsGXaOyN"
      },
      "source": [
        ""
      ],
      "execution_count": null,
      "outputs": []
    },
    {
      "cell_type": "markdown",
      "metadata": {
        "id": "W5132sudaWLb"
      },
      "source": [
        "# context manager"
      ]
    },
    {
      "cell_type": "code",
      "metadata": {
        "id": "UVd_tC6iaTGG"
      },
      "source": [
        "with open('notes.txt', 'w') as file:\n",
        "  file.write('some words...')"
      ],
      "execution_count": 152,
      "outputs": []
    },
    {
      "cell_type": "code",
      "metadata": {
        "id": "qsRVofL1aO6n"
      },
      "source": [
        "class ManagedFile():\n",
        "  def __init__(self, filename):\n",
        "    self.filename = filename\n",
        "  \n",
        "  def __enter__(self):\n",
        "    print('Enter')\n",
        "    self.file = open(self.filename, 'w')\n",
        "    return self.file\n",
        "\n",
        "  def __exit__(self, exc_type, exc_value, exc_traceback):\n",
        "    if self.file:\n",
        "      self.file.close()\n",
        "    if exc_type is not None:\n",
        "      print('exception has been handled')\n",
        "    print('exc:', exc_type, exc_value)\n",
        "    print('exit')\n",
        "    return True"
      ],
      "execution_count": 159,
      "outputs": []
    },
    {
      "cell_type": "code",
      "metadata": {
        "colab": {
          "base_uri": "https://localhost:8080/"
        },
        "id": "2YpnkF6TaPD0",
        "outputId": "f3e1c532-a6c7-433f-8a5c-6db622688679"
      },
      "source": [
        "with ManagedFile('notes.txt') as file:\n",
        "  print('do something...')\n",
        "  file.write(\"some words...\")\n",
        "  file.somemethod()\n",
        "print('Continue')"
      ],
      "execution_count": 161,
      "outputs": [
        {
          "output_type": "stream",
          "text": [
            "Enter\n",
            "do something...\n",
            "exception has been handled\n",
            "exc: <class 'AttributeError'> '_io.TextIOWrapper' object has no attribute 'somemethod'\n",
            "exit\n",
            "Continue\n"
          ],
          "name": "stdout"
        }
      ]
    },
    {
      "cell_type": "code",
      "metadata": {
        "id": "UcHQH38MaPP_"
      },
      "source": [
        "from contextlib import contextmanager"
      ],
      "execution_count": 162,
      "outputs": []
    },
    {
      "cell_type": "code",
      "metadata": {
        "id": "lVkEVCGde420"
      },
      "source": [
        "@contextmanager\n",
        "\n",
        "def open_managed_file(filename):\n",
        "  f = open(filename, 'w')\n",
        "  try:\n",
        "    yield f\n",
        "  finally:\n",
        "    f.close()"
      ],
      "execution_count": 163,
      "outputs": []
    },
    {
      "cell_type": "code",
      "metadata": {
        "id": "dYRYTQv-fS34"
      },
      "source": [
        "with open_managed_file('notes.txt') as f:\n",
        "  f.write('some words...')"
      ],
      "execution_count": 164,
      "outputs": []
    }
  ]
}